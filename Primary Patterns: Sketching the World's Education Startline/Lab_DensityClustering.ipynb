{
 "cells": [
  {
   "cell_type": "code",
   "execution_count": 38,
   "id": "6b0413d5-a672-40dc-8879-3b12757a2bd7",
   "metadata": {
    "execution": {
     "iopub.execute_input": "2024-02-12T06:16:14.308021Z",
     "iopub.status.busy": "2024-02-12T06:16:14.307242Z",
     "iopub.status.idle": "2024-02-12T06:16:14.319020Z",
     "shell.execute_reply": "2024-02-12T06:16:14.317471Z",
     "shell.execute_reply.started": "2024-02-12T06:16:14.307953Z"
    },
    "tags": []
   },
   "outputs": [],
   "source": [
    "import numpy as np\n",
    "import pandas as pd\n",
    "import matplotlib.pyplot as plt\n",
    "from sklearn.cluster import OPTICS, cluster_optics_dbscan\n",
    "from sklearn.cluster import DBSCAN\n",
    "from scipy.spatial.distance import euclidean\n",
    "import plotly.graph_objs as go\n",
    "import seaborn as sns\n",
    "plt.ioff();"
   ]
  },
  {
   "cell_type": "code",
   "execution_count": 19,
   "id": "48cfb88b-3c4b-44bf-9326-f283d71a6e3e",
   "metadata": {
    "execution": {
     "iopub.execute_input": "2024-02-12T06:12:33.198657Z",
     "iopub.status.busy": "2024-02-12T06:12:33.197912Z",
     "iopub.status.idle": "2024-02-12T06:12:45.900581Z",
     "shell.execute_reply": "2024-02-12T06:12:45.896866Z",
     "shell.execute_reply.started": "2024-02-12T06:12:33.198592Z"
    },
    "tags": []
   },
   "outputs": [],
   "source": [
    "%run 'Lab_preprocess.ipynb'"
   ]
  },
  {
   "cell_type": "code",
   "execution_count": 23,
   "id": "6a99e990-c589-45ce-b8a5-a70331dadabf",
   "metadata": {
    "execution": {
     "iopub.execute_input": "2024-02-12T06:12:45.936990Z",
     "iopub.status.busy": "2024-02-12T06:12:45.935869Z",
     "iopub.status.idle": "2024-02-12T06:12:45.942510Z",
     "shell.execute_reply": "2024-02-12T06:12:45.941196Z",
     "shell.execute_reply.started": "2024-02-12T06:12:45.936949Z"
    },
    "tags": []
   },
   "outputs": [],
   "source": [
    "test = country_pca.iloc[:, 0:2]"
   ]
  },
  {
   "cell_type": "code",
   "execution_count": 24,
   "id": "a69580c1-d457-4274-89ad-e95cb69c206b",
   "metadata": {
    "execution": {
     "iopub.execute_input": "2024-02-12T06:12:45.990340Z",
     "iopub.status.busy": "2024-02-12T06:12:45.944439Z",
     "iopub.status.idle": "2024-02-12T06:12:46.002969Z",
     "shell.execute_reply": "2024-02-12T06:12:46.000655Z",
     "shell.execute_reply.started": "2024-02-12T06:12:45.990267Z"
    },
    "tags": []
   },
   "outputs": [],
   "source": [
    "def get_kdist(k, data):\n",
    "    \"\"\"\n",
    "    Calculate the kth smallest Euclidean distances for each point in a dataset.\n",
    "\n",
    "    Parameters\n",
    "    ----------\n",
    "    k : int\n",
    "        The index of the nearest neighbor to consider\n",
    "    data : array_like\n",
    "        A 2D array where each row represents a data point and \n",
    "        columns are features.\n",
    "\n",
    "    Returns\n",
    "    -------\n",
    "    list\n",
    "        A list of the kth smallest distances for each point in the dataset,\n",
    "        sorted in descending order.\n",
    "\n",
    "    \"\"\"\n",
    "    k_distances = []\n",
    "    for i in range(len(data)):\n",
    "        distances = []\n",
    "        for j in range(len(data)):\n",
    "            if i != j:\n",
    "                dist = euclidean(data[i], data[j])\n",
    "                distances.append(dist)\n",
    "        distances.sort()\n",
    "        k_distances.append(distances[k-1])\n",
    "    return sorted(k_distances, reverse=True)"
   ]
  },
  {
   "cell_type": "code",
   "execution_count": 46,
   "id": "2baf5fd7-2102-4d02-9579-b67943c87c3f",
   "metadata": {
    "execution": {
     "iopub.execute_input": "2024-02-13T14:15:31.402253Z",
     "iopub.status.busy": "2024-02-13T14:15:31.401456Z",
     "iopub.status.idle": "2024-02-13T14:15:31.422230Z",
     "shell.execute_reply": "2024-02-13T14:15:31.420498Z",
     "shell.execute_reply.started": "2024-02-13T14:15:31.402160Z"
    },
    "tags": []
   },
   "outputs": [],
   "source": [
    "def db_dist():\n",
    "    \"\"\"\n",
    "    Plot the kth smallest distances for a range of k values from a dataset.\n",
    "\n",
    "    \"\"\"\n",
    "    fig, axs = plt.subplots(5, 1, figsize=(10, 15))  # 5 rows, 1 column\n",
    "\n",
    "    for i, k in enumerate(range(2, 7)):\n",
    "        # Calculate the distances for each k\n",
    "        distances = get_kdist(k, test.values)\n",
    "\n",
    "        # Plot the distances in a subplot\n",
    "        axs[i].plot(distances, color='#205e55')\n",
    "        axs[i].set_title(f'k = {k}')\n",
    "        axs[i].set_xlabel('Point')\n",
    "        axs[i].set_ylabel('Distance')\n",
    "\n",
    "    plt.tight_layout()  # Adjust the layout\n",
    "    plt.show()"
   ]
  },
  {
   "cell_type": "code",
   "execution_count": 48,
   "id": "5b9e2f60-149d-4914-8e87-e89021bb09e1",
   "metadata": {
    "execution": {
     "iopub.execute_input": "2024-02-13T14:16:37.095915Z",
     "iopub.status.busy": "2024-02-13T14:16:37.095173Z",
     "iopub.status.idle": "2024-02-13T14:16:37.117689Z",
     "shell.execute_reply": "2024-02-13T14:16:37.115409Z",
     "shell.execute_reply.started": "2024-02-13T14:16:37.095849Z"
    },
    "tags": []
   },
   "outputs": [],
   "source": [
    "dbscan = DBSCAN(eps=38, min_samples=11)\n",
    "cluster_labels = dbscan.fit_predict(country_pca)\n",
    "\n",
    "\n",
    "def db_scatter():\n",
    "    \"\"\"\n",
    "    Generate a scatter plot of clustered data with custom color mapping.\n",
    "\n",
    "    Returns\n",
    "    -------\n",
    "    Figure\n",
    "        A matplotlib Figure object containing the scatter plot.\n",
    "\n",
    "    \"\"\"\n",
    "\n",
    "    custom_colors = ['#205e55', '#8e9b8c']\n",
    "    fig, ax = plt.subplots(figsize=(10, 6))\n",
    "    # Create a list of colors for each label\n",
    "    color_mapped = [custom_colors[label] for label in cluster_labels]\n",
    "\n",
    "    plt.scatter(country_pca.iloc[:, 0], country_pca.iloc[:, 1],\n",
    "                c=color_mapped)\n",
    "    # plt.gca().set_aspect(\"equal\")\n",
    "    plt.tight_layout()\n",
    "    return fig"
   ]
  },
  {
   "cell_type": "code",
   "execution_count": 42,
   "id": "55ce3f30-4f4f-4cd8-8665-19ed34458726",
   "metadata": {
    "execution": {
     "iopub.execute_input": "2024-02-12T06:16:25.271285Z",
     "iopub.status.busy": "2024-02-12T06:16:25.270335Z",
     "iopub.status.idle": "2024-02-12T06:16:25.351497Z",
     "shell.execute_reply": "2024-02-12T06:16:25.350683Z",
     "shell.execute_reply.started": "2024-02-12T06:16:25.271195Z"
    },
    "tags": []
   },
   "outputs": [],
   "source": [
    "dbscatter = db_scatter()"
   ]
  },
  {
   "cell_type": "code",
   "execution_count": 11,
   "id": "6fc77d8f-61e8-46da-89af-1e46120f7b3b",
   "metadata": {
    "execution": {
     "iopub.execute_input": "2024-02-11T15:08:30.575296Z",
     "iopub.status.busy": "2024-02-11T15:08:30.574971Z",
     "iopub.status.idle": "2024-02-11T15:08:30.588036Z",
     "shell.execute_reply": "2024-02-11T15:08:30.586678Z",
     "shell.execute_reply.started": "2024-02-11T15:08:30.575266Z"
    },
    "tags": []
   },
   "outputs": [],
   "source": [
    "def plotting(x, y, z, labels):\n",
    "    \"\"\"\n",
    "    Generate a 3D scatter plot of data points with custom color mapping.\n",
    "\n",
    "    Parameters\n",
    "    ----------\n",
    "    x : array_like\n",
    "        The x-coordinates of the data points.\n",
    "    y : array_like\n",
    "        The y-coordinates of the data points.\n",
    "    z : array_like\n",
    "        The z-coordinates of the data points.\n",
    "    labels : array_like\n",
    "        Cluster labels for each data point.\n",
    "\n",
    "    Returns\n",
    "    -------\n",
    "    Figure\n",
    "        A Plotly Figure object containing the 3D scatter plot.\n",
    "\n",
    "    \"\"\"\n",
    "    x = x\n",
    "    y = y\n",
    "    z = z\n",
    "\n",
    "    custom_colors = ['#205e55', 'black']\n",
    "\n",
    "    # Create a list of colors for each label\n",
    "    color_mapped = [custom_colors[label] for label in labels]\n",
    "\n",
    "    trace_data = go.Scatter3d(\n",
    "        x=x,\n",
    "        y=y,\n",
    "        z=z,\n",
    "        mode='markers',\n",
    "        marker=dict(\n",
    "            size=8,\n",
    "            color=color_mapped,  # set color to an array/list of desired values\n",
    "            colorscale='Viridis',  # choose a colorscale\n",
    "            opacity=0.8\n",
    "        )\n",
    "    )\n",
    "\n",
    "    data = [trace_data]\n",
    "\n",
    "    layout = go.Layout(\n",
    "        margin=dict(l=0, r=0, b=0, t=0),  # tight layout\n",
    "        title='K-Medoids: Scatter Plot',\n",
    "        scene=dict(\n",
    "            xaxis=dict(title='PCA 1'),\n",
    "            yaxis=dict(title='PCA 2'),\n",
    "            zaxis=dict(title='PCA 3')\n",
    "        )\n",
    "    )\n",
    "\n",
    "    fig = go.Figure(data=data, layout=layout)\n",
    "\n",
    "    # Render the plot\n",
    "    return fig"
   ]
  },
  {
   "cell_type": "code",
   "execution_count": 12,
   "id": "63f8ca3b-2c40-49d6-8f70-644e9fed262b",
   "metadata": {
    "execution": {
     "iopub.execute_input": "2024-02-11T15:08:30.589319Z",
     "iopub.status.busy": "2024-02-11T15:08:30.589063Z",
     "iopub.status.idle": "2024-02-11T15:08:30.635412Z",
     "shell.execute_reply": "2024-02-11T15:08:30.634652Z",
     "shell.execute_reply.started": "2024-02-11T15:08:30.589295Z"
    },
    "tags": []
   },
   "outputs": [],
   "source": [
    "db_3d = plotting(country_pca.iloc[:, 0], country_pca.iloc[:, 1],\n",
    "                 country_pca.iloc[:, 2], cluster_labels)"
   ]
  },
  {
   "cell_type": "code",
   "execution_count": 13,
   "id": "8494cdad-af4e-406f-8a7b-324a13720de7",
   "metadata": {
    "execution": {
     "iopub.execute_input": "2024-02-11T15:08:30.636634Z",
     "iopub.status.busy": "2024-02-11T15:08:30.636372Z",
     "iopub.status.idle": "2024-02-11T15:08:30.642577Z",
     "shell.execute_reply": "2024-02-11T15:08:30.641848Z",
     "shell.execute_reply.started": "2024-02-11T15:08:30.636609Z"
    },
    "tags": []
   },
   "outputs": [],
   "source": [
    "df_final['label'] = cluster_labels\n",
    "df_graph = df_final.iloc[:, 2:]"
   ]
  },
  {
   "cell_type": "code",
   "execution_count": 50,
   "id": "f95c24cf-00a0-4d71-95b7-1a31fea2f305",
   "metadata": {
    "execution": {
     "iopub.execute_input": "2024-02-13T14:22:20.569210Z",
     "iopub.status.busy": "2024-02-13T14:22:20.568395Z",
     "iopub.status.idle": "2024-02-13T14:22:20.595810Z",
     "shell.execute_reply": "2024-02-13T14:22:20.594385Z",
     "shell.execute_reply.started": "2024-02-13T14:22:20.569142Z"
    },
    "tags": []
   },
   "outputs": [],
   "source": [
    "grouped = df_graph.groupby('label')\n",
    "min_values = grouped.min()\n",
    "max_values = grouped.max()\n",
    "mean_values = grouped.mean()\n",
    "\n",
    "\n",
    "def db_range_plot():\n",
    "    \"\"\"\n",
    "    Generate range plots for different features by labels.\n",
    "\n",
    "    Returns\n",
    "    -------\n",
    "    Figure\n",
    "        A matplotlib Figure object with the range plots.\n",
    "\n",
    "    \"\"\"\n",
    "    fig, axes = plt.subplots(5, 5, figsize=(15, 2 * 5))\n",
    "    axes = axes.flatten()  # Flatten the array of axes\n",
    "\n",
    "    labels = [-1, 0]\n",
    "    colors = ['#205e55', '#8e9b8c']  # Different color for each label\n",
    "\n",
    "    # Loop through each feature column to create a range bar\n",
    "    for i, col in enumerate(df_graph.columns[:-1]):  # Exclude the label column\n",
    "        ax = axes[i]\n",
    "        bar_height = 0.5  # The height of the bars\n",
    "        for j, label in enumerate(labels):\n",
    "            # Plotting the range as a horizontal bar\n",
    "            ax.barh(\n",
    "                y=label,\n",
    "                width=max_values[col][label] - min_values[col][label],\n",
    "                left=min_values[col][label],\n",
    "                height=bar_height,\n",
    "                color=colors[j],\n",
    "                edgecolor='black',\n",
    "                label=f'Label {label}' if i % (len(labels) * 2) == 0 else \"\"\n",
    "            )\n",
    "            # Plotting the mean as a short horizontal line, inside the bar\n",
    "            mean_value = mean_values[col][label]\n",
    "            ax.plot(\n",
    "                [mean_value, mean_value],  # X start and end of the line\n",
    "                [label - bar_height / 2, label + bar_height / 2],\n",
    "                color='black',  # Color of the mean line\n",
    "                linestyle='--',  # Style of the line\n",
    "                linewidth=2,  # Width of the line\n",
    "                label=f'Mean for Label {label}' if i == 0 else \"\"\n",
    "            )\n",
    "\n",
    "        ax.set_title(f'Range for {col}')\n",
    "        ax.set_yticks(labels)\n",
    "        ax.set_yticklabels(labels)\n",
    "        ax.set_ylim(min(labels) - bar_height, max(labels) + bar_height)\n",
    "\n",
    "    plt.tight_layout()  # Adjust the layout\n",
    "    return fig"
   ]
  },
  {
   "cell_type": "code",
   "execution_count": 44,
   "id": "835826cf-8bfd-4a71-abbd-225066ca7176",
   "metadata": {
    "execution": {
     "iopub.execute_input": "2024-02-12T06:16:56.856704Z",
     "iopub.status.busy": "2024-02-12T06:16:56.855966Z",
     "iopub.status.idle": "2024-02-12T06:16:57.569085Z",
     "shell.execute_reply": "2024-02-12T06:16:57.568078Z",
     "shell.execute_reply.started": "2024-02-12T06:16:56.856637Z"
    },
    "tags": []
   },
   "outputs": [],
   "source": [
    "db_range = db_range_plot()"
   ]
  },
  {
   "cell_type": "code",
   "execution_count": 15,
   "id": "a34e13c0-9c24-48fe-a845-7eb5ea41466d",
   "metadata": {
    "execution": {
     "iopub.execute_input": "2024-02-11T15:08:30.662889Z",
     "iopub.status.busy": "2024-02-11T15:08:30.662632Z",
     "iopub.status.idle": "2024-02-11T15:08:30.802485Z",
     "shell.execute_reply": "2024-02-11T15:08:30.800985Z",
     "shell.execute_reply.started": "2024-02-11T15:08:30.662864Z"
    },
    "tags": []
   },
   "outputs": [],
   "source": [
    "def db_box_plot():\n",
    "    \"\"\"\n",
    "    Generate box plots for different features by labels.\n",
    "\n",
    "    Returns\n",
    "    -------\n",
    "    Figure\n",
    "        A matplotlib Figure object with the range plots.\n",
    "\n",
    "    \"\"\"\n",
    "    fig, axes = plt.subplots(nrows=9, ncols=3, figsize=(15, 3*13))\n",
    "\n",
    "    axes = axes.flatten()  # Flatten the 2D array of axes for easy iteration\n",
    "\n",
    "    # Assuming 'df_graph' is your DataFrame and the last column is 'label'\n",
    "    feature_columns = df_graph.columns[:-1]  # Exclude the label column\n",
    "\n",
    "    colors = ['#205e55', '#8e9b8c']\n",
    "    # Loop through each feature column to create a box plot\n",
    "    for i, col in enumerate(feature_columns):\n",
    "        sns.boxplot(x='label', y=col, data=df_graph, ax=axes[i],\n",
    "                    palette=colors,\n",
    "                    hue='label', legend=False)\n",
    "        axes[i].set_title(f'Boxplot of {col}')\n",
    "        axes[i].set_xlabel('Label')\n",
    "        axes[i].set_ylabel('Value')\n",
    "\n",
    "    # So we remove it or make it invisible\n",
    "    if len(df_graph.columns) % 3 != 0:\n",
    "        fig.delaxes(axes[-1])\n",
    "        fig.delaxes(axes[-2])\n",
    "\n",
    "    # Adjust the layout\n",
    "    plt.tight_layout()\n",
    "\n",
    "    # Display the plot\n",
    "    plt.show()"
   ]
  }
 ],
 "metadata": {
  "kernelspec": {
   "display_name": "Python 3 (ipykernel)",
   "language": "python",
   "name": "python3"
  },
  "language_info": {
   "codemirror_mode": {
    "name": "ipython",
    "version": 3
   },
   "file_extension": ".py",
   "mimetype": "text/x-python",
   "name": "python",
   "nbconvert_exporter": "python",
   "pygments_lexer": "ipython3",
   "version": "3.10.12"
  }
 },
 "nbformat": 4,
 "nbformat_minor": 5
}
