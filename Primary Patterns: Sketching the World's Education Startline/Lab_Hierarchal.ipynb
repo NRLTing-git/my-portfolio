{
 "cells": [
  {
   "cell_type": "code",
   "execution_count": 74,
   "id": "0584056b-18b0-4523-ad26-7f3a3caf78ff",
   "metadata": {
    "execution": {
     "iopub.execute_input": "2024-02-12T05:52:39.128230Z",
     "iopub.status.busy": "2024-02-12T05:52:39.127452Z",
     "iopub.status.idle": "2024-02-12T05:52:39.160194Z",
     "shell.execute_reply": "2024-02-12T05:52:39.159022Z",
     "shell.execute_reply.started": "2024-02-12T05:52:39.128166Z"
    },
    "tags": []
   },
   "outputs": [],
   "source": [
    "from scipy.cluster.hierarchy import dendrogram, linkage\n",
    "import pandas as pd\n",
    "import numpy as np\n",
    "import matplotlib.pyplot as plt\n",
    "from sklearn.cluster import AgglomerativeClustering\n",
    "import plotly.graph_objs as go\n",
    "import seaborn as sns\n",
    "plt.ioff()\n",
    "plt.clf()"
   ]
  },
  {
   "cell_type": "code",
   "execution_count": 75,
   "id": "c5a16bba-43c2-48f3-b32e-310d97b37378",
   "metadata": {
    "execution": {
     "iopub.execute_input": "2024-02-12T05:52:40.070573Z",
     "iopub.status.busy": "2024-02-12T05:52:40.069790Z",
     "iopub.status.idle": "2024-02-12T05:52:51.794950Z",
     "shell.execute_reply": "2024-02-12T05:52:51.792510Z",
     "shell.execute_reply.started": "2024-02-12T05:52:40.070508Z"
    },
    "tags": []
   },
   "outputs": [],
   "source": [
    "%run 'Lab_preprocess.ipynb'"
   ]
  },
  {
   "cell_type": "code",
   "execution_count": 142,
   "id": "c670654e-3f1b-4e0b-ab15-3ee5dc2eb1e3",
   "metadata": {
    "execution": {
     "iopub.execute_input": "2024-02-12T10:42:40.105032Z",
     "iopub.status.busy": "2024-02-12T10:42:40.104248Z",
     "iopub.status.idle": "2024-02-12T10:42:40.122535Z",
     "shell.execute_reply": "2024-02-12T10:42:40.121091Z",
     "shell.execute_reply.started": "2024-02-12T10:42:40.104967Z"
    },
    "tags": []
   },
   "outputs": [],
   "source": [
    "def plot1(Z):\n",
    "    \"\"\"\n",
    "    Generate a dendrogram plot from hierarchical clustering data.\n",
    "\n",
    "    Parameters\n",
    "    ----------\n",
    "    Z : array_like\n",
    "        The hierarchical clustering encoded as a linkage matrix.\n",
    "\n",
    "    Returns\n",
    "    -------\n",
    "    Figure\n",
    "        A matplotlib Figure object containing the dendrogram plot.\n",
    "    \"\"\"\n",
    "    fig, ax = plt.subplots(figsize=(10, 6))\n",
    "    dn = dendrogram(Z, truncate_mode='level', p=5, ax=ax)\n",
    "    colors = ['#205e55', '#8e9b8c', '#7cb79d']\n",
    "    for i, d in enumerate(dn['dcoord']):\n",
    "        color = colors[i % len(colors)]  # Cycle through your colors\n",
    "        x = dn['icoord'][i]\n",
    "        ax.plot(x, d, color=color)\n",
    "    ax.set_ylabel(r\"$\\Delta$\")\n",
    "    plt.title('Condensed Dendrogram with at most 5 levels')\n",
    "    plt.tight_layout()\n",
    "    return fig"
   ]
  },
  {
   "cell_type": "code",
   "execution_count": 147,
   "id": "d9a34153-1e1f-40c6-bc3b-a7da9274c04f",
   "metadata": {
    "execution": {
     "iopub.execute_input": "2024-02-12T11:01:53.241822Z",
     "iopub.status.busy": "2024-02-12T11:01:53.240882Z",
     "iopub.status.idle": "2024-02-12T11:01:53.256231Z",
     "shell.execute_reply": "2024-02-12T11:01:53.254384Z",
     "shell.execute_reply.started": "2024-02-12T11:01:53.241755Z"
    },
    "tags": []
   },
   "outputs": [],
   "source": [
    "def dendro_plot():\n",
    "    \"\"\"\n",
    "    Generate a dendrogram plot of clustered data.\n",
    "\n",
    "    Returns\n",
    "    -------\n",
    "    Figure\n",
    "        A matplotlib Figure object containing the dendrogram plot.\n",
    "\n",
    "    \"\"\"\n",
    "    Z = linkage(country_pca, method='ward', optimal_ordering=True)\n",
    "    fig, ax = plt.subplots(figsize=(10, 6))\n",
    "    dn = dendrogram(Z, ax=ax)\n",
    "    colors = ['#205e55', '#8e9b8c', '#7cb79d']\n",
    "    for i, d in enumerate(dn['dcoord']):\n",
    "        color = colors[i % len(colors)]  # Cycle through your colors\n",
    "        x = dn['icoord'][i]\n",
    "        ax.plot(x, d, color=color)\n",
    "    ax.set_ylabel(r\"$h$\")\n",
    "    plt.tight_layout()\n",
    "    plt.title('Original Dendrogram')\n",
    "    return fig"
   ]
  },
  {
   "cell_type": "code",
   "execution_count": 146,
   "id": "c91fd289-f364-445f-8ba8-b865a6ec6ac5",
   "metadata": {
    "execution": {
     "iopub.execute_input": "2024-02-12T11:01:32.701901Z",
     "iopub.status.busy": "2024-02-12T11:01:32.700950Z",
     "iopub.status.idle": "2024-02-12T11:01:33.694963Z",
     "shell.execute_reply": "2024-02-12T11:01:33.694040Z",
     "shell.execute_reply.started": "2024-02-12T11:01:32.701833Z"
    },
    "tags": []
   },
   "outputs": [],
   "source": [
    "dendro_original = dendro_plot();"
   ]
  },
  {
   "cell_type": "code",
   "execution_count": 119,
   "id": "0fa4a9e7-7cd3-4651-8a30-e022f24586de",
   "metadata": {
    "execution": {
     "iopub.execute_input": "2024-02-12T06:08:56.846329Z",
     "iopub.status.busy": "2024-02-12T06:08:56.844783Z",
     "iopub.status.idle": "2024-02-12T06:08:57.024229Z",
     "shell.execute_reply": "2024-02-12T06:08:57.022621Z",
     "shell.execute_reply.started": "2024-02-12T06:08:56.846262Z"
    },
    "tags": []
   },
   "outputs": [],
   "source": [
    "Z = linkage(country_pca, method='ward', optimal_ordering=True)\n",
    "dendrogram_levelled = plot1(Z);"
   ]
  },
  {
   "cell_type": "code",
   "execution_count": 81,
   "id": "48d8ed61-70dd-4549-8950-cb7a57b1f4d1",
   "metadata": {
    "execution": {
     "iopub.execute_input": "2024-02-12T05:52:54.844167Z",
     "iopub.status.busy": "2024-02-12T05:52:54.843240Z",
     "iopub.status.idle": "2024-02-12T05:52:54.860658Z",
     "shell.execute_reply": "2024-02-12T05:52:54.858512Z",
     "shell.execute_reply.started": "2024-02-12T05:52:54.844101Z"
    },
    "tags": []
   },
   "outputs": [],
   "source": [
    "def plotting(x, y, z, labels):\n",
    "    \"\"\"\n",
    "    Generate a 3D scatter plot of data points with custom color mapping.\n",
    "\n",
    "    Parameters\n",
    "    ----------\n",
    "    x : array_like\n",
    "        The x-coordinates of the data points.\n",
    "    y : array_like\n",
    "        The y-coordinates of the data points.\n",
    "    z : array_like\n",
    "        The z-coordinates of the data points.\n",
    "    labels : array_like\n",
    "        Cluster labels for each data point.\n",
    "\n",
    "    Returns\n",
    "    -------\n",
    "    Figure\n",
    "        A Plotly Figure object containing the 3D scatter plot.\n",
    "\n",
    "    \"\"\"\n",
    "    x = x\n",
    "    y = y\n",
    "    z = z\n",
    "\n",
    "    custom_colors = ['#205e55', '#8e9b8c', '#7cb79d']\n",
    "\n",
    "    # Create a list of colors for each label\n",
    "    color_mapped = [custom_colors[label] for label in labels]\n",
    "\n",
    "    trace_data = go.Scatter3d(\n",
    "        x=x,\n",
    "        y=y,\n",
    "        z=z,\n",
    "        mode='markers',\n",
    "        marker=dict(\n",
    "            size=8,\n",
    "            color=color_mapped,  # set color to an array/list of desired values\n",
    "            colorscale='Viridis',  # choose a colorscale\n",
    "            opacity=0.8\n",
    "        )\n",
    "    )\n",
    "\n",
    "    data = [trace_data]\n",
    "\n",
    "    layout = go.Layout(\n",
    "        margin=dict(l=0, r=0, b=0, t=0),  # tight layout\n",
    "        title='K-Medoids: Scatter Plot',\n",
    "        scene=dict(\n",
    "            xaxis=dict(title='PCA 1'),\n",
    "            yaxis=dict(title='PCA 2'),\n",
    "            zaxis=dict(title='PCA 3')\n",
    "        )\n",
    "    )\n",
    "\n",
    "    fig = go.Figure(data=data, layout=layout)\n",
    "\n",
    "    # Render the plot\n",
    "    return fig"
   ]
  },
  {
   "cell_type": "code",
   "execution_count": 113,
   "id": "63c83fbf-e0c5-483c-ac19-acaee9f5a984",
   "metadata": {
    "execution": {
     "iopub.execute_input": "2024-02-12T06:04:33.003218Z",
     "iopub.status.busy": "2024-02-12T06:04:33.002469Z",
     "iopub.status.idle": "2024-02-12T06:04:33.021822Z",
     "shell.execute_reply": "2024-02-12T06:04:33.020105Z",
     "shell.execute_reply.started": "2024-02-12T06:04:33.003154Z"
    },
    "tags": []
   },
   "outputs": [],
   "source": [
    "agg = AgglomerativeClustering(n_clusters=None, linkage=\"ward\",\n",
    "                              distance_threshold=400)\n",
    "y_predict_country_com = agg.fit_predict(country_pca)\n",
    "\n",
    "\n",
    "def comp_scatter(y_predict_country_com):\n",
    "    \"\"\"\n",
    "    Generate a scatter plot of clustered data with custom color mapping.\n",
    "\n",
    "    Returns\n",
    "    -------\n",
    "    Figure\n",
    "        A matplotlib Figure object containing the scatter plot.\n",
    "\n",
    "    \"\"\"\n",
    "\n",
    "    custom_colors = ['#205e55', '#8e9b8c']\n",
    "    color_mapped = [custom_colors[label] for label in y_predict_country_com]\n",
    "\n",
    "    # Create a figure with specified size\n",
    "    fig, ax = plt.subplots(figsize=(10, 6))\n",
    "\n",
    "    # Scatter plot on the axes\n",
    "    ax.scatter(country_pca.iloc[:, 0], country_pca.iloc[:, 1], c=color_mapped)\n",
    "\n",
    "    # Return the figure object\n",
    "    plt.title('Ward Linkage')\n",
    "    plt.tight_layout()\n",
    "    return fig"
   ]
  },
  {
   "cell_type": "code",
   "execution_count": 101,
   "id": "a6d574d4-7281-4ed9-9e2b-c4b196f01524",
   "metadata": {
    "execution": {
     "iopub.execute_input": "2024-02-12T05:58:29.278406Z",
     "iopub.status.busy": "2024-02-12T05:58:29.277655Z",
     "iopub.status.idle": "2024-02-12T05:58:29.355679Z",
     "shell.execute_reply": "2024-02-12T05:58:29.354257Z",
     "shell.execute_reply.started": "2024-02-12T05:58:29.278344Z"
    },
    "tags": []
   },
   "outputs": [],
   "source": [
    "ward = comp_scatter(y_predict_country_com)"
   ]
  },
  {
   "cell_type": "code",
   "execution_count": 103,
   "id": "db43312d-e144-4bc4-ae74-f9f0398d93b7",
   "metadata": {
    "execution": {
     "iopub.execute_input": "2024-02-12T05:58:34.894034Z",
     "iopub.status.busy": "2024-02-12T05:58:34.893283Z",
     "iopub.status.idle": "2024-02-12T05:58:34.919036Z",
     "shell.execute_reply": "2024-02-12T05:58:34.917516Z",
     "shell.execute_reply.started": "2024-02-12T05:58:34.893970Z"
    },
    "tags": []
   },
   "outputs": [],
   "source": [
    "comp_3d = plotting(country_pca.iloc[:, 0], country_pca.iloc[:, 1],\n",
    "                   country_pca.iloc[:, 2], y_predict_country_com)"
   ]
  },
  {
   "cell_type": "markdown",
   "id": "fd31f506-70aa-4f24-a8e6-be3e5c1f911f",
   "metadata": {},
   "source": [
    "For Complete"
   ]
  },
  {
   "cell_type": "code",
   "execution_count": 105,
   "id": "b6520620-7e07-4487-9ec2-beba568fc3bf",
   "metadata": {
    "execution": {
     "iopub.execute_input": "2024-02-12T05:58:57.987709Z",
     "iopub.status.busy": "2024-02-12T05:58:57.986960Z",
     "iopub.status.idle": "2024-02-12T05:58:57.999159Z",
     "shell.execute_reply": "2024-02-12T05:58:57.997375Z",
     "shell.execute_reply.started": "2024-02-12T05:58:57.987645Z"
    },
    "tags": []
   },
   "outputs": [],
   "source": [
    "df_final['label'] = y_predict_country_com\n",
    "df_graph = df_final.iloc[:, 2:]"
   ]
  },
  {
   "cell_type": "code",
   "execution_count": 150,
   "id": "5fc53f9d-a201-4ffe-b54a-c977b6ac0765",
   "metadata": {
    "execution": {
     "iopub.execute_input": "2024-02-13T14:20:32.031044Z",
     "iopub.status.busy": "2024-02-13T14:20:32.030274Z",
     "iopub.status.idle": "2024-02-13T14:20:32.056495Z",
     "shell.execute_reply": "2024-02-13T14:20:32.054764Z",
     "shell.execute_reply.started": "2024-02-13T14:20:32.030979Z"
    },
    "tags": []
   },
   "outputs": [],
   "source": [
    "# Compute the min and max for each column grouped by the label\n",
    "grouped = df_graph.groupby('label')\n",
    "min_values = grouped.min()\n",
    "max_values = grouped.max()\n",
    "mean_values = grouped.mean()\n",
    "\n",
    "\n",
    "def comp_range_plot():\n",
    "    \"\"\"\n",
    "    Generate range plots for different features by labels.\n",
    "\n",
    "    Returns\n",
    "    -------\n",
    "    Figure\n",
    "        A matplotlib Figure object with the range plots.\n",
    "\n",
    "    \"\"\"\n",
    "    fig, axes = plt.subplots(5, 5, figsize=(15, 2 * 5))\n",
    "    axes = axes.flatten()  # Flatten the array of axes\n",
    "\n",
    "    labels = [0, 1]\n",
    "    colors = ['#205e55', '#8e9b8c']  # Different color for each label\n",
    "\n",
    "    # Loop through each feature column to create a range bar\n",
    "    for i, col in enumerate(df_graph.columns[:-1]):  # Exclude the label column\n",
    "        ax = axes[i]\n",
    "        bar_height = 0.5  # The height of the bars\n",
    "        for j, label in enumerate(labels):\n",
    "            # Plotting the range as a horizontal bar\n",
    "            ax.barh(\n",
    "                y=label,\n",
    "                width=max_values[col][label] - min_values[col][label],\n",
    "                left=min_values[col][label],\n",
    "                height=bar_height,\n",
    "                color=colors[j],\n",
    "                edgecolor='black',\n",
    "                label=f'Label {label}' if i % (len(labels) * 2) == 0 else \"\"\n",
    "            )\n",
    "            # Plotting the mean as a short horizontal line, inside the bar\n",
    "            mean_value = mean_values[col][label]\n",
    "            ax.plot(\n",
    "                [mean_value, mean_value],  # X start and end of the line\n",
    "                [label - bar_height / 2, label + bar_height / 2],\n",
    "                color='black',  # Color of the mean line\n",
    "                linestyle='--',  # Style of the line\n",
    "                linewidth=2,  # Width of the line\n",
    "                label=f'Mean for Label {label}' if i == 0 else \"\"\n",
    "            )\n",
    "\n",
    "        ax.set_title(f'Range for {col}')\n",
    "        ax.set_yticks(labels)\n",
    "        ax.set_yticklabels(labels)\n",
    "        ax.set_ylim(min(labels) - bar_height, max(labels) + bar_height)\n",
    "\n",
    "    plt.tight_layout()  # Adjust the layout\n",
    "    return fig"
   ]
  },
  {
   "cell_type": "code",
   "execution_count": 110,
   "id": "8554d228-ee6b-4816-8767-f938c8eacc7c",
   "metadata": {
    "execution": {
     "iopub.execute_input": "2024-02-12T05:59:21.401076Z",
     "iopub.status.busy": "2024-02-12T05:59:21.400248Z",
     "iopub.status.idle": "2024-02-12T05:59:22.136231Z",
     "shell.execute_reply": "2024-02-12T05:59:22.135231Z",
     "shell.execute_reply.started": "2024-02-12T05:59:21.401009Z"
    },
    "tags": []
   },
   "outputs": [],
   "source": [
    "ward_range = comp_range_plot();"
   ]
  },
  {
   "cell_type": "code",
   "execution_count": 148,
   "id": "352f4a7b-6d3a-4089-b79c-fb6813b55663",
   "metadata": {
    "execution": {
     "iopub.execute_input": "2024-02-13T14:19:54.290929Z",
     "iopub.status.busy": "2024-02-13T14:19:54.289396Z",
     "iopub.status.idle": "2024-02-13T14:19:54.310175Z",
     "shell.execute_reply": "2024-02-13T14:19:54.308419Z",
     "shell.execute_reply.started": "2024-02-13T14:19:54.290838Z"
    },
    "tags": []
   },
   "outputs": [],
   "source": [
    "def comp_box_plot():\n",
    "    \"\"\"\n",
    "    Generate box plots for different features by labels.\n",
    "\n",
    "    Returns\n",
    "    -------\n",
    "    Figure\n",
    "        A matplotlib Figure object with the range plots.\n",
    "\n",
    "    \"\"\"\n",
    "    fig, axes = plt.subplots(nrows=5, ncols=5, figsize=(15, 2*5))\n",
    "\n",
    "    axes = axes.flatten()  # Flatten the 2D array of axes for easy iteration\n",
    "\n",
    "    # Assuming 'df_graph' is your DataFrame and the last column is 'label'\n",
    "    feature_columns = df_graph.columns[:-1]  # Exclude the label column\n",
    "\n",
    "    colors = ['#205e55', '#8e9b8c']\n",
    "    # Loop through each feature column to create a box plot\n",
    "    for i, col in enumerate(feature_columns):\n",
    "        sns.boxplot(x='label', y=col, data=df_graph, ax=axes[i],\n",
    "                    palette=colors,\n",
    "                    hue='label', legend=False)\n",
    "        axes[i].set_title(f'Values of {col}')\n",
    "        axes[i].set_xlabel('Label')\n",
    "        axes[i].set_ylabel('Value')\n",
    "    plt.tight_layout()\n",
    "\n",
    "    # Display the plot\n",
    "    plt.show()"
   ]
  },
  {
   "cell_type": "code",
   "execution_count": null,
   "id": "d6461edc-2c15-43e2-9ed5-749cdac4f847",
   "metadata": {},
   "outputs": [],
   "source": []
  }
 ],
 "metadata": {
  "kernelspec": {
   "display_name": "Python 3 (ipykernel)",
   "language": "python",
   "name": "python3"
  },
  "language_info": {
   "codemirror_mode": {
    "name": "ipython",
    "version": 3
   },
   "file_extension": ".py",
   "mimetype": "text/x-python",
   "name": "python",
   "nbconvert_exporter": "python",
   "pygments_lexer": "ipython3",
   "version": "3.10.12"
  }
 },
 "nbformat": 4,
 "nbformat_minor": 5
}
