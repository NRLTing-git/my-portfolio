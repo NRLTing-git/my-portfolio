{
 "cells": [
  {
   "cell_type": "code",
   "execution_count": 32,
   "id": "b4e5ff9f-502e-428f-9bc3-999c93f69464",
   "metadata": {
    "execution": {
     "iopub.execute_input": "2024-02-08T17:05:11.391280Z",
     "iopub.status.busy": "2024-02-08T17:05:11.390362Z",
     "iopub.status.idle": "2024-02-08T17:05:14.881457Z",
     "shell.execute_reply": "2024-02-08T17:05:14.880349Z",
     "shell.execute_reply.started": "2024-02-08T17:05:11.391213Z"
    },
    "tags": []
   },
   "outputs": [],
   "source": [
    "import pandas as pd\n",
    "import numpy as np\n",
    "from sklearn.experimental import enable_iterative_imputer\n",
    "from sklearn.impute import IterativeImputer\n",
    "from sklearn.decomposition import PCA\n",
    "from sklearn.linear_model import LinearRegression\n",
    "import pycountry\n",
    "import sqlite3"
   ]
  },
  {
   "cell_type": "code",
   "execution_count": 1,
   "id": "a8bb116c-1a2e-4560-9318-39ffc7c9d770",
   "metadata": {
    "execution": {
     "iopub.execute_input": "2024-02-13T14:25:45.519123Z",
     "iopub.status.busy": "2024-02-13T14:25:45.518421Z",
     "iopub.status.idle": "2024-02-13T14:25:45.540761Z",
     "shell.execute_reply": "2024-02-13T14:25:45.538954Z",
     "shell.execute_reply.started": "2024-02-13T14:25:45.519059Z"
    },
    "tags": []
   },
   "outputs": [],
   "source": [
    "def lower_df(df):\n",
    "    \"\"\"\n",
    "    Convert all string columns in a DataFrame to lowercase,\n",
    "    except those containing 'Code'.\n",
    "\n",
    "    Parameters\n",
    "    ----------\n",
    "    df : DataFrame\n",
    "        A pandas DataFrame that contains the data to be processed.\n",
    "\n",
    "    Returns\n",
    "    -------\n",
    "    DataFrame\n",
    "        The modified DataFrame with string columns in lowercase.\n",
    "\n",
    "    \"\"\"\n",
    "    for col in df.columns:\n",
    "        if df[col].dtype == 'object' and 'Code' not in col:\n",
    "            df[col] = df[col].str.lower()\n",
    "    return df"
   ]
  },
  {
   "cell_type": "code",
   "execution_count": 34,
   "id": "996d628e-b37d-4b24-ba65-121c70fd0115",
   "metadata": {
    "execution": {
     "iopub.execute_input": "2024-02-08T17:05:17.205821Z",
     "iopub.status.busy": "2024-02-08T17:05:17.205069Z",
     "iopub.status.idle": "2024-02-08T17:05:17.215141Z",
     "shell.execute_reply": "2024-02-08T17:05:17.213422Z",
     "shell.execute_reply.started": "2024-02-08T17:05:17.205755Z"
    },
    "tags": []
   },
   "outputs": [],
   "source": [
    "conn = sqlite3.connect('WDI.db')"
   ]
  },
  {
   "cell_type": "code",
   "execution_count": 35,
   "id": "f4e45a52-697b-4440-b6f7-dcbb879a3c27",
   "metadata": {
    "execution": {
     "iopub.execute_input": "2024-02-08T17:05:17.363228Z",
     "iopub.status.busy": "2024-02-08T17:05:17.362526Z",
     "iopub.status.idle": "2024-02-08T17:05:17.374493Z",
     "shell.execute_reply": "2024-02-08T17:05:17.373692Z",
     "shell.execute_reply.started": "2024-02-08T17:05:17.363166Z"
    },
    "tags": []
   },
   "outputs": [],
   "source": [
    "df_ed = pd.read_sql_query(\"SELECT * FROM indicators\", conn)"
   ]
  },
  {
   "cell_type": "code",
   "execution_count": 36,
   "id": "2fb8cfee-8f7f-4b14-86d7-9313a450cc5b",
   "metadata": {
    "execution": {
     "iopub.execute_input": "2024-02-08T17:05:17.492413Z",
     "iopub.status.busy": "2024-02-08T17:05:17.491690Z",
     "iopub.status.idle": "2024-02-08T17:05:20.578591Z",
     "shell.execute_reply": "2024-02-08T17:05:20.576956Z",
     "shell.execute_reply.started": "2024-02-08T17:05:17.492349Z"
    },
    "tags": []
   },
   "outputs": [],
   "source": [
    "df_main = lower_df(pd.read_csv('/mnt/data/public/wdi/WDIData.csv'))\n",
    "df_test = pd.merge(df_ed, df_main, how='left', on='Indicator Name')"
   ]
  },
  {
   "cell_type": "code",
   "execution_count": 37,
   "id": "557c3ad1-638b-4950-bc53-78f0c3aec556",
   "metadata": {
    "execution": {
     "iopub.execute_input": "2024-02-08T17:05:20.581538Z",
     "iopub.status.busy": "2024-02-08T17:05:20.581243Z",
     "iopub.status.idle": "2024-02-08T17:05:20.803492Z",
     "shell.execute_reply": "2024-02-08T17:05:20.802648Z",
     "shell.execute_reply.started": "2024-02-08T17:05:20.581510Z"
    },
    "tags": []
   },
   "outputs": [],
   "source": [
    "df1 = df_test.drop(['Indicator Name', 'Country Name'], axis=1)\n",
    "df = df1.iloc[:, :-1]\n",
    "df = df.dropna(subset=['Country Code'])\n",
    "null_counts = df.groupby('Country Code').apply(lambda x: x.isnull().sum())\n",
    "df_null = null_counts.describe()\n",
    "df_null = df_null.iloc[:, 2:]"
   ]
  },
  {
   "cell_type": "code",
   "execution_count": 38,
   "id": "23a302ac-29b8-4297-bc99-5eaab7f23f06",
   "metadata": {
    "execution": {
     "iopub.execute_input": "2024-02-08T17:05:20.804840Z",
     "iopub.status.busy": "2024-02-08T17:05:20.804553Z",
     "iopub.status.idle": "2024-02-08T17:05:24.947442Z",
     "shell.execute_reply": "2024-02-08T17:05:24.945740Z",
     "shell.execute_reply.started": "2024-02-08T17:05:20.804814Z"
    },
    "tags": []
   },
   "outputs": [],
   "source": [
    "df_melted = pd.melt(df, id_vars=['Country Code', 'Indicator Code'],\n",
    "                    value_vars=[str(year) for year in range(1960, 2021)],\n",
    "                    var_name='Year', value_name='Value')\n",
    "\n",
    "df_pivoted = df_melted.pivot_table(index=['Country Code', 'Year'],\n",
    "                                   columns='Indicator Code',\n",
    "                                   values='Value',\n",
    "                                   aggfunc='first').reset_index()\n",
    "\n",
    "# Flatten the columns to remove the MultiIndex in columns\n",
    "df_pivoted.columns = df_pivoted.columns.to_flat_index()\n",
    "\n",
    "# You might want to rename the columns by joining tuples if they exist\n",
    "df_pivoted.columns = [' '.join(col).strip() if isinstance(\n",
    "    col, tuple) else col for col in df_pivoted.columns]\n",
    "\n",
    "df_2011 = df_pivoted[df_pivoted['Year'] == '2011']"
   ]
  },
  {
   "cell_type": "code",
   "execution_count": 39,
   "id": "346ededf-7f7c-4ff4-9900-94e1501ccc23",
   "metadata": {
    "execution": {
     "iopub.execute_input": "2024-02-08T17:05:25.966514Z",
     "iopub.status.busy": "2024-02-08T17:05:25.965423Z",
     "iopub.status.idle": "2024-02-08T17:05:25.981585Z",
     "shell.execute_reply": "2024-02-08T17:05:25.979685Z",
     "shell.execute_reply.started": "2024-02-08T17:05:25.966391Z"
    },
    "tags": []
   },
   "outputs": [],
   "source": [
    "alpha_3_codes = {country.alpha_3 for country in pycountry.countries}\n",
    "\n",
    "# Filter the DataFrame to keep rows where 'Country Code' is in the alpha_3_codes set\n",
    "df_2011 = df_2011[df_2011['Country Code'].isin(alpha_3_codes)]"
   ]
  },
  {
   "cell_type": "code",
   "execution_count": 40,
   "id": "19f1b8e5-6a8d-4dcd-bfdd-7307aecbb1b7",
   "metadata": {
    "execution": {
     "iopub.execute_input": "2024-02-08T17:05:26.668315Z",
     "iopub.status.busy": "2024-02-08T17:05:26.667579Z",
     "iopub.status.idle": "2024-02-08T17:05:26.688310Z",
     "shell.execute_reply": "2024-02-08T17:05:26.686714Z",
     "shell.execute_reply.started": "2024-02-08T17:05:26.668251Z"
    },
    "tags": []
   },
   "outputs": [],
   "source": [
    "df_cleaned = df_2011.dropna(thresh=75)\n",
    "df_cleanedd = df_cleaned.dropna(thresh=95, axis=1)\n",
    "df_country = df_cleanedd.dropna(thresh=17)"
   ]
  },
  {
   "cell_type": "code",
   "execution_count": 42,
   "id": "669483d3-ae49-4a09-91dc-da65e7477c6d",
   "metadata": {
    "execution": {
     "iopub.execute_input": "2024-02-08T17:05:40.463909Z",
     "iopub.status.busy": "2024-02-08T17:05:40.463122Z",
     "iopub.status.idle": "2024-02-08T17:05:48.890428Z",
     "shell.execute_reply": "2024-02-08T17:05:48.813766Z",
     "shell.execute_reply.started": "2024-02-08T17:05:40.463845Z"
    },
    "tags": []
   },
   "outputs": [],
   "source": [
    "df_impute = df_country.copy()\n",
    "df_impute = df_impute.iloc[:, 2:]\n",
    "iterative_imputer = IterativeImputer(\n",
    "    estimator=LinearRegression(), max_iter=10000, random_state=69)\n",
    "\n",
    "# Perform the imputation\n",
    "df_imputed = pd.DataFrame(iterative_imputer.fit_transform(\n",
    "    df_impute), columns=df_impute.columns)\n",
    "temp = df_country.iloc[:, 0:2].reset_index(drop=True)\n",
    "df_final = pd.concat([temp, df_imputed], axis=1)\n",
    "\n",
    "\n",
    "X = df_final.iloc[:, 2:]"
   ]
  },
  {
   "cell_type": "code",
   "execution_count": 2,
   "id": "38d88700-57c8-4e30-9c42-00a8b7ee8796",
   "metadata": {
    "execution": {
     "iopub.execute_input": "2024-02-13T14:26:51.228281Z",
     "iopub.status.busy": "2024-02-13T14:26:51.227577Z",
     "iopub.status.idle": "2024-02-13T14:26:51.244870Z",
     "shell.execute_reply": "2024-02-13T14:26:51.243120Z",
     "shell.execute_reply.started": "2024-02-13T14:26:51.228220Z"
    },
    "tags": []
   },
   "outputs": [],
   "source": [
    "def pca_country(X, df_final):\n",
    "    \"\"\"\n",
    "    Perform Principal Component Analysis (PCA) on a dataset.\n",
    "\n",
    "    Parameters\n",
    "    ----------\n",
    "    X : array_like\n",
    "        A NumPy array or a pandas DataFrame where rows are samples and columns \n",
    "        are features.\n",
    "    df_final : DataFrame\n",
    "        A pandas DataFrame that might be used for additional\n",
    "        processing or storing results.\n",
    "\n",
    "    Returns\n",
    "    -------\n",
    "    tuple\n",
    "        A tuple containing three elements:\n",
    "        - The transformed dataset in the PCA space.\n",
    "        - The original DataFrame.\n",
    "        - The principal components of the PCA transformation.\n",
    "\n",
    "    \"\"\"\n",
    "    pca = PCA()\n",
    "    X_pca = pca.fit_transform(X)\n",
    "\n",
    "    cumulative_variance = np.cumsum(pca.explained_variance_ratio_)\n",
    "\n",
    "    index = np.argmax(cumulative_variance >= 0.99) + 1\n",
    "\n",
    "    pca = PCA(n_components=index)\n",
    "    pca.fit(X)\n",
    "    country_pca = pd.DataFrame(pca.fit_transform(X))\n",
    "    components = pca.components_\n",
    "\n",
    "    return country_pca, df_final, components"
   ]
  },
  {
   "cell_type": "code",
   "execution_count": 47,
   "id": "f74d9e91-6e7e-4fb8-97a0-edfc737924e2",
   "metadata": {
    "execution": {
     "iopub.execute_input": "2024-02-08T17:06:02.764010Z",
     "iopub.status.busy": "2024-02-08T17:06:02.763313Z",
     "iopub.status.idle": "2024-02-08T17:06:02.785977Z",
     "shell.execute_reply": "2024-02-08T17:06:02.784079Z",
     "shell.execute_reply.started": "2024-02-08T17:06:02.763946Z"
    },
    "tags": []
   },
   "outputs": [],
   "source": [
    "country_pca, df_final, components = pca_country(X, df_final)"
   ]
  }
 ],
 "metadata": {
  "kernelspec": {
   "display_name": "Python 3 (ipykernel)",
   "language": "python",
   "name": "python3"
  },
  "language_info": {
   "codemirror_mode": {
    "name": "ipython",
    "version": 3
   },
   "file_extension": ".py",
   "mimetype": "text/x-python",
   "name": "python",
   "nbconvert_exporter": "python",
   "pygments_lexer": "ipython3",
   "version": "3.10.12"
  }
 },
 "nbformat": 4,
 "nbformat_minor": 5
}
