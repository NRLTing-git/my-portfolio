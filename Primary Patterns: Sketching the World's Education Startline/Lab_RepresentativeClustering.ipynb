{
 "cells": [
  {
   "cell_type": "code",
   "execution_count": 2,
   "id": "6664dd0e-05a3-47bd-868b-1449b1d11486",
   "metadata": {
    "execution": {
     "iopub.execute_input": "2024-02-13T14:40:22.225428Z",
     "iopub.status.busy": "2024-02-13T14:40:22.224421Z",
     "iopub.status.idle": "2024-02-13T14:40:22.252948Z",
     "shell.execute_reply": "2024-02-13T14:40:22.251758Z",
     "shell.execute_reply.started": "2024-02-13T14:40:22.225360Z"
    },
    "tags": []
   },
   "outputs": [
    {
     "data": {
      "text/plain": [
       "<Figure size 640x480 with 0 Axes>"
      ]
     },
     "metadata": {},
     "output_type": "display_data"
    }
   ],
   "source": [
    "import numpy as np\n",
    "import pandas as pd\n",
    "import matplotlib.pyplot as plt\n",
    "from sklearn.cluster import KMeans\n",
    "from sklearn_extra.cluster import KMedoids\n",
    "from sklearn.metrics import (\n",
    "    calinski_harabasz_score,\n",
    "    davies_bouldin_score,\n",
    "    silhouette_score,\n",
    ")\n",
    "from sklearn.base import clone\n",
    "from scipy.spatial.distance import euclidean\n",
    "from sklearn.metrics.pairwise import pairwise_distances\n",
    "import numpy as np\n",
    "from scipy.spatial.distance import cdist\n",
    "import plotly.graph_objs as go\n",
    "import seaborn as sns\n",
    "plt.ioff()\n",
    "plt.clf()"
   ]
  },
  {
   "cell_type": "code",
   "execution_count": 32,
   "id": "e98a4a60-4ceb-48b1-a1b9-9f46c2a8268d",
   "metadata": {
    "execution": {
     "iopub.execute_input": "2024-02-12T10:25:38.664309Z",
     "iopub.status.busy": "2024-02-12T10:25:38.663567Z",
     "iopub.status.idle": "2024-02-12T10:25:38.676340Z",
     "shell.execute_reply": "2024-02-12T10:25:38.674544Z",
     "shell.execute_reply.started": "2024-02-12T10:25:38.664244Z"
    },
    "tags": []
   },
   "outputs": [
    {
     "data": {
      "text/html": [
       "\n",
       "<style>\n",
       ".output_png {\n",
       "    display: flex;\n",
       "    justify-content: center;\n",
       "    align-items: center;\n",
       "}\n",
       "</style>\n"
      ],
      "text/plain": [
       "<IPython.core.display.HTML object>"
      ]
     },
     "execution_count": 32,
     "metadata": {},
     "output_type": "execute_result"
    }
   ],
   "source": [
    "from IPython.core.display import HTML\n",
    "\n",
    "# Apply CSS styling to center all output\n",
    "HTML(\"\"\"\n",
    "<style>\n",
    ".output_png {\n",
    "    display: flex;\n",
    "    justify-content: center;\n",
    "    align-items: center;\n",
    "}\n",
    "</style>\n",
    "\"\"\")"
   ]
  },
  {
   "cell_type": "code",
   "execution_count": 3,
   "id": "91c58d7b-8a50-4a29-aa50-afb099ecdf64",
   "metadata": {
    "execution": {
     "iopub.execute_input": "2024-02-12T06:20:31.277728Z",
     "iopub.status.busy": "2024-02-12T06:20:31.277367Z",
     "iopub.status.idle": "2024-02-12T06:20:45.307976Z",
     "shell.execute_reply": "2024-02-12T06:20:45.304931Z",
     "shell.execute_reply.started": "2024-02-12T06:20:31.277704Z"
    },
    "tags": []
   },
   "outputs": [],
   "source": [
    "%run 'Lab_preprocess.ipynb'"
   ]
  },
  {
   "cell_type": "markdown",
   "id": "cf739d58-f11c-41ec-b7aa-24519ad58451",
   "metadata": {},
   "source": [
    "Validation Criteria"
   ]
  },
  {
   "cell_type": "code",
   "execution_count": 4,
   "id": "bd2c3f41-57af-4495-8746-59b08f0003b6",
   "metadata": {
    "execution": {
     "iopub.execute_input": "2024-02-12T06:20:45.312495Z",
     "iopub.status.busy": "2024-02-12T06:20:45.311753Z",
     "iopub.status.idle": "2024-02-12T06:20:45.404033Z",
     "shell.execute_reply": "2024-02-12T06:20:45.401324Z",
     "shell.execute_reply.started": "2024-02-12T06:20:45.312418Z"
    },
    "tags": []
   },
   "outputs": [],
   "source": [
    "def pooled_within_ssd(X, y, centroids, dist):\n",
    "    \"\"\"Compute pooled within-cluster sum of squares around the cluster mean\n",
    "\n",
    "    Parameters\n",
    "    ----------\n",
    "    X : array\n",
    "        Design matrix with each row corresponding to a point\n",
    "    y : array\n",
    "        Class label of each point\n",
    "    centroids : array\n",
    "        Cluster centroids\n",
    "    dist : callable\n",
    "        Distance between two points. It should accept two arrays, each\n",
    "        corresponding to the coordinates of each point\n",
    "\n",
    "    Returns\n",
    "    -------\n",
    "    float\n",
    "        Pooled within-cluster sum of squares around the cluster mean\n",
    "    \"\"\"\n",
    "    total_ssd = 0\n",
    "    for i, centroid in enumerate(centroids):\n",
    "        points = X[y == i]\n",
    "        len_p = len(points)\n",
    "        ssd = (1/(2*len_p)) * sum(dist(point, centroid)**2 for\n",
    "                                  point in points)\n",
    "        total_ssd += ssd\n",
    "    return total_ssd"
   ]
  },
  {
   "cell_type": "code",
   "execution_count": 5,
   "id": "aacd5e3b-0672-4e40-b617-64a0dfb2c476",
   "metadata": {
    "execution": {
     "iopub.execute_input": "2024-02-12T06:20:45.409661Z",
     "iopub.status.busy": "2024-02-12T06:20:45.408988Z",
     "iopub.status.idle": "2024-02-12T06:20:45.421801Z",
     "shell.execute_reply": "2024-02-12T06:20:45.420324Z",
     "shell.execute_reply.started": "2024-02-12T06:20:45.409601Z"
    },
    "tags": []
   },
   "outputs": [],
   "source": [
    "def gen_realizations(X, b, random_state=None):\n",
    "    \"\"\"Generate b random realizations of X\n",
    "\n",
    "    The realizations are drawn from a uniform distribution over the range of\n",
    "    observed values for that feature.\n",
    "\n",
    "    Parameters\n",
    "    ---------\n",
    "    X : array\n",
    "        Design matrix with each row corresponding to a point\n",
    "    b : int\n",
    "        Number of realizations for the reference distribution\n",
    "    random_state : int, default=None\n",
    "        Determines random number generation for realizations\n",
    "\n",
    "    Returns\n",
    "    -------\n",
    "    X_realizations : array\n",
    "        random realizations with shape (b, X.shape[0], X.shape[1])\n",
    "    \"\"\"\n",
    "    mins = X.min(axis=0)\n",
    "    maxs = X.max(axis=0)\n",
    "    rng = np.random.default_rng(random_state)\n",
    "    nrows, ncols = X.shape\n",
    "    return rng.uniform(\n",
    "        np.tile(mins, (b, nrows, 1)),\n",
    "        np.tile(maxs, (b, nrows, 1)),\n",
    "        size=(b, nrows, ncols),\n",
    "    )"
   ]
  },
  {
   "cell_type": "code",
   "execution_count": 6,
   "id": "e04e55f4-88f0-464e-a90f-6f569d978efb",
   "metadata": {
    "execution": {
     "iopub.execute_input": "2024-02-12T06:20:45.423789Z",
     "iopub.status.busy": "2024-02-12T06:20:45.423350Z",
     "iopub.status.idle": "2024-02-12T06:20:45.435493Z",
     "shell.execute_reply": "2024-02-12T06:20:45.434132Z",
     "shell.execute_reply.started": "2024-02-12T06:20:45.423750Z"
    },
    "tags": []
   },
   "outputs": [],
   "source": [
    "def gap_statistic(X, y, centroids, dist, b, clusterer, random_state=None):\n",
    "    \"\"\"Compute the gap statistic\n",
    "\n",
    "    Parameters\n",
    "    ----------\n",
    "    X : array\n",
    "        Design matrix with each row corresponding to a data point\n",
    "    y : array\n",
    "        Class label of each point\n",
    "    centroids : array\n",
    "        Cluster centroids\n",
    "    dist : callable\n",
    "        Distance between two points. It should accept two arrays, each\n",
    "        corresponding to the coordinates of each point\n",
    "    b : int\n",
    "        Number of realizations for the reference distribution\n",
    "    clusterer : KMeans\n",
    "        Clusterer object that will be used for clustering the reference\n",
    "        realizations\n",
    "    random_state : int, default=None\n",
    "        Determines random number generation for realizations\n",
    "\n",
    "    Returns\n",
    "    -------\n",
    "    gs : float\n",
    "        Gap statistic\n",
    "    gs_std : float\n",
    "        Standard deviation of gap statistic\n",
    "    \"\"\"\n",
    "    X_refs = gen_realizations(X, b, random_state)\n",
    "    pooled_ssd = pooled_within_ssd(X, y, centroids, dist)\n",
    "    log_ssd = np.log(pooled_ssd)\n",
    "    log_ref = np.zeros(b)\n",
    "\n",
    "    for i in range(5):\n",
    "        clusterer.fit(X_refs[i])\n",
    "        centroids_ref = clusterer.cluster_centers_\n",
    "        labels_ref = clusterer.labels_\n",
    "        ssd_ref = pooled_within_ssd(X_refs[i], labels_ref,\n",
    "                                    centroids_ref, dist)\n",
    "        log_ref[i] = np.log(ssd_ref)\n",
    "\n",
    "    gap_stat = log_ref.mean() - log_ssd\n",
    "    std_dev = np.std(log_ref)\n",
    "    return ([gap_stat, std_dev])"
   ]
  },
  {
   "cell_type": "code",
   "execution_count": 7,
   "id": "4fa98817-0ea8-4890-958c-f0adc725eb41",
   "metadata": {
    "execution": {
     "iopub.execute_input": "2024-02-12T06:20:45.437576Z",
     "iopub.status.busy": "2024-02-12T06:20:45.437174Z",
     "iopub.status.idle": "2024-02-12T06:20:45.451585Z",
     "shell.execute_reply": "2024-02-12T06:20:45.450232Z",
     "shell.execute_reply.started": "2024-02-12T06:20:45.437538Z"
    },
    "tags": []
   },
   "outputs": [],
   "source": [
    "def cluster_range(X, clusterer, k_start, k_stop):\n",
    "    \"\"\"Cluster X for different values of k\n",
    "\n",
    "    Parameters\n",
    "    ----------\n",
    "    X : array\n",
    "        Design matrix with each row corresponding to a data point\n",
    "    clusterer : sklearn.base.ClusterMixin\n",
    "        Perform clustering for different value of `k` using this model. It\n",
    "        should have been initialized with the desired parameters\n",
    "    k_start : int\n",
    "        Perform k-means starting from this value of `k`\n",
    "    k_stop : int\n",
    "        Perform k-means up to this value of `k` (inclusive)\n",
    "\n",
    "    Returns\n",
    "    -------\n",
    "    dict\n",
    "        The value of each key is a list with elements corresponding to the\n",
    "        value at `k`. The keys are:\n",
    "            * `ys`: cluster labels\n",
    "            * `centers`: cluster centroids\n",
    "            * `inertias`: sum of squared distances to the cluster centroid \n",
    "            * `chs`: Calinski-Harabasz indices\n",
    "            * `scs`: silhouette coefficients\n",
    "            * `dbs`: Davis-Bouldin indices\n",
    "            * `gss`: gap statistics\n",
    "            * `gssds`: standard deviations of gap statistics\n",
    "    \"\"\"\n",
    "    returns = {\n",
    "        'ys': [],\n",
    "        'centers': [],\n",
    "        'inertias': [],\n",
    "        'chs': [],\n",
    "        'scs': [],\n",
    "        'dbs': [],\n",
    "        'gss': [],\n",
    "        'gssds': []}\n",
    "    for k in range(k_start, k_stop + 1):\n",
    "        clusterer_k = clone(clusterer).set_params(\n",
    "            n_clusters=k, random_state=1337)\n",
    "        label = clusterer_k.fit_predict(X)\n",
    "        gs = gap_statistic(\n",
    "            X,\n",
    "            label,\n",
    "            clusterer_k.cluster_centers_,\n",
    "            euclidean,\n",
    "            5,\n",
    "            clone(clusterer).set_params(n_clusters=k),\n",
    "            random_state=1337,\n",
    "        )\n",
    "\n",
    "        returns['ys'].append(label)\n",
    "        returns['centers'].append(clusterer_k.cluster_centers_)\n",
    "        returns['inertias'].append(clusterer_k.inertia_)\n",
    "        returns['chs'].append(calinski_harabasz_score(X, label))\n",
    "        returns['scs'].append(silhouette_score(X, label) if k > 1 else None)\n",
    "        returns['dbs'].append(davies_bouldin_score(\n",
    "            X, label) if k > 1 else None)\n",
    "        returns['gss'].append(gs[0])\n",
    "        returns['gssds'].append(gs[1])\n",
    "    return returns"
   ]
  },
  {
   "cell_type": "code",
   "execution_count": 13,
   "id": "528c8958-a3b0-4d17-b068-cb8fdfd9b0da",
   "metadata": {
    "execution": {
     "iopub.execute_input": "2024-02-12T06:20:57.197245Z",
     "iopub.status.busy": "2024-02-12T06:20:57.195730Z",
     "iopub.status.idle": "2024-02-12T06:20:57.216394Z",
     "shell.execute_reply": "2024-02-12T06:20:57.214150Z",
     "shell.execute_reply.started": "2024-02-12T06:20:57.197179Z"
    },
    "tags": []
   },
   "outputs": [],
   "source": [
    "def plot_internal(inertias, chs, scs, dbs, gss, gssds):\n",
    "    \"\"\"Plot internal validation values\"\"\"\n",
    "    fig, ax = plt.subplots(figsize=(10, 6))\n",
    "    ks = np.arange(2, len(inertias) + 2)\n",
    "\n",
    "    # Assigning colors\n",
    "    colors = ['#205e55', '#8e9b8c', '#7cb79d', '#5a8a7b', '#b1cbb5']\n",
    "\n",
    "    # Plotting with the new color scheme\n",
    "    ax.plot(ks, inertias, \"-o\", label=\"SSE\", color=colors[0])\n",
    "    ax.plot(ks, chs, \"-o\", label=\"CH\", color=colors[1])\n",
    "    ax.set_xlabel(\"$k$\")\n",
    "    ax.set_ylabel(\"SSE/CH\")\n",
    "\n",
    "    ax2 = ax.twinx()\n",
    "    ax2.errorbar(ks, gss, yerr=gssds, fmt=\"-o\", label=\"GS\",\n",
    "                 color=colors[2])\n",
    "    ax2.plot(ks, scs, \"-o\", label=\"SC\", color=colors[3])\n",
    "    ax2.plot(ks, dbs, \"-o\", label=\"DB\", color=colors[4])\n",
    "    ax2.set_ylabel(\"Gap statistic/Silhouette/DB\")\n",
    "\n",
    "    # Handling legends from both axes\n",
    "    lines, labels = ax.get_legend_handles_labels()\n",
    "    lines2, labels2 = ax2.get_legend_handles_labels()\n",
    "    ax2.legend(lines + lines2, labels + labels2, loc='upper left',\n",
    "               bbox_to_anchor=(1.05, 1))\n",
    "\n",
    "    # Adding a title\n",
    "    ax.set_title(\"Internal Validation Metrics for K-Medoids\")\n",
    "    plt.tight_layout()\n",
    "\n",
    "    return fig"
   ]
  },
  {
   "cell_type": "code",
   "execution_count": 11,
   "id": "9c45b831-70b5-4418-bc5a-579252c26e4d",
   "metadata": {
    "execution": {
     "iopub.execute_input": "2024-02-12T06:20:45.483799Z",
     "iopub.status.busy": "2024-02-12T06:20:45.483229Z",
     "iopub.status.idle": "2024-02-12T06:20:46.573947Z",
     "shell.execute_reply": "2024-02-12T06:20:46.573088Z",
     "shell.execute_reply.started": "2024-02-12T06:20:45.483761Z"
    },
    "tags": []
   },
   "outputs": [],
   "source": [
    "country_med = cluster_range(\n",
    "    country_pca.to_numpy(), KMedoids(random_state=1337, method='pam'), 2, 15\n",
    ")"
   ]
  },
  {
   "cell_type": "code",
   "execution_count": 17,
   "id": "3e46864e-5700-48ac-b5cc-a452c101916a",
   "metadata": {
    "execution": {
     "iopub.execute_input": "2024-02-12T06:21:14.692702Z",
     "iopub.status.busy": "2024-02-12T06:21:14.691958Z",
     "iopub.status.idle": "2024-02-12T06:21:14.841723Z",
     "shell.execute_reply": "2024-02-12T06:21:14.840598Z",
     "shell.execute_reply.started": "2024-02-12T06:21:14.692638Z"
    },
    "tags": []
   },
   "outputs": [],
   "source": [
    "medoids_plot_internal = plot_internal(\n",
    "    country_med[\"inertias\"],\n",
    "    country_med[\"chs\"],\n",
    "    country_med[\"scs\"],\n",
    "    country_med[\"dbs\"],\n",
    "    country_med[\"gss\"],\n",
    "    country_med[\"gssds\"],\n",
    ");"
   ]
  },
  {
   "cell_type": "code",
   "execution_count": null,
   "id": "344d2572-bb4d-4cf2-a06d-a7a8d071fb67",
   "metadata": {
    "execution": {
     "iopub.status.busy": "2024-02-12T06:20:47.012575Z",
     "iopub.status.idle": "2024-02-12T06:20:47.012893Z",
     "shell.execute_reply": "2024-02-12T06:20:47.012751Z",
     "shell.execute_reply.started": "2024-02-12T06:20:47.012735Z"
    },
    "tags": []
   },
   "outputs": [],
   "source": [
    "def plotting(x, y, z, cluster_centers, labels):\n",
    "    \"\"\"\n",
    "    Generate a 3D scatter plot of data points with custom color mapping.\n",
    "\n",
    "    Parameters\n",
    "    ----------\n",
    "    x : array_like\n",
    "        The x-coordinates of the data points.\n",
    "    y : array_like\n",
    "        The y-coordinates of the data points.\n",
    "    z : array_like\n",
    "        The z-coordinates of the data points.\n",
    "    labels : array_like\n",
    "        Cluster labels for each data point.\n",
    "\n",
    "    Returns\n",
    "    -------\n",
    "    Figure\n",
    "        A Plotly Figure object containing the 3D scatter plot.\n",
    "\n",
    "    \"\"\"\n",
    "    x = x\n",
    "    y = y\n",
    "    z = z\n",
    "\n",
    "    custom_colors = ['#205e55', '#8e9b8c', '#7cb79d']\n",
    "\n",
    "    # Create a list of colors for each label\n",
    "    color_mapped = [custom_colors[label] for label in labels]\n",
    "\n",
    "    trace_data = go.Scatter3d(\n",
    "        x=x,\n",
    "        y=y,\n",
    "        z=z,\n",
    "        mode='markers',\n",
    "        marker=dict(\n",
    "            size=8,\n",
    "            color=color_mapped,  # set color to an array/list of desired values\n",
    "            colorscale='Viridis',  # choose a colorscale\n",
    "            opacity=0.8\n",
    "        )\n",
    "    )\n",
    "\n",
    "    # Adding trace for cluster centers\n",
    "    trace_centers = go.Scatter3d(\n",
    "        x=cluster_centers[:, 0],\n",
    "        y=cluster_centers[:, 1],\n",
    "        z=cluster_centers[:, 2],\n",
    "        mode='markers',\n",
    "        marker=dict(\n",
    "            size=5,\n",
    "            color='red',  # color based on cluster index\n",
    "            colorscale='Viridis',  # choose a colorscale\n",
    "            opacity=0.8,\n",
    "            symbol='square',  # use a square marker\n",
    "            line=dict(color='black', width=2)  # black border around markers\n",
    "        )\n",
    "    )\n",
    "\n",
    "    data = [trace_data, trace_centers]\n",
    "\n",
    "    layout = go.Layout(\n",
    "        margin=dict(l=0, r=0, b=0, t=0),  # tight layout\n",
    "        title='K-Medoids: Scatter Plot',\n",
    "        scene=dict(\n",
    "            xaxis=dict(title='PCA 1'),\n",
    "            yaxis=dict(title='PCA 2'),\n",
    "            zaxis=dict(title='PCA 3')\n",
    "        )\n",
    "    )\n",
    "\n",
    "    fig = go.Figure(data=data, layout=layout)\n",
    "\n",
    "    # Render the plot\n",
    "    return fig"
   ]
  },
  {
   "cell_type": "markdown",
   "id": "70ebd9e3-c106-4186-9852-b79590cfea81",
   "metadata": {},
   "source": [
    "## K-Medoids"
   ]
  },
  {
   "cell_type": "code",
   "execution_count": 19,
   "id": "8fe5f71d-1f48-4469-bed3-40dacad16ed9",
   "metadata": {
    "execution": {
     "iopub.execute_input": "2024-02-12T06:22:07.592466Z",
     "iopub.status.busy": "2024-02-12T06:22:07.591026Z",
     "iopub.status.idle": "2024-02-12T06:22:07.628665Z",
     "shell.execute_reply": "2024-02-12T06:22:07.627881Z",
     "shell.execute_reply.started": "2024-02-12T06:22:07.592395Z"
    },
    "tags": []
   },
   "outputs": [],
   "source": [
    "import matplotlib.pyplot as plt\n",
    "\n",
    "medoids_country = KMedoids(n_clusters=3, random_state=1337, method='pam')\n",
    "medoids_country.fit(country_pca)\n",
    "y_predict_country_medoids = medoids_country.fit_predict(country_pca)\n",
    "cluster_centers_medoids = medoids_country.cluster_centers_\n",
    "\n",
    "\n",
    "def medoids_scatter():\n",
    "    \"\"\"\n",
    "    Generate a scatter plot of clustered data with custom color mapping.\n",
    "\n",
    "    Returns\n",
    "    -------\n",
    "    Figure\n",
    "        A matplotlib Figure object containing the scatter plot.\n",
    "\n",
    "    \"\"\"\n",
    "    custom_colors = ['#205e55', '#8e9b8c', '#7cb79d']\n",
    "\n",
    "    # Create a list of colors for each label\n",
    "    color_map = {i: custom_colors[i] for i\n",
    "                 in range(medoids_country.n_clusters)}\n",
    "    color_mapped = [custom_colors[label] for label\n",
    "                    in y_predict_country_medoids]\n",
    "    cluster_colors = [color_map[i] for i in range(medoids_country.n_clusters)]\n",
    "\n",
    "    # Setting the figure size\n",
    "    fig, ax = plt.subplots(figsize=(10, 6))  # Adjust the size as needed\n",
    "\n",
    "    plt.scatter(country_pca.iloc[:, 0], country_pca.iloc[:, 1], c=color_mapped)\n",
    "    plt.scatter(\n",
    "        cluster_centers_medoids[:, 1],\n",
    "        cluster_centers_medoids[:, 2],\n",
    "        s=60,\n",
    "        c=cluster_colors,\n",
    "        marker=\"s\",\n",
    "        ec=\"k\",\n",
    "        lw=2,\n",
    "    )\n",
    "\n",
    "    plt.tight_layout()  # Adjust the layout\n",
    "    return fig"
   ]
  },
  {
   "cell_type": "code",
   "execution_count": 20,
   "id": "e2372855-a321-47d8-8bbe-07bef93b65fe",
   "metadata": {
    "execution": {
     "iopub.execute_input": "2024-02-12T06:22:22.491886Z",
     "iopub.status.busy": "2024-02-12T06:22:22.491111Z",
     "iopub.status.idle": "2024-02-12T06:22:22.568193Z",
     "shell.execute_reply": "2024-02-12T06:22:22.567312Z",
     "shell.execute_reply.started": "2024-02-12T06:22:22.491823Z"
    },
    "tags": []
   },
   "outputs": [],
   "source": [
    "medscatter = medoids_scatter();"
   ]
  },
  {
   "cell_type": "code",
   "execution_count": 19,
   "id": "4115329b-b8f7-47d6-9a97-55f4063817ec",
   "metadata": {
    "execution": {
     "iopub.execute_input": "2024-02-11T11:34:51.247242Z",
     "iopub.status.busy": "2024-02-11T11:34:51.246502Z",
     "iopub.status.idle": "2024-02-11T11:34:51.311100Z",
     "shell.execute_reply": "2024-02-11T11:34:51.310295Z",
     "shell.execute_reply.started": "2024-02-11T11:34:51.247180Z"
    },
    "tags": []
   },
   "outputs": [],
   "source": [
    "medoids_3d = plotting(country_pca.iloc[:, 0], country_pca.iloc[:, 1],\n",
    "                      country_pca.iloc[:, 2], cluster_centers_medoids, y_predict_country_medoids)"
   ]
  },
  {
   "cell_type": "code",
   "execution_count": 35,
   "id": "c65b486d-690c-4e75-a508-bd70b3462eec",
   "metadata": {
    "execution": {
     "iopub.execute_input": "2024-02-11T04:55:55.306841Z",
     "iopub.status.busy": "2024-02-11T04:55:55.305847Z",
     "iopub.status.idle": "2024-02-11T04:55:55.317686Z",
     "shell.execute_reply": "2024-02-11T04:55:55.315772Z",
     "shell.execute_reply.started": "2024-02-11T04:55:55.306774Z"
    },
    "tags": []
   },
   "outputs": [],
   "source": [
    "# Calculate distances from each centroid to each point in the PCA dataset\n",
    "distances = cdist(cluster_centers_medoids, country_pca)\n",
    "\n",
    "# Find the index of the minimum distance for each centroid\n",
    "centroid_indices = np.argmin(distances, axis=1)"
   ]
  },
  {
   "cell_type": "markdown",
   "id": "c4be98ef-8088-48c2-a707-6943eef7e37a",
   "metadata": {},
   "source": [
    "# Index 63 is the centroid for label 0, 46 for 1, and 39 for "
   ]
  },
  {
   "cell_type": "code",
   "execution_count": 36,
   "id": "18cb16c0-fada-4325-984b-5ffbf3436c86",
   "metadata": {
    "execution": {
     "iopub.execute_input": "2024-02-11T04:55:57.262305Z",
     "iopub.status.busy": "2024-02-11T04:55:57.261574Z",
     "iopub.status.idle": "2024-02-11T04:55:57.273862Z",
     "shell.execute_reply": "2024-02-11T04:55:57.272392Z",
     "shell.execute_reply.started": "2024-02-11T04:55:57.262241Z"
    },
    "tags": []
   },
   "outputs": [],
   "source": [
    "selected_rows = df_final.iloc[centroid_indices].iloc[:, 2:]"
   ]
  },
  {
   "cell_type": "code",
   "execution_count": 28,
   "id": "a18c19ab-4587-463a-a70f-a238d0fbdb00",
   "metadata": {
    "execution": {
     "iopub.execute_input": "2024-02-12T06:24:31.150803Z",
     "iopub.status.busy": "2024-02-12T06:24:31.149099Z",
     "iopub.status.idle": "2024-02-12T06:24:31.167284Z",
     "shell.execute_reply": "2024-02-12T06:24:31.165587Z",
     "shell.execute_reply.started": "2024-02-12T06:24:31.150726Z"
    },
    "tags": []
   },
   "outputs": [],
   "source": [
    "\n",
    "def centroids_plot():\n",
    "    \"\"\"\n",
    "    Generate a line plot for centroid features.\n",
    "\n",
    "    This function creates a line plot to visualize the features of centroids\n",
    "    obtained from a clustering process. Each centroid's features are plotted as \n",
    "    a separate line with unique colors and labels. Assumes the existence of \n",
    "    'selected_rows' and 'df_final' data structures.\n",
    "\n",
    "    Returns\n",
    "    -------\n",
    "    Figure\n",
    "        A matplotlib Figure object containing the centroids plot.\n",
    "\n",
    "    \"\"\"\n",
    "    fig, ax = plt.subplots(figsize=(15, 6))  # Adjust the size as needed\n",
    "    custom_colors = ['#205e55', '#8e9b8c', '#7cb79d']\n",
    "    # Get column names for the x-axis\n",
    "    columns = selected_rows.columns\n",
    "\n",
    "    # Plot each row\n",
    "    for index, row in enumerate(selected_rows.iterrows()):\n",
    "        color = custom_colors[index % len(custom_colors)]\n",
    "        label = f'{df_final.iloc[row[0]].iloc[0]}'\n",
    "        ax.plot(columns, row[1], marker='o', color=color, label=label)\n",
    "\n",
    "    # Customize the plot\n",
    "    ax.set_xticks(columns)  # Set the x-ticks to be the column names\n",
    "    ax.set_xticklabels(columns, rotation=90)\n",
    "    ax.set_ylabel('Value')\n",
    "    ax.set_title('K-Medoids: Centroids Defining Features')\n",
    "    ax.legend()\n",
    "\n",
    "    # Show the plot\n",
    "    plt.tight_layout()\n",
    "    return fig"
   ]
  },
  {
   "cell_type": "code",
   "execution_count": 23,
   "id": "f18b69c4-30d7-4dca-8618-2089af47fbb0",
   "metadata": {
    "execution": {
     "iopub.execute_input": "2024-02-12T06:22:46.251009Z",
     "iopub.status.busy": "2024-02-12T06:22:46.250215Z",
     "iopub.status.idle": "2024-02-12T06:22:46.264998Z",
     "shell.execute_reply": "2024-02-12T06:22:46.263237Z",
     "shell.execute_reply.started": "2024-02-12T06:22:46.250944Z"
    },
    "tags": []
   },
   "outputs": [],
   "source": [
    "df_final['label'] = y_predict_country_medoids\n",
    "df_graph = df_final.iloc[:, 2:]"
   ]
  },
  {
   "cell_type": "code",
   "execution_count": 24,
   "id": "c58d2b42-7517-495e-9af0-e9bcb09998b1",
   "metadata": {
    "execution": {
     "iopub.execute_input": "2024-02-12T06:22:46.635372Z",
     "iopub.status.busy": "2024-02-12T06:22:46.634634Z",
     "iopub.status.idle": "2024-02-12T06:22:46.662220Z",
     "shell.execute_reply": "2024-02-12T06:22:46.660840Z",
     "shell.execute_reply.started": "2024-02-12T06:22:46.635306Z"
    },
    "tags": []
   },
   "outputs": [],
   "source": [
    "# Compute the min and max for each column grouped by the label\n",
    "grouped = df_graph.groupby('label')\n",
    "min_values = grouped.min()\n",
    "max_values = grouped.max()\n",
    "mean_values = grouped.mean()\n",
    "\n",
    "# Plot setup for 13 rows and 2 columns, adjust figsize as necessary\n",
    "\n",
    "\n",
    "def medoids_range_plot():\n",
    "    \"\"\"\n",
    "    Generate range plots for different features by labels.\n",
    "\n",
    "    Returns\n",
    "    -------\n",
    "    Figure\n",
    "        A matplotlib Figure object with the range plots.\n",
    "\n",
    "    \"\"\"\n",
    "    fig, axes = plt.subplots(5, 5, figsize=(15, 2 * 5))\n",
    "    axes = axes.flatten()  # Flatten the array of axes\n",
    "\n",
    "    labels = [0, 1, 2]\n",
    "    colors = ['#205e55', '#8e9b8c', '#7cb79d']\n",
    "\n",
    "    # Loop through each feature column to create a range bar\n",
    "    for i, col in enumerate(df_graph.columns[:-1]):  # Exclude the label column\n",
    "        ax = axes[i]\n",
    "        bar_height = 0.5  # The height of the bars\n",
    "        for j, label in enumerate(labels):\n",
    "            # Plotting the range as a horizontal bar\n",
    "            ax.barh(\n",
    "                y=label,\n",
    "                width=max_values[col][label] - min_values[col][label],\n",
    "                left=min_values[col][label],\n",
    "                height=bar_height,\n",
    "                color=colors[j],\n",
    "                edgecolor='black',\n",
    "                label=f'Label {label}' if i % (len(labels) * 2) == 0 else \"\"\n",
    "            )\n",
    "            # Plotting the mean as a short horizontal line, inside the bar\n",
    "            mean_value = mean_values[col][label]\n",
    "            ax.plot(\n",
    "                [mean_value, mean_value],  # X start and end of the line\n",
    "                [label - bar_height / 2, label + bar_height / 2],\n",
    "                color='black',  # Color of the mean line\n",
    "                linestyle='--',  # Style of the line\n",
    "                linewidth=2,  # Width of the line\n",
    "                label=f'Mean for Label {label}' if i == 0 else \"\"\n",
    "            )\n",
    "\n",
    "        ax.set_title(f'Range for {col}')\n",
    "        ax.set_yticks(labels)\n",
    "        ax.set_yticklabels(labels)\n",
    "        ax.set_ylim(min(labels) - bar_height, max(labels) + bar_height)\n",
    "\n",
    "    plt.tight_layout()  # Adjust the layout\n",
    "    return fig"
   ]
  },
  {
   "cell_type": "code",
   "execution_count": 26,
   "id": "1904dfc6-1e37-4116-b8b8-46522969d2b7",
   "metadata": {
    "execution": {
     "iopub.execute_input": "2024-02-12T06:22:58.651852Z",
     "iopub.status.busy": "2024-02-12T06:22:58.651023Z",
     "iopub.status.idle": "2024-02-12T06:22:59.471290Z",
     "shell.execute_reply": "2024-02-12T06:22:59.469823Z",
     "shell.execute_reply.started": "2024-02-12T06:22:58.651770Z"
    },
    "tags": []
   },
   "outputs": [],
   "source": [
    "med_range = medoids_range_plot();"
   ]
  },
  {
   "cell_type": "code",
   "execution_count": 3,
   "id": "ec4b91c5-5909-43a4-80f6-b1b7500cc98a",
   "metadata": {
    "execution": {
     "iopub.execute_input": "2024-02-13T14:40:57.730490Z",
     "iopub.status.busy": "2024-02-13T14:40:57.728893Z",
     "iopub.status.idle": "2024-02-13T14:40:57.746761Z",
     "shell.execute_reply": "2024-02-13T14:40:57.744640Z",
     "shell.execute_reply.started": "2024-02-13T14:40:57.730423Z"
    },
    "tags": []
   },
   "outputs": [],
   "source": [
    "import matplotlib.pyplot as plt\n",
    "import seaborn as sns\n",
    "\n",
    "\n",
    "def medoids_box():\n",
    "    \"\"\"\n",
    "    Generate box plots for different features by labels.\n",
    "\n",
    "    Returns\n",
    "    -------\n",
    "    Figure\n",
    "        A matplotlib Figure object with the range plots.\n",
    "\n",
    "    \"\"\"\n",
    "    # Set up the matplotlib figure with 13 rows and 2 columns\n",
    "    fig, axes = plt.subplots(nrows=5, ncols=5, figsize=(15, 10))\n",
    "\n",
    "    axes = axes.flatten()  # Flatten the 2D array of axes for easy iteration\n",
    "\n",
    "    # Assuming 'df_graph' is your DataFrame and the last column is 'label'\n",
    "    feature_columns = df_graph.columns[:-1]  # Exclude the label column\n",
    "    colors = ['#205e55', '#8e9b8c', '#7cb79d']\n",
    "    # Loop through each feature column to create a box plot\n",
    "    for i, col in enumerate(feature_columns):\n",
    "        sns.boxplot(x='label', y=col, data=df_graph, ax=axes[i],\n",
    "                    palette=colors,\n",
    "                    hue='label', legend=False)\n",
    "        axes[i].set_title(f'Values for {col}')\n",
    "        axes[i].set_xlabel('Label')\n",
    "        axes[i].set_ylabel('Value')\n",
    "\n",
    "    # Adjust the layout\n",
    "    plt.tight_layout()\n",
    "\n",
    "    # Display the plot\n",
    "    return fig"
   ]
  }
 ],
 "metadata": {
  "kernelspec": {
   "display_name": "Python 3 (ipykernel)",
   "language": "python",
   "name": "python3"
  },
  "language_info": {
   "codemirror_mode": {
    "name": "ipython",
    "version": 3
   },
   "file_extension": ".py",
   "mimetype": "text/x-python",
   "name": "python",
   "nbconvert_exporter": "python",
   "pygments_lexer": "ipython3",
   "version": "3.10.12"
  }
 },
 "nbformat": 4,
 "nbformat_minor": 5
}
