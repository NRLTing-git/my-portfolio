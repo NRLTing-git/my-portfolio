{
 "cells": [
  {
   "cell_type": "code",
   "execution_count": 1,
   "id": "c96ff189-b288-48c8-a291-179f794e060f",
   "metadata": {
    "execution": {
     "iopub.execute_input": "2023-11-24T09:28:08.550015Z",
     "iopub.status.busy": "2023-11-24T09:28:08.549410Z",
     "iopub.status.idle": "2023-11-24T09:28:09.996521Z",
     "shell.execute_reply": "2023-11-24T09:28:09.995163Z",
     "shell.execute_reply.started": "2023-11-24T09:28:08.549957Z"
    },
    "tags": []
   },
   "outputs": [],
   "source": [
    "import requests\n",
    "import pandas as pd\n",
    "import numpy as np\n",
    "import json\n",
    "import pickle\n",
    "from sklearn.feature_extraction.text import TfidfVectorizer, CountVectorizer\n",
    "from bs4 import BeautifulSoup\n",
    "import re\n",
    "\n",
    "from sklearn.feature_extraction.text import CountVectorizer\n",
    "from sklearn.feature_extraction.text import TfidfVectorizer\n",
    "from sklearn.metrics.pairwise import cosine_similarity\n",
    "from sklearn.metrics import DistanceMetric\n",
    "import matplotlib.pyplot as plt"
   ]
  },
  {
   "cell_type": "markdown",
   "id": "04cf88c7-bdea-4d40-a94f-b0362fa08e68",
   "metadata": {},
   "source": [
    "# Raw Data"
   ]
  },
  {
   "cell_type": "code",
   "execution_count": 2,
   "id": "bd8e50ca-1c65-4831-91ae-402e6e58bcab",
   "metadata": {
    "execution": {
     "iopub.execute_input": "2023-11-24T09:28:10.001683Z",
     "iopub.status.busy": "2023-11-24T09:28:10.000353Z",
     "iopub.status.idle": "2023-11-24T09:28:10.033434Z",
     "shell.execute_reply": "2023-11-24T09:28:10.032457Z",
     "shell.execute_reply.started": "2023-11-24T09:28:10.001616Z"
    },
    "tags": []
   },
   "outputs": [
    {
     "data": {
      "text/html": [
       "<div>\n",
       "<style scoped>\n",
       "    .dataframe tbody tr th:only-of-type {\n",
       "        vertical-align: middle;\n",
       "    }\n",
       "\n",
       "    .dataframe tbody tr th {\n",
       "        vertical-align: top;\n",
       "    }\n",
       "\n",
       "    .dataframe thead th {\n",
       "        text-align: right;\n",
       "    }\n",
       "</style>\n",
       "<table border=\"1\" class=\"dataframe\">\n",
       "  <thead>\n",
       "    <tr style=\"text-align: right;\">\n",
       "      <th></th>\n",
       "      <th>URL</th>\n",
       "      <th>Name</th>\n",
       "      <th>Scraped_Sidebar</th>\n",
       "      <th>content</th>\n",
       "    </tr>\n",
       "  </thead>\n",
       "  <tbody>\n",
       "    <tr>\n",
       "      <th>0</th>\n",
       "      <td>https://en.wikipedia.org/wiki/2_Chainz</td>\n",
       "      <td>2 Chainz</td>\n",
       "      <td>{'Born': 'Tauheed K. Epps ( 1977-09-12 ) Septe...</td>\n",
       "      <td>Tauheed K. Epps ( 1977-09-12 ) September 12, 1...</td>\n",
       "    </tr>\n",
       "    <tr>\n",
       "      <th>1</th>\n",
       "      <td>https://en.wikipedia.org/wiki/21_Savage</td>\n",
       "      <td>21 Savage</td>\n",
       "      <td>{'Birth name': 'Shéyaa Bin Abraham-Joseph', 'B...</td>\n",
       "      <td>Shéyaa Bin Abraham-Joseph ( 1992-10-22 ) Octob...</td>\n",
       "    </tr>\n",
       "    <tr>\n",
       "      <th>2</th>\n",
       "      <td>https://en.wikipedia.org/wiki/24kGoldn</td>\n",
       "      <td>24kGoldn</td>\n",
       "      <td>{'Birth name': 'Golden Landis Von Jones', 'Als...</td>\n",
       "      <td>Golden Landis Von Jones Goldn El Dorado ( 2000...</td>\n",
       "    </tr>\n",
       "    <tr>\n",
       "      <th>3</th>\n",
       "      <td>https://en.wikipedia.org/wiki/3OH!3</td>\n",
       "      <td>3OH!3</td>\n",
       "      <td>{'Origin': 'Boulder, Colorado , U.S.', 'Genres...</td>\n",
       "      <td>Boulder, Colorado , U.S. Electropop synth-pop ...</td>\n",
       "    </tr>\n",
       "    <tr>\n",
       "      <th>4</th>\n",
       "      <td>https://en.wikipedia.org/wiki/5_Seconds_Of_Summer</td>\n",
       "      <td>5 Seconds Of Summer</td>\n",
       "      <td>{'Also known as': '5SOS', 'Origin': 'Sydney , ...</td>\n",
       "      <td>5SOS Sydney , New South Wales , Australia Pop ...</td>\n",
       "    </tr>\n",
       "    <tr>\n",
       "      <th>...</th>\n",
       "      <td>...</td>\n",
       "      <td>...</td>\n",
       "      <td>...</td>\n",
       "      <td>...</td>\n",
       "    </tr>\n",
       "    <tr>\n",
       "      <th>500</th>\n",
       "      <td>https://en.wikipedia.org/wiki/Blackbear</td>\n",
       "      <td>blackbear</td>\n",
       "      <td>{'Origin': 'Canada', 'Genres': 'Northern conte...</td>\n",
       "      <td>Canada Northern contemporary 2000–present Trib...</td>\n",
       "    </tr>\n",
       "    <tr>\n",
       "      <th>501</th>\n",
       "      <td>https://en.wikipedia.org/wiki/Fun.</td>\n",
       "      <td>fun.</td>\n",
       "      <td>{'Origin': 'New York City, U.S.', 'Genres': 'B...</td>\n",
       "      <td>New York City, U.S. Baroque pop [1] alternativ...</td>\n",
       "    </tr>\n",
       "    <tr>\n",
       "      <th>502</th>\n",
       "      <td>https://en.wikipedia.org/wiki/Gnash</td>\n",
       "      <td>gnash</td>\n",
       "      <td>{'Birth name': 'Garrett Charles Nash', 'Born':...</td>\n",
       "      <td>Garrett Charles Nash ( 1993-06-16 ) June 16, 1...</td>\n",
       "    </tr>\n",
       "    <tr>\n",
       "      <th>503</th>\n",
       "      <td>https://en.wikipedia.org/wiki/Twenty_one_pilots</td>\n",
       "      <td>twenty one pilots</td>\n",
       "      <td>{'Origin': 'Columbus, Ohio , U.S.', 'Genres': ...</td>\n",
       "      <td>Columbus, Ohio , U.S. Alternative rock alterna...</td>\n",
       "    </tr>\n",
       "    <tr>\n",
       "      <th>504</th>\n",
       "      <td>https://en.wikipedia.org/wiki/Will.i.am</td>\n",
       "      <td>will.i.am</td>\n",
       "      <td>{'Birth name': 'William James Adams Jr.', 'Als...</td>\n",
       "      <td>William James Adams Jr. Will 1X illwilly Willo...</td>\n",
       "    </tr>\n",
       "  </tbody>\n",
       "</table>\n",
       "<p>505 rows × 4 columns</p>\n",
       "</div>"
      ],
      "text/plain": [
       "                                                   URL                 Name  \\\n",
       "0               https://en.wikipedia.org/wiki/2_Chainz             2 Chainz   \n",
       "1              https://en.wikipedia.org/wiki/21_Savage            21 Savage   \n",
       "2               https://en.wikipedia.org/wiki/24kGoldn             24kGoldn   \n",
       "3                  https://en.wikipedia.org/wiki/3OH!3                3OH!3   \n",
       "4    https://en.wikipedia.org/wiki/5_Seconds_Of_Summer  5 Seconds Of Summer   \n",
       "..                                                 ...                  ...   \n",
       "500            https://en.wikipedia.org/wiki/Blackbear            blackbear   \n",
       "501                 https://en.wikipedia.org/wiki/Fun.                 fun.   \n",
       "502                https://en.wikipedia.org/wiki/Gnash                gnash   \n",
       "503    https://en.wikipedia.org/wiki/Twenty_one_pilots    twenty one pilots   \n",
       "504            https://en.wikipedia.org/wiki/Will.i.am            will.i.am   \n",
       "\n",
       "                                       Scraped_Sidebar  \\\n",
       "0    {'Born': 'Tauheed K. Epps ( 1977-09-12 ) Septe...   \n",
       "1    {'Birth name': 'Shéyaa Bin Abraham-Joseph', 'B...   \n",
       "2    {'Birth name': 'Golden Landis Von Jones', 'Als...   \n",
       "3    {'Origin': 'Boulder, Colorado , U.S.', 'Genres...   \n",
       "4    {'Also known as': '5SOS', 'Origin': 'Sydney , ...   \n",
       "..                                                 ...   \n",
       "500  {'Origin': 'Canada', 'Genres': 'Northern conte...   \n",
       "501  {'Origin': 'New York City, U.S.', 'Genres': 'B...   \n",
       "502  {'Birth name': 'Garrett Charles Nash', 'Born':...   \n",
       "503  {'Origin': 'Columbus, Ohio , U.S.', 'Genres': ...   \n",
       "504  {'Birth name': 'William James Adams Jr.', 'Als...   \n",
       "\n",
       "                                               content  \n",
       "0    Tauheed K. Epps ( 1977-09-12 ) September 12, 1...  \n",
       "1    Shéyaa Bin Abraham-Joseph ( 1992-10-22 ) Octob...  \n",
       "2    Golden Landis Von Jones Goldn El Dorado ( 2000...  \n",
       "3    Boulder, Colorado , U.S. Electropop synth-pop ...  \n",
       "4    5SOS Sydney , New South Wales , Australia Pop ...  \n",
       "..                                                 ...  \n",
       "500  Canada Northern contemporary 2000–present Trib...  \n",
       "501  New York City, U.S. Baroque pop [1] alternativ...  \n",
       "502  Garrett Charles Nash ( 1993-06-16 ) June 16, 1...  \n",
       "503  Columbus, Ohio , U.S. Alternative rock alterna...  \n",
       "504  William James Adams Jr. Will 1X illwilly Willo...  \n",
       "\n",
       "[505 rows x 4 columns]"
      ]
     },
     "execution_count": 2,
     "metadata": {},
     "output_type": "execute_result"
    }
   ],
   "source": [
    "raw_data = pd.read_pickle('raw_data.pkl')\n",
    "raw_data"
   ]
  },
  {
   "cell_type": "markdown",
   "id": "66d02959-1058-4db3-a56b-f58268c333b3",
   "metadata": {},
   "source": [
    "# Labelling"
   ]
  },
  {
   "cell_type": "code",
   "execution_count": 3,
   "id": "a08d6506-34a5-4411-8c42-356d8743a26f",
   "metadata": {
    "execution": {
     "iopub.execute_input": "2023-11-24T09:28:10.034642Z",
     "iopub.status.busy": "2023-11-24T09:28:10.034413Z",
     "iopub.status.idle": "2023-11-24T09:28:10.040181Z",
     "shell.execute_reply": "2023-11-24T09:28:10.039083Z",
     "shell.execute_reply.started": "2023-11-24T09:28:10.034622Z"
    },
    "tags": []
   },
   "outputs": [],
   "source": [
    "mentors = [\n",
    "'Adele',\n",
    "'Alicia Keys',\n",
    "'Amy Winehouse',\n",
    "'Anderson .Paak',\n",
    "'Bruno Mars',\n",
    "'Jason Mraz',\n",
    "'Josh Groban',\n",
    "'Lady Gaga',\n",
    "'Lana Del Rey',\n",
    "'Lorde',\n",
    "'Michael Buble',\n",
    "'Natasha Bedingfield',\n",
    "'Norah Jones',\n",
    "'Pentatonix',\n",
    "'Sam Smith',\n",
    "'Sara Bareilles',\n",
    "'Susan Boyle',\n",
    "'Trans-Siberian Orchestra',\n",
    "'Troye Sivan',\n",
    "]\n"
   ]
  },
  {
   "cell_type": "code",
   "execution_count": 4,
   "id": "e975d397-469e-41af-8f55-93f5e8dd0af2",
   "metadata": {
    "execution": {
     "iopub.execute_input": "2023-11-24T09:28:10.041560Z",
     "iopub.status.busy": "2023-11-24T09:28:10.041343Z",
     "iopub.status.idle": "2023-11-24T09:28:10.051169Z",
     "shell.execute_reply": "2023-11-24T09:28:10.050088Z",
     "shell.execute_reply.started": "2023-11-24T09:28:10.041540Z"
    },
    "tags": []
   },
   "outputs": [],
   "source": [
    "mentors_for_choosing = [\n",
    "    'BTS',\n",
    "    'Becky G',\n",
    "    'Beyonce',\n",
    "    'Billie Eilish',\n",
    "    'Carly Rae Jepsen',\n",
    "    'Celine Dion',\n",
    "    'Charlie Puth',\n",
    "    'Christina Aguilera',\n",
    "    'Colbie Caillat',\n",
    "    'Coldplay',\n",
    "    'EXO',\n",
    "    'Ed Sheeran',\n",
    "    'Ellie Goulding',\n",
    "    'Elton John',\n",
    "    'Florence + The Machine',\n",
    "    'GAYLE',\n",
    "    'H.E.R.',\n",
    "    'Hozier',\n",
    "    'Joji',\n",
    "    'Ariana Grande',\n",
    "    'Capital Cities',\n",
    "    'Kendrick Lamar',\n",
    "    'Lauv',\n",
    "    'Mac Miller',\n",
    "    'Sade',\n",
    "    'Steve Lacy',\n",
    "]\n",
    "np.random.seed(42)\n",
    "choices = [np.random.choice([0,1]) for _ in mentors_for_choosing]\n",
    "mentors_df = pd.DataFrame(zip(mentors_for_choosing, choices),\n",
    "                       columns=['Artist', 'Label'])\n",
    "mentors.extend(mentors_df[mentors_df['Label']==1]['Artist'].to_list())"
   ]
  },
  {
   "cell_type": "code",
   "execution_count": 5,
   "id": "5ad6fa11-b5e3-4408-919f-8827f8e23652",
   "metadata": {
    "execution": {
     "iopub.execute_input": "2023-11-24T09:28:10.052528Z",
     "iopub.status.busy": "2023-11-24T09:28:10.052313Z",
     "iopub.status.idle": "2023-11-24T09:28:10.059209Z",
     "shell.execute_reply": "2023-11-24T09:28:10.058126Z",
     "shell.execute_reply.started": "2023-11-24T09:28:10.052509Z"
    },
    "tags": []
   },
   "outputs": [
    {
     "data": {
      "text/plain": [
       "['Adele',\n",
       " 'Alicia Keys',\n",
       " 'Amy Winehouse',\n",
       " 'Anderson .Paak',\n",
       " 'Becky G',\n",
       " 'Bruno Mars',\n",
       " 'Capital Cities',\n",
       " 'Celine Dion',\n",
       " 'Coldplay',\n",
       " 'Florence + The Machine',\n",
       " 'H.E.R.',\n",
       " 'Hozier',\n",
       " 'Jason Mraz',\n",
       " 'Joji',\n",
       " 'Josh Groban',\n",
       " 'Lady Gaga',\n",
       " 'Lana Del Rey',\n",
       " 'Lauv',\n",
       " 'Lorde',\n",
       " 'Mac Miller',\n",
       " 'Michael Buble',\n",
       " 'Natasha Bedingfield',\n",
       " 'Norah Jones',\n",
       " 'Pentatonix',\n",
       " 'Sade',\n",
       " 'Sam Smith',\n",
       " 'Sara Bareilles',\n",
       " 'Steve Lacy',\n",
       " 'Susan Boyle',\n",
       " 'Trans-Siberian Orchestra',\n",
       " 'Troye Sivan']"
      ]
     },
     "execution_count": 5,
     "metadata": {},
     "output_type": "execute_result"
    }
   ],
   "source": [
    "mentors.sort()\n",
    "mentors"
   ]
  },
  {
   "cell_type": "code",
   "execution_count": 6,
   "id": "1b9b84f5-476d-4ef7-90c3-6f3f9ffd9734",
   "metadata": {
    "execution": {
     "iopub.execute_input": "2023-11-24T09:28:10.060337Z",
     "iopub.status.busy": "2023-11-24T09:28:10.060125Z",
     "iopub.status.idle": "2023-11-24T09:28:10.067139Z",
     "shell.execute_reply": "2023-11-24T09:28:10.066053Z",
     "shell.execute_reply.started": "2023-11-24T09:28:10.060318Z"
    },
    "tags": []
   },
   "outputs": [
    {
     "data": {
      "text/plain": [
       "31"
      ]
     },
     "execution_count": 6,
     "metadata": {},
     "output_type": "execute_result"
    }
   ],
   "source": [
    "len(mentors)"
   ]
  },
  {
   "cell_type": "code",
   "execution_count": 7,
   "id": "482a33a4-4d09-4d71-8c65-2eff5c748889",
   "metadata": {
    "execution": {
     "iopub.execute_input": "2023-11-24T09:28:10.069901Z",
     "iopub.status.busy": "2023-11-24T09:28:10.069538Z",
     "iopub.status.idle": "2023-11-24T09:28:10.076725Z",
     "shell.execute_reply": "2023-11-24T09:28:10.075470Z",
     "shell.execute_reply.started": "2023-11-24T09:28:10.069880Z"
    },
    "tags": []
   },
   "outputs": [],
   "source": [
    "correct_index = raw_data[raw_data['Name'].isin(mentors)].index.to_list()\n",
    "label_arr = np.zeros(len(raw_data))\n",
    "for i in correct_index:\n",
    "    label_arr[i] = 1"
   ]
  },
  {
   "cell_type": "code",
   "execution_count": 8,
   "id": "32ca22a2-4c54-4ab4-8c66-5d056cc19d11",
   "metadata": {
    "execution": {
     "iopub.execute_input": "2023-11-24T09:28:10.078045Z",
     "iopub.status.busy": "2023-11-24T09:28:10.077830Z",
     "iopub.status.idle": "2023-11-24T09:28:10.089492Z",
     "shell.execute_reply": "2023-11-24T09:28:10.087786Z",
     "shell.execute_reply.started": "2023-11-24T09:28:10.078027Z"
    },
    "tags": []
   },
   "outputs": [],
   "source": [
    "raw_data['mentor'] = label_arr\n",
    "raw_data.to_pickle('raw_with_labels.pkl')"
   ]
  },
  {
   "cell_type": "markdown",
   "id": "6d4f72c7-a374-454b-a899-d066ba4bfc9f",
   "metadata": {},
   "source": [
    "# Query"
   ]
  },
  {
   "cell_type": "code",
   "execution_count": 9,
   "id": "e515931f-9223-4389-a049-699196663fd7",
   "metadata": {
    "execution": {
     "iopub.execute_input": "2023-11-24T09:28:10.090771Z",
     "iopub.status.busy": "2023-11-24T09:28:10.090552Z",
     "iopub.status.idle": "2023-11-24T09:28:10.100969Z",
     "shell.execute_reply": "2023-11-24T09:28:10.099928Z",
     "shell.execute_reply.started": "2023-11-24T09:28:10.090752Z"
    },
    "tags": []
   },
   "outputs": [
    {
     "data": {
      "text/html": [
       "<div>\n",
       "<style scoped>\n",
       "    .dataframe tbody tr th:only-of-type {\n",
       "        vertical-align: middle;\n",
       "    }\n",
       "\n",
       "    .dataframe tbody tr th {\n",
       "        vertical-align: top;\n",
       "    }\n",
       "\n",
       "    .dataframe thead th {\n",
       "        text-align: right;\n",
       "    }\n",
       "</style>\n",
       "<table border=\"1\" class=\"dataframe\">\n",
       "  <thead>\n",
       "    <tr style=\"text-align: right;\">\n",
       "      <th></th>\n",
       "      <th>URL</th>\n",
       "      <th>Scraped_Sidebar</th>\n",
       "      <th>Sidebar_Content</th>\n",
       "    </tr>\n",
       "  </thead>\n",
       "  <tbody>\n",
       "    <tr>\n",
       "      <th>Laufey</th>\n",
       "      <td>https://en.wikipedia.org/wiki/Laufey_(singer)</td>\n",
       "      <td>{'Birth name': 'Laufey Lín Bīng Jónsdóttir / 林...</td>\n",
       "      <td>Laufey Lín Bīng Jónsdóttir / 林冰 [1] ( 1999-04-...</td>\n",
       "    </tr>\n",
       "  </tbody>\n",
       "</table>\n",
       "</div>"
      ],
      "text/plain": [
       "                                                  URL  \\\n",
       "Laufey  https://en.wikipedia.org/wiki/Laufey_(singer)   \n",
       "\n",
       "                                          Scraped_Sidebar  \\\n",
       "Laufey  {'Birth name': 'Laufey Lín Bīng Jónsdóttir / 林...   \n",
       "\n",
       "                                          Sidebar_Content  \n",
       "Laufey  Laufey Lín Bīng Jónsdóttir / 林冰 [1] ( 1999-04-...  "
      ]
     },
     "execution_count": 9,
     "metadata": {},
     "output_type": "execute_result"
    }
   ],
   "source": [
    "query_df = pd.read_pickle('query_df.pkl')\n",
    "query_df"
   ]
  },
  {
   "cell_type": "markdown",
   "id": "0d3ecd37-e2c6-46c8-abad-f32186e7418f",
   "metadata": {},
   "source": [
    "# Information Retrieval"
   ]
  },
  {
   "cell_type": "code",
   "execution_count": 12,
   "id": "2e428e5f-4108-4a03-b598-210acba5f4e9",
   "metadata": {
    "execution": {
     "iopub.execute_input": "2023-11-24T09:29:34.084301Z",
     "iopub.status.busy": "2023-11-24T09:29:34.083546Z",
     "iopub.status.idle": "2023-11-24T09:29:34.099821Z",
     "shell.execute_reply": "2023-11-24T09:29:34.097889Z",
     "shell.execute_reply.started": "2023-11-24T09:29:34.084237Z"
    },
    "tags": []
   },
   "outputs": [],
   "source": [
    "def remove_parentheses(text):\n",
    "    \"\"\"Remove content within parenthesis from given text\"\"\"\n",
    "    if isinstance(text, str):\n",
    "        return re.sub(r'\\(.*?\\)', '', text)\n",
    "    return text\n",
    "\n",
    "raw_data['content'] = raw_data['content'].apply(remove_parentheses)\n",
    "query_df['Sidebar_Content'] = (query_df['Sidebar_Content']\n",
    "                               .apply(remove_parentheses))"
   ]
  },
  {
   "cell_type": "code",
   "execution_count": 15,
   "id": "c3577e0b-8e6f-478a-b128-548f74dcbe4b",
   "metadata": {
    "execution": {
     "iopub.execute_input": "2023-11-24T09:29:45.827618Z",
     "iopub.status.busy": "2023-11-24T09:29:45.826872Z",
     "iopub.status.idle": "2023-11-24T09:29:45.956183Z",
     "shell.execute_reply": "2023-11-24T09:29:45.954245Z",
     "shell.execute_reply.started": "2023-11-24T09:29:45.827557Z"
    },
    "tags": []
   },
   "outputs": [],
   "source": [
    "vectorizer = TfidfVectorizer()\n",
    "bow_matrix = vectorizer.fit_transform(raw_data['content'])\n",
    "bow_matrix = pd.DataFrame(bow_matrix.toarray(), \n",
    "                          columns=vectorizer.get_feature_names_out())\n",
    "bow_matrix.to_pickle('bow.pkl')"
   ]
  },
  {
   "cell_type": "code",
   "execution_count": 16,
   "id": "fcca6291-bb98-4b47-99b8-a138ff78232b",
   "metadata": {
    "execution": {
     "iopub.execute_input": "2023-11-24T09:29:46.073724Z",
     "iopub.status.busy": "2023-11-24T09:29:46.073008Z",
     "iopub.status.idle": "2023-11-24T09:29:46.096357Z",
     "shell.execute_reply": "2023-11-24T09:29:46.094583Z",
     "shell.execute_reply.started": "2023-11-24T09:29:46.073663Z"
    },
    "tags": []
   },
   "outputs": [],
   "source": [
    "new_doc_vector = vectorizer.transform(query_df['Sidebar_Content'])\n",
    "target_matrix = pd.DataFrame(new_doc_vector.toarray(),\n",
    "                             columns=vectorizer.get_feature_names_out())\n",
    "target_matrix.to_pickle('target.pkl')"
   ]
  },
  {
   "cell_type": "markdown",
   "id": "d0b0eac8-9c4d-4dab-adc7-4d8e693bcbe4",
   "metadata": {},
   "source": [
    "# Result and Analysis"
   ]
  },
  {
   "cell_type": "code",
   "execution_count": 17,
   "id": "09087723-0191-47e6-89fd-65aef824c60a",
   "metadata": {
    "execution": {
     "iopub.execute_input": "2023-11-24T09:29:47.318670Z",
     "iopub.status.busy": "2023-11-24T09:29:47.317868Z",
     "iopub.status.idle": "2023-11-24T09:29:47.351867Z",
     "shell.execute_reply": "2023-11-24T09:29:47.350625Z",
     "shell.execute_reply.started": "2023-11-24T09:29:47.318606Z"
    },
    "tags": []
   },
   "outputs": [],
   "source": [
    "def dcos(vec1, vec2):\n",
    "    \"\"\"Compute cosine distance between vec1 and vec2\n",
    "\n",
    "    If `vec1` and `vec2` are same-sized matrices, an ndarray of the cosine\n",
    "    distance of corresponding rows will be returned instead.\n",
    "\n",
    "    Parameters\n",
    "    ----------\n",
    "    vec1 : ndarray\n",
    "        First vector\n",
    "    vec2 : ndarray\n",
    "        Second vector\n",
    "\n",
    "    Returns\n",
    "    -------\n",
    "    float\n",
    "        cosine distance of `vec1` and `vec2`\n",
    "    \"\"\"\n",
    "    return 1 - cosine_similarity(vec1, vec2)\n",
    "\n",
    "def get_confusion(actual, results, all_labels):\n",
    "    \"\"\"Accept the label of the correct class, the returned results as indices\n",
    "    to the objects and all labels, and return the confusion matrix as a\n",
    "    pandas DataFrame.\"\"\"\n",
    "    conf = {\n",
    "        'relevant': {\n",
    "            'relevant': 0,\n",
    "            'irrelevant': 0\n",
    "        },\n",
    "        'irrelevant': {\n",
    "            'relevant': 0,\n",
    "            'irrelevant': 0\n",
    "        },\n",
    "    }\n",
    "\n",
    "    for i, j in enumerate(all_labels):\n",
    "        if i in results:\n",
    "            if j == actual:\n",
    "                conf['relevant']['relevant'] += 1\n",
    "            else:\n",
    "                conf['irrelevant']['relevant'] += 1\n",
    "        else:\n",
    "            if j == actual:\n",
    "                conf['relevant']['irrelevant'] += 1\n",
    "            else:\n",
    "                conf['irrelevant']['irrelevant'] += 1\n",
    "\n",
    "    return pd.DataFrame(conf)\n",
    "\n",
    "def nearest_k(query, objects, k, dist):\n",
    "    \"\"\"Return the indices to objects most similar to query\n",
    "\n",
    "    Parameters\n",
    "    ----------\n",
    "    query : ndarray\n",
    "        query object represented in the same form vector representation as the\n",
    "        objects\n",
    "    objects : ndarray\n",
    "        vector-represented objects in the database; rows correspond to\n",
    "        objects, columns correspond to features\n",
    "    k : int\n",
    "        number of most similar objects to return\n",
    "    dist : function\n",
    "        accepts two ndarrays as parameters then returns their distance\n",
    "\n",
    "    Returns\n",
    "    -------\n",
    "    most_similar : ndarray\n",
    "        Indices to the most similar objects in the database\n",
    "    \"\"\"\n",
    "    return np.argsort(dist(query, objects).flatten(), kind=\"stable\")[:k]\n",
    "\n",
    "def precision(confusion):\n",
    "    \"\"\"Return precision from given confusion matrix\"\"\"\n",
    "    return confusion.iat[0,0]/confusion.iloc[0,:].sum()\n",
    "\n",
    "def recall(confusion):\n",
    "    \"\"\"Return recall from given confusion matrix\"\"\"\n",
    "    return confusion.iat[0,0]/confusion.iloc[:,0].sum()\n",
    "\n",
    "def f_measure(precision, recall, beta=1):\n",
    "    \"\"\"Return F-measure from given precision, recall, and beta\"\"\"\n",
    "    return ((1 + beta**2) * (precision * recall)\n",
    "            / ((beta**2 * precision) + recall))\n",
    "\n",
    "def pr_curve(query, objects, dist, actual, all_labels):\n",
    "    \"\"\"Draw PR curve\n",
    "\n",
    "    Parameters\n",
    "    ----------\n",
    "    query: array-like\n",
    "        find objects similar to this query\n",
    "    objects: ndarray\n",
    "        database of objects to search in\n",
    "    dist: function\n",
    "        function that returns the distance of two input `ndarray`s\n",
    "    actual: int\n",
    "        class label\n",
    "    all_labels: array-like\n",
    "        label of each object in the database\n",
    "\n",
    "    Returns\n",
    "    -------\n",
    "    matplotlib.Axes\n",
    "        rendered PR curve\n",
    "    \"\"\"\n",
    "    all_labels = np.asarray(all_labels)\n",
    "    results = nearest_k(query, objects, len(all_labels), dist)\n",
    "    rs = (all_labels[results] == actual).cumsum()\n",
    "    N = (all_labels == actual).sum()\n",
    "    precisions = rs / np.arange(1, len(rs) + 1)\n",
    "    recalls = rs / N\n",
    "    recalls = [0] + recalls.tolist()\n",
    "    precisions = [1] + precisions.tolist()\n",
    "\n",
    "    fig, ax = plt.subplots()\n",
    "    ax.set_aspect(\"equal\")\n",
    "    ax.step(recalls, precisions, where=\"post\")\n",
    "    ax.fill_between(recalls, precisions, step=\"post\", alpha=0.8)\n",
    "    ax.set_xlim(0, 1)\n",
    "    ax.set_ylim(0, 1)\n",
    "    ax.set_xlabel(\"recall\")\n",
    "    ax.set_ylabel(\"precision\")\n",
    "    ax.set_title('Precision-Recall Curve')\n",
    "    aucpr = auc_pr(query, objects, dist,\n",
    "                    actual,all_labels)\n",
    "    ax.text(0.3, 0.3, f\"AUC-PR: {aucpr:.4f}\",\n",
    "            bbox=dict(alpha=0.5))\n",
    "    txt=\"\"\"\n",
    "    The PR curve retains a high precision when k is low,\n",
    "    and quickly dips afterwards. The curve shows that after\n",
    "    getting the top 3 artists which were true positives,\n",
    "    the next 28 mentors were spread out until k reaches the maximum.\"\"\"\n",
    "    plt.figtext(0, -0.2, txt, wrap=True, horizontalalignment='left',\n",
    "                fontsize=12)\n",
    "    return ax\n",
    "\n",
    "def auc_pr(query, objects, dist, actual, all_labels):\n",
    "    \"\"\"Compute area under the PR curve\n",
    "\n",
    "    Parameters\n",
    "    ----------\n",
    "    query: array-like\n",
    "        find objects similar to this query\n",
    "    objects: numpy.ndarray\n",
    "        database of objects to search in\n",
    "    dist: function\n",
    "        function that returns the distance of two input `ndarray`s\n",
    "    actual: int\n",
    "        class label\n",
    "    all_labels: array-like\n",
    "        label of each object in the database\n",
    "\n",
    "    Returns\n",
    "    -------\n",
    "    float\n",
    "        area under the PR curve\n",
    "    \"\"\"\n",
    "    from scipy.integrate import trapz\n",
    "\n",
    "    all_labels = np.asarray(all_labels)\n",
    "    results = nearest_k(query, objects, len(all_labels), dist)\n",
    "    rs = (all_labels[results] == actual).cumsum()\n",
    "    N = (all_labels == actual).sum()\n",
    "    precisions = rs / np.arange(1, len(rs) + 1)\n",
    "    recalls = rs / N\n",
    "    recalls = [0] + recalls.tolist()\n",
    "    precisions = [1] + precisions.tolist()\n",
    "    return trapz(precisions, recalls)"
   ]
  },
  {
   "cell_type": "code",
   "execution_count": 18,
   "id": "771cbe9b-dd9e-46fb-b976-6663d4810476",
   "metadata": {
    "execution": {
     "iopub.execute_input": "2023-11-24T09:29:47.925156Z",
     "iopub.status.busy": "2023-11-24T09:29:47.924394Z",
     "iopub.status.idle": "2023-11-24T09:29:48.660314Z",
     "shell.execute_reply": "2023-11-24T09:29:48.659743Z",
     "shell.execute_reply.started": "2023-11-24T09:29:47.925092Z"
    },
    "tags": []
   },
   "outputs": [
    {
     "data": {
      "image/png": "[encoded data removed]",
      "text/plain": [
       "<Figure size 640x480 with 1 Axes>"
      ]
     },
     "metadata": {},
     "output_type": "display_data"
    }
   ],
   "source": [
    "pr_curve(target_matrix, bow_matrix, dcos, 1, raw_data['mentor'].to_list());"
   ]
  },
  {
   "cell_type": "code",
   "execution_count": 19,
   "id": "b1b67dca-2c9b-457b-aee7-51970e0f38a3",
   "metadata": {
    "execution": {
     "iopub.execute_input": "2023-11-24T09:29:48.661494Z",
     "iopub.status.busy": "2023-11-24T09:29:48.661282Z",
     "iopub.status.idle": "2023-11-24T09:29:48.743848Z",
     "shell.execute_reply": "2023-11-24T09:29:48.688125Z",
     "shell.execute_reply.started": "2023-11-24T09:29:48.661474Z"
    },
    "tags": []
   },
   "outputs": [
    {
     "data": {
      "text/plain": [
       "0.21793544807089688"
      ]
     },
     "execution_count": 19,
     "metadata": {},
     "output_type": "execute_result"
    }
   ],
   "source": [
    "auc_pr(target_matrix, bow_matrix, dcos, 1, raw_data['mentor'].to_list())"
   ]
  },
  {
   "cell_type": "markdown",
   "id": "0eafaa81-5304-4875-95b4-fc3d652e1307",
   "metadata": {},
   "source": [
    "# Results"
   ]
  },
  {
   "cell_type": "code",
   "execution_count": 20,
   "id": "46a5f880-dcfe-43ec-8ae9-ba0f3af22993",
   "metadata": {
    "execution": {
     "iopub.execute_input": "2023-11-24T09:29:49.415944Z",
     "iopub.status.busy": "2023-11-24T09:29:49.415196Z",
     "iopub.status.idle": "2023-11-24T09:29:49.548456Z",
     "shell.execute_reply": "2023-11-24T09:29:49.545659Z",
     "shell.execute_reply.started": "2023-11-24T09:29:49.415881Z"
    },
    "tags": []
   },
   "outputs": [
    {
     "data": {
      "text/html": [
       "<div>\n",
       "<style scoped>\n",
       "    .dataframe tbody tr th:only-of-type {\n",
       "        vertical-align: middle;\n",
       "    }\n",
       "\n",
       "    .dataframe tbody tr th {\n",
       "        vertical-align: top;\n",
       "    }\n",
       "\n",
       "    .dataframe thead th {\n",
       "        text-align: right;\n",
       "    }\n",
       "</style>\n",
       "<table border=\"1\" class=\"dataframe\">\n",
       "  <thead>\n",
       "    <tr style=\"text-align: right;\">\n",
       "      <th></th>\n",
       "      <th>Name</th>\n",
       "      <th>mentor</th>\n",
       "    </tr>\n",
       "  </thead>\n",
       "  <tbody>\n",
       "    <tr>\n",
       "      <th>422</th>\n",
       "      <td>Steve Lacy</td>\n",
       "      <td>1.0</td>\n",
       "    </tr>\n",
       "    <tr>\n",
       "      <th>257</th>\n",
       "      <td>Lauv</td>\n",
       "      <td>1.0</td>\n",
       "    </tr>\n",
       "    <tr>\n",
       "      <th>341</th>\n",
       "      <td>Norah Jones</td>\n",
       "      <td>1.0</td>\n",
       "    </tr>\n",
       "    <tr>\n",
       "      <th>137</th>\n",
       "      <td>Em Beihold</td>\n",
       "      <td>0.0</td>\n",
       "    </tr>\n",
       "    <tr>\n",
       "      <th>369</th>\n",
       "      <td>Pop Smoke</td>\n",
       "      <td>0.0</td>\n",
       "    </tr>\n",
       "  </tbody>\n",
       "</table>\n",
       "</div>"
      ],
      "text/plain": [
       "            Name  mentor\n",
       "422   Steve Lacy     1.0\n",
       "257         Lauv     1.0\n",
       "341  Norah Jones     1.0\n",
       "137   Em Beihold     0.0\n",
       "369    Pop Smoke     0.0"
      ]
     },
     "execution_count": 20,
     "metadata": {},
     "output_type": "execute_result"
    }
   ],
   "source": [
    "result = (raw_data.iloc[nearest_k(target_matrix, bow_matrix, 5, dcos)]\n",
    "         )[['Name', 'mentor']]\n",
    "result"
   ]
  },
  {
   "cell_type": "code",
   "execution_count": 21,
   "id": "8d0b7747-ab09-42a5-b279-093f72bd57c1",
   "metadata": {
    "execution": {
     "iopub.execute_input": "2023-11-24T09:29:49.703372Z",
     "iopub.status.busy": "2023-11-24T09:29:49.702681Z",
     "iopub.status.idle": "2023-11-24T09:29:49.713172Z",
     "shell.execute_reply": "2023-11-24T09:29:49.711325Z",
     "shell.execute_reply.started": "2023-11-24T09:29:49.703312Z"
    },
    "tags": []
   },
   "outputs": [],
   "source": [
    "result.to_pickle('result.pkl')"
   ]
  },
  {
   "cell_type": "code",
   "execution_count": 22,
   "id": "072964f8-62ba-4d84-89a8-e9ef49c2058c",
   "metadata": {
    "execution": {
     "iopub.execute_input": "2023-11-24T09:29:49.891640Z",
     "iopub.status.busy": "2023-11-24T09:29:49.890955Z",
     "iopub.status.idle": "2023-11-24T09:29:49.943581Z",
     "shell.execute_reply": "2023-11-24T09:29:49.927733Z",
     "shell.execute_reply.started": "2023-11-24T09:29:49.891579Z"
    },
    "tags": []
   },
   "outputs": [],
   "source": [
    "conf_mat = get_confusion(1, nearest_k(target_matrix, bow_matrix, 5, dcos),\n",
    "                         raw_data['mentor'])"
   ]
  },
  {
   "cell_type": "code",
   "execution_count": 23,
   "id": "6659522d-feec-441d-ae67-5f80468464d4",
   "metadata": {
    "execution": {
     "iopub.execute_input": "2023-11-24T09:29:50.304287Z",
     "iopub.status.busy": "2023-11-24T09:29:50.303594Z",
     "iopub.status.idle": "2023-11-24T09:29:50.316519Z",
     "shell.execute_reply": "2023-11-24T09:29:50.314609Z",
     "shell.execute_reply.started": "2023-11-24T09:29:50.304226Z"
    },
    "tags": []
   },
   "outputs": [
    {
     "data": {
      "text/plain": [
       "0.6"
      ]
     },
     "execution_count": 23,
     "metadata": {},
     "output_type": "execute_result"
    }
   ],
   "source": [
    "precision(conf_mat)"
   ]
  },
  {
   "cell_type": "code",
   "execution_count": 24,
   "id": "3b0c89cf-2da6-4a7b-af48-ca8c159ba9dc",
   "metadata": {
    "execution": {
     "iopub.execute_input": "2023-11-24T09:29:50.540043Z",
     "iopub.status.busy": "2023-11-24T09:29:50.539312Z",
     "iopub.status.idle": "2023-11-24T09:29:50.551943Z",
     "shell.execute_reply": "2023-11-24T09:29:50.550064Z",
     "shell.execute_reply.started": "2023-11-24T09:29:50.539978Z"
    },
    "tags": []
   },
   "outputs": [
    {
     "data": {
      "text/plain": [
       "0.0967741935483871"
      ]
     },
     "execution_count": 24,
     "metadata": {},
     "output_type": "execute_result"
    }
   ],
   "source": [
    "recall(conf_mat)"
   ]
  },
  {
   "cell_type": "code",
   "execution_count": 25,
   "id": "7e867e85-fb89-4d97-a0aa-d0225ea6e5d4",
   "metadata": {
    "execution": {
     "iopub.execute_input": "2023-11-24T09:29:51.121622Z",
     "iopub.status.busy": "2023-11-24T09:29:51.120855Z",
     "iopub.status.idle": "2023-11-24T09:29:51.137738Z",
     "shell.execute_reply": "2023-11-24T09:29:51.136101Z",
     "shell.execute_reply.started": "2023-11-24T09:29:51.121559Z"
    },
    "tags": []
   },
   "outputs": [
    {
     "data": {
      "text/html": [
       "<div>\n",
       "<style scoped>\n",
       "    .dataframe tbody tr th:only-of-type {\n",
       "        vertical-align: middle;\n",
       "    }\n",
       "\n",
       "    .dataframe tbody tr th {\n",
       "        vertical-align: top;\n",
       "    }\n",
       "\n",
       "    .dataframe thead th {\n",
       "        text-align: right;\n",
       "    }\n",
       "</style>\n",
       "<table border=\"1\" class=\"dataframe\">\n",
       "  <thead>\n",
       "    <tr style=\"text-align: right;\">\n",
       "      <th></th>\n",
       "      <th>relevant</th>\n",
       "      <th>irrelevant</th>\n",
       "    </tr>\n",
       "  </thead>\n",
       "  <tbody>\n",
       "    <tr>\n",
       "      <th>relevant</th>\n",
       "      <td>3</td>\n",
       "      <td>2</td>\n",
       "    </tr>\n",
       "    <tr>\n",
       "      <th>irrelevant</th>\n",
       "      <td>28</td>\n",
       "      <td>472</td>\n",
       "    </tr>\n",
       "  </tbody>\n",
       "</table>\n",
       "</div>"
      ],
      "text/plain": [
       "            relevant  irrelevant\n",
       "relevant           3           2\n",
       "irrelevant        28         472"
      ]
     },
     "execution_count": 25,
     "metadata": {},
     "output_type": "execute_result"
    }
   ],
   "source": [
    "conf_mat"
   ]
  },
  {
   "cell_type": "code",
   "execution_count": 26,
   "id": "4a27bda1-b2b5-4751-86a3-a6227896f79c",
   "metadata": {
    "execution": {
     "iopub.execute_input": "2023-11-24T09:29:51.347960Z",
     "iopub.status.busy": "2023-11-24T09:29:51.346923Z",
     "iopub.status.idle": "2023-11-24T09:29:51.363367Z",
     "shell.execute_reply": "2023-11-24T09:29:51.361551Z",
     "shell.execute_reply.started": "2023-11-24T09:29:51.347868Z"
    },
    "tags": []
   },
   "outputs": [
    {
     "data": {
      "text/plain": [
       "0.41976893453145064"
      ]
     },
     "execution_count": 26,
     "metadata": {},
     "output_type": "execute_result"
    }
   ],
   "source": [
    "f_measure(precision(conf_mat), recall(conf_mat), beta=0.3)"
   ]
  },
  {
   "cell_type": "code",
   "execution_count": null,
   "id": "d6a5745a-7da5-45b4-a16d-6372a6e04a5e",
   "metadata": {},
   "outputs": [],
   "source": []
  }
 ],
 "metadata": {
  "kernelspec": {
   "display_name": "Python 3 (ipykernel)",
   "language": "python",
   "name": "python3"
  },
  "language_info": {
   "codemirror_mode": {
    "name": "ipython",
    "version": 3
   },
   "file_extension": ".py",
   "mimetype": "text/x-python",
   "name": "python",
   "nbconvert_exporter": "python",
   "pygments_lexer": "ipython3",
   "version": "3.10.12"
  }
 },
 "nbformat": 4,
 "nbformat_minor": 5
}
