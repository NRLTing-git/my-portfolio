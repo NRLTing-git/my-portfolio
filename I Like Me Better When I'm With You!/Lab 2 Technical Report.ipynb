{
 "cells": [
  {
   "cell_type": "code",
   "execution_count": 1,
   "id": "7d8368b5-eee2-49a9-aae7-8ec8e067982e",
   "metadata": {
    "ExecuteTime": {
     "end_time": "2023-11-24T13:15:22.875123Z",
     "start_time": "2023-11-24T13:15:22.849116Z"
    },
    "execution": {
     "iopub.execute_input": "2023-11-24T11:12:53.568457Z",
     "iopub.status.busy": "2023-11-24T11:12:53.567529Z",
     "iopub.status.idle": "2023-11-24T11:12:53.587468Z",
     "shell.execute_reply": "2023-11-24T11:12:53.582793Z",
     "shell.execute_reply.started": "2023-11-24T11:12:53.568416Z"
    },
    "tags": []
   },
   "outputs": [
    {
     "data": {
      "text/html": [
       "\n",
       "<script\n",
       "    src=\"https://cdnjs.cloudflare.com/ajax/libs/jquery/2.0.3/jquery.min.js \">\n",
       "</script>\n",
       "<script>\n",
       "code_show=true; \n",
       "function code_toggle() {\n",
       " if (code_show){\n",
       " $('div.jp-CodeCell > div.jp-Cell-inputWrapper').hide();\n",
       " } else {\n",
       "$('div.jp-CodeCell > div.jp-Cell-inputWrapper').show();\n",
       " }\n",
       " code_show = !code_show\n",
       "} \n",
       "$( document ).ready(code_toggle);\n",
       "</script>\n",
       "<form action=\"javascript:code_toggle()\"><input type=\"submit\"\n",
       "    value=\"Click here to toggle on/off the raw code.\"></form>\n"
      ],
      "text/plain": [
       "<IPython.core.display.HTML object>"
      ]
     },
     "execution_count": 1,
     "metadata": {},
     "output_type": "execute_result"
    }
   ],
   "source": [
    "from IPython.display import HTML\n",
    "HTML('''\n",
    "<script\n",
    "    src=\"https://cdnjs.cloudflare.com/ajax/libs/jquery/2.0.3/jquery.min.js \">\n",
    "</script>\n",
    "<script>\n",
    "code_show=true; \n",
    "function code_toggle() {\n",
    " if (code_show){\n",
    " $('div.jp-CodeCell > div.jp-Cell-inputWrapper').hide();\n",
    " } else {\n",
    "$('div.jp-CodeCell > div.jp-Cell-inputWrapper').show();\n",
    " }\n",
    " code_show = !code_show\n",
    "} \n",
    "$( document ).ready(code_toggle);\n",
    "</script>\n",
    "<form action=\"javascript:code_toggle()\"><input type=\"submit\"\n",
    "    value=\"Click here to toggle on/off the raw code.\"></form>\n",
    "''')"
   ]
  },
  {
   "cell_type": "code",
   "execution_count": 2,
   "id": "8036c18c-4609-4722-b654-a6bd340a99ca",
   "metadata": {
    "ExecuteTime": {
     "end_time": "2023-11-24T13:15:26.002522Z",
     "start_time": "2023-11-24T13:15:23.736628Z"
    },
    "execution": {
     "iopub.execute_input": "2023-11-24T11:12:53.590318Z",
     "iopub.status.busy": "2023-11-24T11:12:53.590030Z",
     "iopub.status.idle": "2023-11-24T11:12:55.010759Z",
     "shell.execute_reply": "2023-11-24T11:12:55.009513Z",
     "shell.execute_reply.started": "2023-11-24T11:12:53.590294Z"
    },
    "tags": []
   },
   "outputs": [],
   "source": [
    "from lab_functions import *\n",
    "import pandas as pd"
   ]
  },
  {
   "cell_type": "markdown",
   "id": "b12336c0-a9d9-445a-a962-bf33766cc140",
   "metadata": {},
   "source": [
    "![I Like Me Better When I'm With You: Billboard Icons Guiding Future Chart-Toppers](Banner_2.png)\n"
   ]
  },
  {
   "cell_type": "markdown",
   "id": "8afaf23b-a95f-462f-ac60-4c538612b1e3",
   "metadata": {},
   "source": [
    "# Executive Summary\n",
    "\n",
    "In the study, a mentorship model for the music industry was aimed to be developed, leveraging advanced data processing techniques to pair emerging artists with established mentors. Billboard’s Year-End Top Artists data and Wikipedia were utilized, with the aim of bridging the gap between new and experienced artists, offering a strategic path for industry navigation. Tokenization, TF-IDF vectorization, and cosine distance measurement were involved in the approach. Several potential mentors were matched by the information retrieval system, and a Cohen’s Kappa score of 0.57 was returned from the evaluation, indicating moderate agreement. The precision of the system was calculated to be 0.6, and the recall rate was found to be 0.097. The Precision-Recall curve (AUC-PR) of the information retrieval system showed high precision for top-ranked mentor-mentee matches but experienced a sharp decrease beyond the top three matches, calculated at 0.2179. An innovative approach to facilitating mentorship in the music industry is presented by the study, underscoring the importance of strategic pairing for effective mentorship. However, limitations were noted, such as the reliance on publicly available data and the dynamic nature of the industry. The enhancement of these findings through the incorporation of more diverse data sources and real-time analytics is suggested for future research.In the study, a mentorship model for the music industry was aimed to be developed, leveraging advanced data processing techniques to pair emerging artists with established mentors. Billboard’s Year-End Top Artists data and Wikipedia were utilized, with the aim of bridging the gap between new and experienced artists, offering a strategic path for industry navigation. Tokenization, TF-IDF vectorization, and cosine distance measurement were involved in the approach. Several potential mentors were matched by the information retrieval system, and a Cohen’s Kappa score of 0.57 was returned from the evaluation, indicating moderate agreement. The precision of the system was calculated to be 0.6, and the recall rate was found to be 0.097. The Precision-Recall curve (AUC-PR) of the information retrieval system showed high precision for top-ranked mentor-mentee matches but experienced a sharp decrease beyond the top three matches, calculated at 0.2179. An innovative approach to facilitating mentorship in the music industry is presented by the study, underscoring the importance of strategic pairing for effective mentorship. However, limitations were noted, such as the reliance on publicly available data and the dynamic nature of the industry. The enhancement of these findings through the incorporation of more diverse data sources and real-time analytics is suggested for future research."
   ]
  },
  {
   "cell_type": "markdown",
   "id": "50778261-e2aa-4f57-899d-55a35fd698ec",
   "metadata": {},
   "source": [
    "# Introduction\n",
    "\n",
    "For the latest songs and artists in vogue, listeners all over the world looked no further than Billboard. Billboard is a music publication that has been around since the early 20th century which covers news, opinions, reviews and the like. One of their regular publications is their Top 100 artists, a list they update regularly from various metrics (singles sales, radio airplay, digital downloads, and streaming activity).\n",
    "\n",
    "For decades, people referred to Billboard for music recommendations, each week a surprise to its readers as artists old and new fell off the charts or shot up to fame. Chart predictions, however, were a tough call, as there was no way for record labels to tell if an artist would make good sales before a new record was released. Many left this up to luck.\n",
    "\n",
    "To get on the charts, perhaps new and unknown artists would benefit from a mentor. If Billboard artists could teach, inspire, and collaborate with fresh faces in the music industry, they might be able to guide these newcomers to stardom and guarantee chart success. The effectiveness of this mentorship, however, hinges on the strategic pairing of new artists with suitable Billboard veterans.\n",
    "\n",
    "The correlation between new artists and Billboard chart-toppers may be found in their Wikipedia articles. Wikipedia is a web-based encyclopedia, and it contains information on a vast array of topics. This includes information on up-and-coming and already well-established artists in the music industry. Each Wikipedia article contains a plethora of data points that can be used to gauge artist relevancy, such as genre, record label, and years active, among others."
   ]
  },
  {
   "cell_type": "markdown",
   "id": "bf604406-b80b-4572-af6d-844b050279dd",
   "metadata": {},
   "source": [
    "# Significance of the Study and Problem Statement\n",
    "\n",
    "The study’s findings can benefit new artists and record labels by helping them identify experienced artists to serve as models for their marketing strategies. It provides inspiration for new artists by showcasing successful strategies employed by those who have already made a mark in the industry. This can include insights into how to build a distinctive brand, connect with audiences, and leverage various promotional channels.\n",
    "\n",
    "For record labels, the study aids in recognizing artists who have not only achieved success but have done so in a way that aligns with effective marketing practices. Understanding the commonalities in the marketing strategies of these experienced artists can also guide record labels in making informed decisions about signing and promoting emerging talent.\n",
    "\n",
    "In essence, the study acts as a knowledge repository for what has worked well in the past for artists who have navigated the challenges of the music industry. By leveraging these findings, new artists and record labels can make more informed choices, avoid potential pitfalls, and craft marketing strategies that are not only innovative but also grounded in proven success."
   ]
  },
  {
   "cell_type": "markdown",
   "id": "09cc00f1-545f-41e8-b1af-6d6ddcc417bf",
   "metadata": {},
   "source": [
    "# Scope and Limitations\n",
    "\n",
    "This project is to use solely the information found in each artist's Wikipedia sidebar to identify artists who are similar to a certain artist. Over a seventeen-year period, data was gathered from the top 100 artists that were featured on Billboard.com. The main goal is to investigate how artists are similar to each other based on the information with their Wikipedia sidebars, which includes information about birthdates, nationalities, and accolades. It also emphasizes how user-edited and vetted Wikipedia data is, while acknowledging the method's shortcomings and possible biases.\n",
    "\n",
    "Scope:\n",
    "\n",
    "1. **Data Source**: The data used in this project was scraped through billboard.com and wikipedia.com\n",
    "2. **Artist Selection Criteria**: The artists were chosen on their appearance in the top 100 artist of the year over a span of seventeen years. \n",
    "3. **Artist Information**: In this project, the information regarding the selected artist was scrapped via their Wikipedia page specifically in their sidebars. \n",
    "4. **Temporal Range and Focus**: The seventeen-year period offers a contemporary snapshot of trends in the music industry, focusing on artists who have attained a high level of commercial success during this time.\n",
    "\n",
    "Limitation:\n",
    "\n",
    "1. **Data Source Constrain**t: The chosen artists from the Billboard.com doesn’t necessarily represent the whole music industry\n",
    "2. **Data Completeness and Accuracy**: The Wikipedia page of the artists may not fully give accurate and complete information regarding the artists.\n",
    "3. **Scope of the data**: The data is only limited on the Wikipedia sidebar of the artists, omitting some qualitative information that can be found overall Wikipedia content.\n"
   ]
  },
  {
   "cell_type": "markdown",
   "id": "3bf58449-1ac4-424a-a2aa-1adff86de92c",
   "metadata": {
    "tags": []
   },
   "source": [
    "# Data Sources and Description\n",
    "Two datasets were used for the study: the Billboard Year End Top Artists scraped from the Billboard website, and articles from Wikipedia."
   ]
  },
  {
   "cell_type": "markdown",
   "id": "0da30745-ce3b-4ab6-8eae-ede8e8e345ce",
   "metadata": {
    "tags": []
   },
   "source": [
    "## [Billboard Year End Top Artists](https://www.billboard.com/charts/year-end/2022/top-artists/)\n",
    "\n",
    "The Billboard Year End Top Artists dataset (Billboard, 2023) is comprised of the top 100 artists by the end of each year according to their cumulative Billboard score. Their scores and rankings are calculated by radio airplay, digital and retail sales, and streaming. Only data from the years 2006 to 2022 are available on the website. The data was scraped from Billboard’s website last November 16, 2023. The rankings of the artists for each year were not collected as only the artist names were pertinent to our study."
   ]
  },
  {
   "cell_type": "markdown",
   "id": "eec7a607-cc79-420a-b835-8866353926a2",
   "metadata": {},
   "source": [
    "## [English Wikipedia](https://en.wikipedia.org/wiki/Main_Page)\n",
    "\n",
    "\n",
    "The Wikipedia dataset is composed of textual data from the Wikipedia pages from the Wikimedia foundation of recording artists both present in the Billboard dataset and as well as the queries for the information retrieval system.\n",
    "\n",
    "Using the list of artists from the Billboard dataset, their corresponding Wikipedia pages were retrieved using the Wikipedia API. The sidebar content was retrieved by making a query of the artist name as title, and getting the latest revision of their Wikipedia page. The retrieved data contains the sidebar section content of their Wikipedia page which will be used as data for the artist.\n",
    "\n",
    "Similar process was done for specific artists to be used as queries for the information retrieval system. The artists chosen were arbitrary, based mainly on user interest and absence in the Billboard list.\n",
    "\n",
    "Figure 2. Sample of Wikipedia Dataset\n"
   ]
  },
  {
   "cell_type": "markdown",
   "id": "eb6fad33-933c-4787-a688-37a2d3306607",
   "metadata": {
    "tags": []
   },
   "source": [
    "# Data Processing"
   ]
  },
  {
   "cell_type": "markdown",
   "id": "f8b85a76-7a06-4051-924a-c83f9fc16463",
   "metadata": {},
   "source": [
    "Preprocessing is done in the 'Preprocessing_Notebook.ipynb'.\n",
    "\n",
    "## Billboard\n",
    "\n",
    "To scrape Billboard’s website, the function “topartists(year)” was created to take artists names from the chart on the static page of the year input. The function returned a pandas dataframe of all the names that appeared on the chart for the year.\n",
    "\n",
    "Another function “alltopartists()” was made to iterate topartists(year) through all years available on the website (2006 to 2023) and collate them all into one pandas dataframe. Duplicates other than the first iteration of the artist were removed. The list was then sorted alphabetically and re-indexed.\n",
    "\n",
    "The dataframe is then stored into a pickle named “artists.pkl”."
   ]
  },
  {
   "cell_type": "markdown",
   "id": "ff4ab5e3-cb2a-4c11-95ba-0a4e09e49559",
   "metadata": {},
   "source": [
    "## Wikipedia\n",
    "\n",
    "The list of artist names from Billboard is run through the get_wikipedia_url() function, which retrieves the Wikipedia URL for a given page title using the Wikipedia API. Some names return the wrong page (e.g. “The Eagles” returning the Wikipedia page for “Eagle” rather than “Eagles (Band)”) were manually edited from the returned list.\n",
    "\n",
    "These links are then run through the function scrape_wikipedia_sidebar() which scrapes the information from the sidebar of given Wikipedia pages and returns a dictionary with the keys as the sidebar headers and the values as the sidebar values. When the function encounters a notable people page or a disambiguation page, it takes the links out of the page and finds the link that contains [\"band\", \"musician\", \"singer\", \"rapper\", \"artist\"] and recursively runs the found link if any back through the function.\n",
    "The scraped sidebars, along with the urls and original names, are concatenated into a Pandas DataFrame."
   ]
  },
  {
   "cell_type": "code",
   "execution_count": 3,
   "id": "58c8c630-7d77-4ede-a9ed-46309cdba18a",
   "metadata": {
    "execution": {
     "iopub.execute_input": "2023-11-24T11:12:55.012569Z",
     "iopub.status.busy": "2023-11-24T11:12:55.011997Z",
     "iopub.status.idle": "2023-11-24T11:12:55.032782Z",
     "shell.execute_reply": "2023-11-24T11:12:55.031761Z",
     "shell.execute_reply.started": "2023-11-24T11:12:55.012533Z"
    },
    "tags": []
   },
   "outputs": [
    {
     "name": "stdout",
     "output_type": "stream",
     "text": [
      "Table 1. Artist Dataset with Sidebar content\n",
      "Shows the first five samples of the dataset\n"
     ]
    },
    {
     "data": {
      "text/html": [
       "<div>\n",
       "<style scoped>\n",
       "    .dataframe tbody tr th:only-of-type {\n",
       "        vertical-align: middle;\n",
       "    }\n",
       "\n",
       "    .dataframe tbody tr th {\n",
       "        vertical-align: top;\n",
       "    }\n",
       "\n",
       "    .dataframe thead th {\n",
       "        text-align: right;\n",
       "    }\n",
       "</style>\n",
       "<table border=\"1\" class=\"dataframe\">\n",
       "  <thead>\n",
       "    <tr style=\"text-align: right;\">\n",
       "      <th></th>\n",
       "      <th>URL</th>\n",
       "      <th>Name</th>\n",
       "      <th>Scraped_Sidebar</th>\n",
       "      <th>content</th>\n",
       "    </tr>\n",
       "  </thead>\n",
       "  <tbody>\n",
       "    <tr>\n",
       "      <th>0</th>\n",
       "      <td>https://en.wikipedia.org/wiki/2_Chainz</td>\n",
       "      <td>2 Chainz</td>\n",
       "      <td>{'Born': 'Tauheed K. Epps ( 1977-09-12 ) Septe...</td>\n",
       "      <td>Tauheed K. Epps ( 1977-09-12 ) September 12, 1...</td>\n",
       "    </tr>\n",
       "    <tr>\n",
       "      <th>1</th>\n",
       "      <td>https://en.wikipedia.org/wiki/21_Savage</td>\n",
       "      <td>21 Savage</td>\n",
       "      <td>{'Birth name': 'Shéyaa Bin Abraham-Joseph', 'B...</td>\n",
       "      <td>Shéyaa Bin Abraham-Joseph ( 1992-10-22 ) Octob...</td>\n",
       "    </tr>\n",
       "    <tr>\n",
       "      <th>2</th>\n",
       "      <td>https://en.wikipedia.org/wiki/24kGoldn</td>\n",
       "      <td>24kGoldn</td>\n",
       "      <td>{'Birth name': 'Golden Landis Von Jones', 'Als...</td>\n",
       "      <td>Golden Landis Von Jones Goldn El Dorado ( 2000...</td>\n",
       "    </tr>\n",
       "    <tr>\n",
       "      <th>3</th>\n",
       "      <td>https://en.wikipedia.org/wiki/3OH!3</td>\n",
       "      <td>3OH!3</td>\n",
       "      <td>{'Origin': 'Boulder, Colorado , U.S.', 'Genres...</td>\n",
       "      <td>Boulder, Colorado , U.S. Electropop synth-pop ...</td>\n",
       "    </tr>\n",
       "    <tr>\n",
       "      <th>4</th>\n",
       "      <td>https://en.wikipedia.org/wiki/5_Seconds_Of_Summer</td>\n",
       "      <td>5 Seconds Of Summer</td>\n",
       "      <td>{'Also known as': '5SOS', 'Origin': 'Sydney , ...</td>\n",
       "      <td>5SOS Sydney , New South Wales , Australia Pop ...</td>\n",
       "    </tr>\n",
       "  </tbody>\n",
       "</table>\n",
       "</div>"
      ],
      "text/plain": [
       "                                                 URL                 Name  \\\n",
       "0             https://en.wikipedia.org/wiki/2_Chainz             2 Chainz   \n",
       "1            https://en.wikipedia.org/wiki/21_Savage            21 Savage   \n",
       "2             https://en.wikipedia.org/wiki/24kGoldn             24kGoldn   \n",
       "3                https://en.wikipedia.org/wiki/3OH!3                3OH!3   \n",
       "4  https://en.wikipedia.org/wiki/5_Seconds_Of_Summer  5 Seconds Of Summer   \n",
       "\n",
       "                                     Scraped_Sidebar  \\\n",
       "0  {'Born': 'Tauheed K. Epps ( 1977-09-12 ) Septe...   \n",
       "1  {'Birth name': 'Shéyaa Bin Abraham-Joseph', 'B...   \n",
       "2  {'Birth name': 'Golden Landis Von Jones', 'Als...   \n",
       "3  {'Origin': 'Boulder, Colorado , U.S.', 'Genres...   \n",
       "4  {'Also known as': '5SOS', 'Origin': 'Sydney , ...   \n",
       "\n",
       "                                             content  \n",
       "0  Tauheed K. Epps ( 1977-09-12 ) September 12, 1...  \n",
       "1  Shéyaa Bin Abraham-Joseph ( 1992-10-22 ) Octob...  \n",
       "2  Golden Landis Von Jones Goldn El Dorado ( 2000...  \n",
       "3  Boulder, Colorado , U.S. Electropop synth-pop ...  \n",
       "4  5SOS Sydney , New South Wales , Australia Pop ...  "
      ]
     },
     "execution_count": 3,
     "metadata": {},
     "output_type": "execute_result"
    }
   ],
   "source": [
    "raw_data = pd.read_pickle('raw_data.pkl')\n",
    "print('Table 1. Artist Dataset with Sidebar content')\n",
    "print('Shows the first five samples of the dataset')\n",
    "raw_data.head()"
   ]
  },
  {
   "cell_type": "markdown",
   "id": "19c7fa95-c50c-4703-8416-ca18c93413f1",
   "metadata": {
    "tags": []
   },
   "source": [
    "# Methodology\n",
    "\n",
    "Processes included in the methodology is done in the 'IRS_Notebook.ipynb'. Steps for the methodology used is summarized under Figure 1 below:"
   ]
  },
  {
   "cell_type": "markdown",
   "id": "7ab1c3c6-99bf-4357-b5f6-5996a050ad36",
   "metadata": {},
   "source": [
    "Figure 1. Methodology Flowchart\n",
    "![Methodology Flowchart](Methodology_Flowchart.png)"
   ]
  },
  {
   "cell_type": "markdown",
   "id": "ea9c753b-30fd-4c09-81f9-320700ad11d9",
   "metadata": {},
   "source": [
    "## Manual Labelling\n",
    "\n",
    "The artist dataset from Billboard was first labelled accordingly by manual rating. Two raters identified artists who are suitable to be mentors to the query artist. Raters based their rating on their own intuition, while keeping themselves independent from one another. To test the reliability of their ratings, Cohen’s kappa (Eqn. 1) was computed and must have a value of at least 0.5 to qualify.\n",
    "\n",
    "$$\n",
    "{\\displaystyle \\kappa \\equiv {\\frac {p_{o}-p_{e}}{1-p_{e}}}=1-{\\frac {1-p_{o}}{1-p_{e}}}}\n",
    "$$\n",
    "<center>Equation 1. Cohen's Kappa</center>\n",
    "<br>\n",
    "Once the two sets of ratings were qualified, labels were set for each artist by random using the function np.random.choice(). With this method, artists that both raters identified as mentors or not will be set as is, while artists that only one of the two raters identified as a mentor will have a 50% chance of being part of the list of mentors."
   ]
  },
  {
   "cell_type": "markdown",
   "id": "fd66cbdb-bdf3-4368-9690-751e0248962c",
   "metadata": {},
   "source": [
    "## Tokenization\n",
    "\n",
    "The sidebar content was additionally processed using a function ‘remove_parentheses’ that removes any instance of a parentheses inside either dataframe and replaces it with an empty string.  This was done to remove unnecessary or redundant information inside the dataframes.\n",
    "\n",
    "The dataframes were prepared by the team, after which TF-IDF vectorization was implemented. TF-IDF, which stands for Term Frequency-Inverse Document Frequency is a numerical statistic that is reflective of the importance of a word in a document within a collection or corpus. In cases such as this, which involve information retrieval. It is used for normalizing text data in regard to the importance or relevance of words within documents. The frequencies of terms that appear frequently across all documents are reduced, while the importance of terms that are rare across the corpus but frequent in individual documents is increased. This approach is helpful for classification and clustering down the line.\n",
    "\n",
    "The function ‘TfidfVectorizer()’ was taken from the sklearn package and stored in a parameter named ‘vectorizer’ for convenience when calling it. The new matrices were then converted into a single array, ‘bow_matrix’ and ‘target_matrix’ respectively, following vectorization. These vectorized data were then utilized to train the model. Following the training, the model's performance was evaluated using a confusion matrix. A detailed breakdown of the model’s predictions versus actual classifications was provided by this, highlighting true positives, false negatives, true negatives, and false negatives."
   ]
  },
  {
   "cell_type": "code",
   "execution_count": 4,
   "id": "13aa290b-8dac-468a-8e25-6214e27a136f",
   "metadata": {
    "execution": {
     "iopub.execute_input": "2023-11-24T11:12:55.034075Z",
     "iopub.status.busy": "2023-11-24T11:12:55.033836Z",
     "iopub.status.idle": "2023-11-24T11:12:55.077043Z",
     "shell.execute_reply": "2023-11-24T11:12:55.075969Z",
     "shell.execute_reply.started": "2023-11-24T11:12:55.034054Z"
    },
    "tags": []
   },
   "outputs": [
    {
     "name": "stdout",
     "output_type": "stream",
     "text": [
      "Table 2. Data Matrix from Wikipedia Sidebar Content of Billboard Top 100 Year-End Artists\n",
      "Shows the first five rows of the data matrix\n"
     ]
    },
    {
     "data": {
      "text/html": [
       "<div>\n",
       "<style scoped>\n",
       "    .dataframe tbody tr th:only-of-type {\n",
       "        vertical-align: middle;\n",
       "    }\n",
       "\n",
       "    .dataframe tbody tr th {\n",
       "        vertical-align: top;\n",
       "    }\n",
       "\n",
       "    .dataframe thead th {\n",
       "        text-align: right;\n",
       "    }\n",
       "</style>\n",
       "<table border=\"1\" class=\"dataframe\">\n",
       "  <thead>\n",
       "    <tr style=\"text-align: right;\">\n",
       "      <th></th>\n",
       "      <th>000</th>\n",
       "      <th>01</th>\n",
       "      <th>06</th>\n",
       "      <th>10</th>\n",
       "      <th>100</th>\n",
       "      <th>1017</th>\n",
       "      <th>10k</th>\n",
       "      <th>11</th>\n",
       "      <th>12</th>\n",
       "      <th>121</th>\n",
       "      <th>...</th>\n",
       "      <th>étienne</th>\n",
       "      <th>þórhallsson</th>\n",
       "      <th>ˈxæːlɪd</th>\n",
       "      <th>ぼうだんしょうねんだん</th>\n",
       "      <th>少年</th>\n",
       "      <th>朴載</th>\n",
       "      <th>防弾少年団</th>\n",
       "      <th>防彈</th>\n",
       "      <th>방탄</th>\n",
       "      <th>소년</th>\n",
       "    </tr>\n",
       "  </thead>\n",
       "  <tbody>\n",
       "    <tr>\n",
       "      <th>0</th>\n",
       "      <td>0.0</td>\n",
       "      <td>0.0</td>\n",
       "      <td>0.0</td>\n",
       "      <td>0.0</td>\n",
       "      <td>0.0</td>\n",
       "      <td>0.0</td>\n",
       "      <td>0.0</td>\n",
       "      <td>0.0</td>\n",
       "      <td>0.171228</td>\n",
       "      <td>0.0</td>\n",
       "      <td>...</td>\n",
       "      <td>0.0</td>\n",
       "      <td>0.0</td>\n",
       "      <td>0.0</td>\n",
       "      <td>0.0</td>\n",
       "      <td>0.0</td>\n",
       "      <td>0.0</td>\n",
       "      <td>0.0</td>\n",
       "      <td>0.0</td>\n",
       "      <td>0.0</td>\n",
       "      <td>0.0</td>\n",
       "    </tr>\n",
       "    <tr>\n",
       "      <th>1</th>\n",
       "      <td>0.0</td>\n",
       "      <td>0.0</td>\n",
       "      <td>0.0</td>\n",
       "      <td>0.0</td>\n",
       "      <td>0.0</td>\n",
       "      <td>0.0</td>\n",
       "      <td>0.0</td>\n",
       "      <td>0.0</td>\n",
       "      <td>0.000000</td>\n",
       "      <td>0.0</td>\n",
       "      <td>...</td>\n",
       "      <td>0.0</td>\n",
       "      <td>0.0</td>\n",
       "      <td>0.0</td>\n",
       "      <td>0.0</td>\n",
       "      <td>0.0</td>\n",
       "      <td>0.0</td>\n",
       "      <td>0.0</td>\n",
       "      <td>0.0</td>\n",
       "      <td>0.0</td>\n",
       "      <td>0.0</td>\n",
       "    </tr>\n",
       "    <tr>\n",
       "      <th>2</th>\n",
       "      <td>0.0</td>\n",
       "      <td>0.0</td>\n",
       "      <td>0.0</td>\n",
       "      <td>0.0</td>\n",
       "      <td>0.0</td>\n",
       "      <td>0.0</td>\n",
       "      <td>0.0</td>\n",
       "      <td>0.0</td>\n",
       "      <td>0.000000</td>\n",
       "      <td>0.0</td>\n",
       "      <td>...</td>\n",
       "      <td>0.0</td>\n",
       "      <td>0.0</td>\n",
       "      <td>0.0</td>\n",
       "      <td>0.0</td>\n",
       "      <td>0.0</td>\n",
       "      <td>0.0</td>\n",
       "      <td>0.0</td>\n",
       "      <td>0.0</td>\n",
       "      <td>0.0</td>\n",
       "      <td>0.0</td>\n",
       "    </tr>\n",
       "    <tr>\n",
       "      <th>3</th>\n",
       "      <td>0.0</td>\n",
       "      <td>0.0</td>\n",
       "      <td>0.0</td>\n",
       "      <td>0.0</td>\n",
       "      <td>0.0</td>\n",
       "      <td>0.0</td>\n",
       "      <td>0.0</td>\n",
       "      <td>0.0</td>\n",
       "      <td>0.000000</td>\n",
       "      <td>0.0</td>\n",
       "      <td>...</td>\n",
       "      <td>0.0</td>\n",
       "      <td>0.0</td>\n",
       "      <td>0.0</td>\n",
       "      <td>0.0</td>\n",
       "      <td>0.0</td>\n",
       "      <td>0.0</td>\n",
       "      <td>0.0</td>\n",
       "      <td>0.0</td>\n",
       "      <td>0.0</td>\n",
       "      <td>0.0</td>\n",
       "    </tr>\n",
       "    <tr>\n",
       "      <th>4</th>\n",
       "      <td>0.0</td>\n",
       "      <td>0.0</td>\n",
       "      <td>0.0</td>\n",
       "      <td>0.0</td>\n",
       "      <td>0.0</td>\n",
       "      <td>0.0</td>\n",
       "      <td>0.0</td>\n",
       "      <td>0.0</td>\n",
       "      <td>0.000000</td>\n",
       "      <td>0.0</td>\n",
       "      <td>...</td>\n",
       "      <td>0.0</td>\n",
       "      <td>0.0</td>\n",
       "      <td>0.0</td>\n",
       "      <td>0.0</td>\n",
       "      <td>0.0</td>\n",
       "      <td>0.0</td>\n",
       "      <td>0.0</td>\n",
       "      <td>0.0</td>\n",
       "      <td>0.0</td>\n",
       "      <td>0.0</td>\n",
       "    </tr>\n",
       "  </tbody>\n",
       "</table>\n",
       "<p>5 rows × 5227 columns</p>\n",
       "</div>"
      ],
      "text/plain": [
       "   000   01   06   10  100  1017  10k   11        12  121  ...  étienne  \\\n",
       "0  0.0  0.0  0.0  0.0  0.0   0.0  0.0  0.0  0.171228  0.0  ...      0.0   \n",
       "1  0.0  0.0  0.0  0.0  0.0   0.0  0.0  0.0  0.000000  0.0  ...      0.0   \n",
       "2  0.0  0.0  0.0  0.0  0.0   0.0  0.0  0.0  0.000000  0.0  ...      0.0   \n",
       "3  0.0  0.0  0.0  0.0  0.0   0.0  0.0  0.0  0.000000  0.0  ...      0.0   \n",
       "4  0.0  0.0  0.0  0.0  0.0   0.0  0.0  0.0  0.000000  0.0  ...      0.0   \n",
       "\n",
       "   þórhallsson  ˈxæːlɪd  ぼうだんしょうねんだん   少年   朴載  防弾少年団   防彈   방탄   소년  \n",
       "0          0.0      0.0          0.0  0.0  0.0    0.0  0.0  0.0  0.0  \n",
       "1          0.0      0.0          0.0  0.0  0.0    0.0  0.0  0.0  0.0  \n",
       "2          0.0      0.0          0.0  0.0  0.0    0.0  0.0  0.0  0.0  \n",
       "3          0.0      0.0          0.0  0.0  0.0    0.0  0.0  0.0  0.0  \n",
       "4          0.0      0.0          0.0  0.0  0.0    0.0  0.0  0.0  0.0  \n",
       "\n",
       "[5 rows x 5227 columns]"
      ]
     },
     "execution_count": 4,
     "metadata": {},
     "output_type": "execute_result"
    }
   ],
   "source": [
    "bow_matrix = pd.read_pickle('bow.pkl')\n",
    "print('Table 2. Data Matrix from Wikipedia Sidebar Content of Billboard'\n",
    "      ' Top 100 Year-End Artists')\n",
    "print('Shows the first five rows of the data matrix')\n",
    "bow_matrix.head()"
   ]
  },
  {
   "cell_type": "code",
   "execution_count": 5,
   "id": "648d21c6-f876-4552-87d7-ab0d8f513841",
   "metadata": {
    "execution": {
     "iopub.execute_input": "2023-11-24T11:12:55.078441Z",
     "iopub.status.busy": "2023-11-24T11:12:55.078169Z",
     "iopub.status.idle": "2023-11-24T11:12:55.102898Z",
     "shell.execute_reply": "2023-11-24T11:12:55.101853Z",
     "shell.execute_reply.started": "2023-11-24T11:12:55.078418Z"
    },
    "tags": []
   },
   "outputs": [
    {
     "name": "stdout",
     "output_type": "stream",
     "text": [
      "Table 3. Target Vector from Wikipedia Sidebar Content of Query Artist\n",
      "Shows the Target Vector\n"
     ]
    },
    {
     "data": {
      "text/html": [
       "<div>\n",
       "<style scoped>\n",
       "    .dataframe tbody tr th:only-of-type {\n",
       "        vertical-align: middle;\n",
       "    }\n",
       "\n",
       "    .dataframe tbody tr th {\n",
       "        vertical-align: top;\n",
       "    }\n",
       "\n",
       "    .dataframe thead th {\n",
       "        text-align: right;\n",
       "    }\n",
       "</style>\n",
       "<table border=\"1\" class=\"dataframe\">\n",
       "  <thead>\n",
       "    <tr style=\"text-align: right;\">\n",
       "      <th></th>\n",
       "      <th>000</th>\n",
       "      <th>01</th>\n",
       "      <th>06</th>\n",
       "      <th>10</th>\n",
       "      <th>100</th>\n",
       "      <th>1017</th>\n",
       "      <th>10k</th>\n",
       "      <th>11</th>\n",
       "      <th>12</th>\n",
       "      <th>121</th>\n",
       "      <th>...</th>\n",
       "      <th>étienne</th>\n",
       "      <th>þórhallsson</th>\n",
       "      <th>ˈxæːlɪd</th>\n",
       "      <th>ぼうだんしょうねんだん</th>\n",
       "      <th>少年</th>\n",
       "      <th>朴載</th>\n",
       "      <th>防弾少年団</th>\n",
       "      <th>防彈</th>\n",
       "      <th>방탄</th>\n",
       "      <th>소년</th>\n",
       "    </tr>\n",
       "  </thead>\n",
       "  <tbody>\n",
       "    <tr>\n",
       "      <th>0</th>\n",
       "      <td>0.0</td>\n",
       "      <td>0.0</td>\n",
       "      <td>0.0</td>\n",
       "      <td>0.0</td>\n",
       "      <td>0.0</td>\n",
       "      <td>0.0</td>\n",
       "      <td>0.0</td>\n",
       "      <td>0.0</td>\n",
       "      <td>0.0</td>\n",
       "      <td>0.0</td>\n",
       "      <td>...</td>\n",
       "      <td>0.0</td>\n",
       "      <td>0.0</td>\n",
       "      <td>0.0</td>\n",
       "      <td>0.0</td>\n",
       "      <td>0.0</td>\n",
       "      <td>0.0</td>\n",
       "      <td>0.0</td>\n",
       "      <td>0.0</td>\n",
       "      <td>0.0</td>\n",
       "      <td>0.0</td>\n",
       "    </tr>\n",
       "  </tbody>\n",
       "</table>\n",
       "<p>1 rows × 5227 columns</p>\n",
       "</div>"
      ],
      "text/plain": [
       "   000   01   06   10  100  1017  10k   11   12  121  ...  étienne  \\\n",
       "0  0.0  0.0  0.0  0.0  0.0   0.0  0.0  0.0  0.0  0.0  ...      0.0   \n",
       "\n",
       "   þórhallsson  ˈxæːlɪd  ぼうだんしょうねんだん   少年   朴載  防弾少年団   防彈   방탄   소년  \n",
       "0          0.0      0.0          0.0  0.0  0.0    0.0  0.0  0.0  0.0  \n",
       "\n",
       "[1 rows x 5227 columns]"
      ]
     },
     "execution_count": 5,
     "metadata": {},
     "output_type": "execute_result"
    }
   ],
   "source": [
    "target_vector = pd.read_pickle('target.pkl')\n",
    "print('Table 3. Target Vector from Wikipedia Sidebar Content of Query Artist')\n",
    "print('Shows the Target Vector')\n",
    "target_vector"
   ]
  },
  {
   "cell_type": "markdown",
   "id": "0e2dc355-79a8-4339-bead-bcabf4ce1017",
   "metadata": {},
   "source": [
    "## Information Retrieval System\n",
    "\n",
    "The team utilized a method to retrieve the k most similar elements from the corpus to the target, using Cosine distance as the measure. The information taken from the sidebar of the top 100 artists’ Wikipedia page was specifically compared to the queried artists. Similarities were found here, and the most similar ones were matched to them as potential coaches.\n",
    "\n",
    "The function ‘dcos’ was created by the team to compute the cosine distance between two vectors (‘vec1’ and ‘vec2’). In the case where these vectors are matrices, an array of cosine distances for corresponding rows is returned. Cosine distance is a key metric in this context, as it effectively measures the similarity between two artists’ profiles.\n",
    "\n",
    "\n",
    "Cosine distance was particularly suitable for the study as it focuses on the orientation of the vectors rather than their magnitude. Since the vectors represent the frequency of terms in the sidebar texts, cosine distance allows the team to compare the directionality of these vectors—in other words, the overall pattern of word usage in the sidebars—rather than just the sheer number of terms, which can be misleading due to varying lengths or details in sidebars.\n",
    "\n",
    "The function was then evaluated through ‘get_confusion’. This function generates a confusion matrix from the actual classification category of an artist, their indices returned by the similarity search, and the complete set of possible classification categories (all_labels). The matrix is structured to track four types of outcomes in classification: \n",
    "\n",
    "- True Positives (TP): Instances where the model correctly identifies an artist as belonging to a particular category.\n",
    "- False Positives (FP): Instances where the model incorrectly identifies an artist as belonging to a particular category.\n",
    "- True Negatives (TN): Instances where the model correctly identifies that an artist does not belong to a particular category.\n",
    "- False Negatives (FN): Instances where the model fails to identify an artist as belonging to a particular category.\n",
    "\n",
    "\n",
    "The confusion matrix is a vital tool in assessing the accuracy and effectiveness of the classification process in the study. It assists the team in understanding how well the model differentiates between artists based on their profile similarities. \n",
    "\n",
    "By calculating the cosine distance between the vector of an upcoming artist and those of the Billboard Top 100 artists, it is possible to identify which established artists have the most similar Wikipedia sidebar content. A higher degree of similarity in their profiles, indicating potential commonalities in their musical styles, backgrounds, or public images, is suggested by a lower cosine distance between an upcoming artist and a Billboard artist. This method enables effective grouping of upcoming artists with well-established ones, based on the similarity of their publicly available information."
   ]
  },
  {
   "cell_type": "markdown",
   "id": "4f8218a0-9c4d-4d10-9b6b-04f65c19045b",
   "metadata": {},
   "source": [
    "The results of the information retrieval system will be evaluated using the Precision and Recall metrics. Equations 2 and 3 shows the precision and recall formulae.\n",
    "\n",
    "$$P = \\frac{r}{k} = \\frac{TP}{TP + FP}$$\n",
    "<center>Equation 2. Precision</center>\n",
    "<br>\n",
    "$$R = \\frac{r}{n} = \\frac{TP}{TP + FN}$$\n",
    "<center>Equation 3. Recall</center>\n",
    "<br>\n",
    "F-measure, as shown in Equation 4, will also be calculated for a single score that represents both Precision and Recall. An F-measure with beta=0.3 will be used to focus on precision rather than recall. In getting a mentor for the query artist, false positives are considered more important than false negatives since the number of possible mentors can be numerous but would be hard to filter if the shortlist is too big. Having a more precise information retrieval system is then deemed more important.\n",
    "$$F_\\beta = (1 + \\beta^2) \\cdot \\frac{P \\cdot R}{(\\beta^2 \\cdot P) + R}$$\n",
    "<center>Equation 4. F-measure</center>\n",
    "<br>\n",
    "Finally, the information retrieval system will be evaluated by graphing the Precision-Recall (PR) Curve to give a look at the performance at all k's possible."
   ]
  },
  {
   "cell_type": "markdown",
   "id": "c598364b-9281-4809-8122-641b83222e62",
   "metadata": {},
   "source": [
    "# Results"
   ]
  },
  {
   "cell_type": "markdown",
   "id": "9154040b-15f9-4fd8-a58c-4f105202438e",
   "metadata": {},
   "source": [
    "Cohen's kappa was computed with the help of Idostatistics. The computed Cohen’s Kappa for the reliability rating between the two raters is 0.57 therefore both raters are moderately in agreement with one another. The computed score is above our set threshold of 0.5 which qualifies the ratings done.\n",
    "\n",
    "The generated list of 31 mentors based on the methodology above is listed below:\n",
    "\n",
    "- Adele\n",
    "- Alicia Keys\n",
    "- Amy Winehouse\n",
    "- Anderson .Paak\n",
    "- Becky G\n",
    "- Bruno Mars\n",
    "- Capital Cities\n",
    "- Celine Dion\n",
    "- Coldplay\n",
    "- Florence + The Machine\n",
    "- H.E.R.\n",
    "- Hozier\n",
    "- Jason Mraz\n",
    "- Joji\n",
    "- Josh Groban\n",
    "- Lady Gaga\n",
    "- Lana Del Rey\n",
    "- Lauv\n",
    "- Lorde\n",
    "- Mac Miller\n",
    "- Michael Buble\n",
    "- Natasha Bedingfield\n",
    "- Norah Jones\n",
    "- Pentatonix\n",
    "- Sade\n",
    "- Sam Smith\n",
    "- Sara Bareilles\n",
    "- Steve Lacy\n",
    "- Susan Boyle\n",
    "- Trans-Siberian Orchestra\n",
    "- Troye Sivan\n",
    "\n",
    "The mentor labelling are added to the raw data."
   ]
  },
  {
   "cell_type": "code",
   "execution_count": 6,
   "id": "5f4fb625-6762-41fc-bbdf-aa59ce8bf133",
   "metadata": {
    "execution": {
     "iopub.execute_input": "2023-11-24T11:12:55.104281Z",
     "iopub.status.busy": "2023-11-24T11:12:55.104051Z",
     "iopub.status.idle": "2023-11-24T11:12:55.121546Z",
     "shell.execute_reply": "2023-11-24T11:12:55.120560Z",
     "shell.execute_reply.started": "2023-11-24T11:12:55.104260Z"
    },
    "tags": []
   },
   "outputs": [
    {
     "name": "stdout",
     "output_type": "stream",
     "text": [
      "Table 4. Raw Dataset with Mentor Labels\n"
     ]
    },
    {
     "data": {
      "text/html": [
       "<div>\n",
       "<style scoped>\n",
       "    .dataframe tbody tr th:only-of-type {\n",
       "        vertical-align: middle;\n",
       "    }\n",
       "\n",
       "    .dataframe tbody tr th {\n",
       "        vertical-align: top;\n",
       "    }\n",
       "\n",
       "    .dataframe thead th {\n",
       "        text-align: right;\n",
       "    }\n",
       "</style>\n",
       "<table border=\"1\" class=\"dataframe\">\n",
       "  <thead>\n",
       "    <tr style=\"text-align: right;\">\n",
       "      <th></th>\n",
       "      <th>URL</th>\n",
       "      <th>Name</th>\n",
       "      <th>Scraped_Sidebar</th>\n",
       "      <th>content</th>\n",
       "      <th>mentor</th>\n",
       "    </tr>\n",
       "  </thead>\n",
       "  <tbody>\n",
       "    <tr>\n",
       "      <th>0</th>\n",
       "      <td>https://en.wikipedia.org/wiki/2_Chainz</td>\n",
       "      <td>2 Chainz</td>\n",
       "      <td>{'Born': 'Tauheed K. Epps ( 1977-09-12 ) Septe...</td>\n",
       "      <td>Tauheed K. Epps ( 1977-09-12 ) September 12, 1...</td>\n",
       "      <td>0.0</td>\n",
       "    </tr>\n",
       "    <tr>\n",
       "      <th>1</th>\n",
       "      <td>https://en.wikipedia.org/wiki/21_Savage</td>\n",
       "      <td>21 Savage</td>\n",
       "      <td>{'Birth name': 'Shéyaa Bin Abraham-Joseph', 'B...</td>\n",
       "      <td>Shéyaa Bin Abraham-Joseph ( 1992-10-22 ) Octob...</td>\n",
       "      <td>0.0</td>\n",
       "    </tr>\n",
       "    <tr>\n",
       "      <th>2</th>\n",
       "      <td>https://en.wikipedia.org/wiki/24kGoldn</td>\n",
       "      <td>24kGoldn</td>\n",
       "      <td>{'Birth name': 'Golden Landis Von Jones', 'Als...</td>\n",
       "      <td>Golden Landis Von Jones Goldn El Dorado ( 2000...</td>\n",
       "      <td>0.0</td>\n",
       "    </tr>\n",
       "    <tr>\n",
       "      <th>3</th>\n",
       "      <td>https://en.wikipedia.org/wiki/3OH!3</td>\n",
       "      <td>3OH!3</td>\n",
       "      <td>{'Origin': 'Boulder, Colorado , U.S.', 'Genres...</td>\n",
       "      <td>Boulder, Colorado , U.S. Electropop synth-pop ...</td>\n",
       "      <td>0.0</td>\n",
       "    </tr>\n",
       "    <tr>\n",
       "      <th>4</th>\n",
       "      <td>https://en.wikipedia.org/wiki/5_Seconds_Of_Summer</td>\n",
       "      <td>5 Seconds Of Summer</td>\n",
       "      <td>{'Also known as': '5SOS', 'Origin': 'Sydney , ...</td>\n",
       "      <td>5SOS Sydney , New South Wales , Australia Pop ...</td>\n",
       "      <td>0.0</td>\n",
       "    </tr>\n",
       "  </tbody>\n",
       "</table>\n",
       "</div>"
      ],
      "text/plain": [
       "                                                 URL                 Name  \\\n",
       "0             https://en.wikipedia.org/wiki/2_Chainz             2 Chainz   \n",
       "1            https://en.wikipedia.org/wiki/21_Savage            21 Savage   \n",
       "2             https://en.wikipedia.org/wiki/24kGoldn             24kGoldn   \n",
       "3                https://en.wikipedia.org/wiki/3OH!3                3OH!3   \n",
       "4  https://en.wikipedia.org/wiki/5_Seconds_Of_Summer  5 Seconds Of Summer   \n",
       "\n",
       "                                     Scraped_Sidebar  \\\n",
       "0  {'Born': 'Tauheed K. Epps ( 1977-09-12 ) Septe...   \n",
       "1  {'Birth name': 'Shéyaa Bin Abraham-Joseph', 'B...   \n",
       "2  {'Birth name': 'Golden Landis Von Jones', 'Als...   \n",
       "3  {'Origin': 'Boulder, Colorado , U.S.', 'Genres...   \n",
       "4  {'Also known as': '5SOS', 'Origin': 'Sydney , ...   \n",
       "\n",
       "                                             content  mentor  \n",
       "0  Tauheed K. Epps ( 1977-09-12 ) September 12, 1...     0.0  \n",
       "1  Shéyaa Bin Abraham-Joseph ( 1992-10-22 ) Octob...     0.0  \n",
       "2  Golden Landis Von Jones Goldn El Dorado ( 2000...     0.0  \n",
       "3  Boulder, Colorado , U.S. Electropop synth-pop ...     0.0  \n",
       "4  5SOS Sydney , New South Wales , Australia Pop ...     0.0  "
      ]
     },
     "execution_count": 6,
     "metadata": {},
     "output_type": "execute_result"
    }
   ],
   "source": [
    "raw_labelled = pd.read_pickle('raw_with_labels.pkl')\n",
    "print('Table 4. Raw Dataset with Mentor Labels')\n",
    "raw_labelled.head()"
   ]
  },
  {
   "cell_type": "markdown",
   "id": "69b2b56a-8a2c-4c49-8d88-e72b65633904",
   "metadata": {},
   "source": [
    "The results of the information retrieval system is shown below:"
   ]
  },
  {
   "cell_type": "code",
   "execution_count": 7,
   "id": "956ea83b-81a9-482b-a9da-97cfc78ee442",
   "metadata": {
    "execution": {
     "iopub.execute_input": "2023-11-24T11:12:55.123988Z",
     "iopub.status.busy": "2023-11-24T11:12:55.123603Z",
     "iopub.status.idle": "2023-11-24T11:12:55.135168Z",
     "shell.execute_reply": "2023-11-24T11:12:55.133997Z",
     "shell.execute_reply.started": "2023-11-24T11:12:55.123966Z"
    },
    "tags": []
   },
   "outputs": [
    {
     "name": "stdout",
     "output_type": "stream",
     "text": [
      "Table 5. Result of Information Retrieval\n",
      "Shows the retrieved results when k=5\n"
     ]
    },
    {
     "data": {
      "text/html": [
       "<div>\n",
       "<style scoped>\n",
       "    .dataframe tbody tr th:only-of-type {\n",
       "        vertical-align: middle;\n",
       "    }\n",
       "\n",
       "    .dataframe tbody tr th {\n",
       "        vertical-align: top;\n",
       "    }\n",
       "\n",
       "    .dataframe thead th {\n",
       "        text-align: right;\n",
       "    }\n",
       "</style>\n",
       "<table border=\"1\" class=\"dataframe\">\n",
       "  <thead>\n",
       "    <tr style=\"text-align: right;\">\n",
       "      <th></th>\n",
       "      <th>Name</th>\n",
       "      <th>mentor</th>\n",
       "    </tr>\n",
       "  </thead>\n",
       "  <tbody>\n",
       "    <tr>\n",
       "      <th>422</th>\n",
       "      <td>Steve Lacy</td>\n",
       "      <td>1.0</td>\n",
       "    </tr>\n",
       "    <tr>\n",
       "      <th>257</th>\n",
       "      <td>Lauv</td>\n",
       "      <td>1.0</td>\n",
       "    </tr>\n",
       "    <tr>\n",
       "      <th>341</th>\n",
       "      <td>Norah Jones</td>\n",
       "      <td>1.0</td>\n",
       "    </tr>\n",
       "    <tr>\n",
       "      <th>137</th>\n",
       "      <td>Em Beihold</td>\n",
       "      <td>0.0</td>\n",
       "    </tr>\n",
       "    <tr>\n",
       "      <th>369</th>\n",
       "      <td>Pop Smoke</td>\n",
       "      <td>0.0</td>\n",
       "    </tr>\n",
       "  </tbody>\n",
       "</table>\n",
       "</div>"
      ],
      "text/plain": [
       "            Name  mentor\n",
       "422   Steve Lacy     1.0\n",
       "257         Lauv     1.0\n",
       "341  Norah Jones     1.0\n",
       "137   Em Beihold     0.0\n",
       "369    Pop Smoke     0.0"
      ]
     },
     "execution_count": 7,
     "metadata": {},
     "output_type": "execute_result"
    }
   ],
   "source": [
    "print('Table 5. Result of Information Retrieval')\n",
    "print('Shows the retrieved results when k=5')\n",
    "pd.read_pickle('result.pkl')"
   ]
  },
  {
   "cell_type": "markdown",
   "id": "849e4cea-f07b-4a87-8bc9-98f249a5cd8f",
   "metadata": {},
   "source": [
    "The following are the artists returned by the Information Retrieval system:\n",
    "\n",
    "**Steve Lacy** is an American musician, singer, songwriter, and record producer known for his work as the guitarist for the band The Internet. He has also pursued a solo career with a focus on R&B and funk. His song “Bad Habit” reached number one on the Billboard Hot 100 after going viral on TikTok in 2022 (Billboard, 2022). He is signed under AWAL, the same recording label as Laufey.\n",
    "\n",
    "**Lauv**, whose real name is Ari Staprans Leff, is an American singer, songwriter, and record producer who peaked at 35 on the Billboard Hot 100 in 2018 with his song “I Like Me Better” (Billboard, 2018). He is known for his pop and electronic-influenced sound and has gained popularity for songs exploring themes of love and mental health. He is signed under AWAL, the same recording label as Laufey.\n",
    "\n",
    "**Norah Jones** is an American singer, songwriter, and pianist known for her soulful jazz and contemporary style. She gained widespread acclaim with her 2002 debut album \"Come Away with Me\", whose track topped the Billboard 200 at No. 1. Her 2016 album “Day Breaks” peaked at No. 1 on Billboard’s Top Jazz Album charts as well (Billboard, n.d.). She and Laufey are both artists in the jazz genre. Interesting to note is Laufey’s 2023 holiday collaboration single with Norah Jones, “Christmas With You”, which features a cover of “Have Yourself a Merry Little Christmas” as well as an original track by the two (Norah Jones official website, 2023).\n",
    "\n",
    "**Em Beihold** is a new American singer-songwriter best known for her 2022 single “Numb Little Bug”, which ranked 32nd on the Billboard Hot 100 after going viral on TikTok in June of the same year. She and Laufey are both artists in the pop genre. Both have collaborated with singer-songwriter Stephen Sanchez, each performing a rendition of his single “Until I Found You” with him (Billboard, 2023; Restu prasetyo Adi, 2023).\n",
    "\n",
    "**Pop Smoke** was an American rapper and songwriter known for his contributions to the drill music genre, which is a subgenre of hip hop. His sleeper hit “Dior” was 83rd on the year-end Billboard Hot 100 for 2020. Warner Chappell Music signed a co-publishing deal with his estate four months after his murder (Variety, 2020). Laufey signed a global publishing deal with the same publisher in August 2023."
   ]
  },
  {
   "cell_type": "markdown",
   "id": "d2f7b01f-41cf-41a3-9891-f8ad22ff11a2",
   "metadata": {},
   "source": [
    "To evaluate the accuracy of the retrieved results, a confusion matrix was created. The confusion matrix as shown in table 6 shows that out of the 505 artists in our dataset, the top three retrieved artists are true positives, while the other two artists retrieved were false positives. Meanwhile, 28 other mentors that are still in the database and were not considered to be part of the results. Finally, 472 artists that were not tagged as mentors were not retrieved by the system."
   ]
  },
  {
   "cell_type": "code",
   "execution_count": 8,
   "id": "4489f2dc-e21a-45f6-94fd-9b887d244578",
   "metadata": {
    "execution": {
     "iopub.execute_input": "2023-11-24T11:12:55.136402Z",
     "iopub.status.busy": "2023-11-24T11:12:55.136180Z",
     "iopub.status.idle": "2023-11-24T11:12:55.345273Z",
     "shell.execute_reply": "2023-11-24T11:12:55.343064Z",
     "shell.execute_reply.started": "2023-11-24T11:12:55.136382Z"
    },
    "tags": []
   },
   "outputs": [
    {
     "name": "stdout",
     "output_type": "stream",
     "text": [
      "Table 6. Confusion Matrix from retrieved results\n",
      "Shows the confusion matrix from retrieved results when k=5\n"
     ]
    },
    {
     "data": {
      "text/html": [
       "<div>\n",
       "<style scoped>\n",
       "    .dataframe tbody tr th:only-of-type {\n",
       "        vertical-align: middle;\n",
       "    }\n",
       "\n",
       "    .dataframe tbody tr th {\n",
       "        vertical-align: top;\n",
       "    }\n",
       "\n",
       "    .dataframe thead th {\n",
       "        text-align: right;\n",
       "    }\n",
       "</style>\n",
       "<table border=\"1\" class=\"dataframe\">\n",
       "  <thead>\n",
       "    <tr style=\"text-align: right;\">\n",
       "      <th></th>\n",
       "      <th>relevant</th>\n",
       "      <th>irrelevant</th>\n",
       "    </tr>\n",
       "  </thead>\n",
       "  <tbody>\n",
       "    <tr>\n",
       "      <th>relevant</th>\n",
       "      <td>3</td>\n",
       "      <td>2</td>\n",
       "    </tr>\n",
       "    <tr>\n",
       "      <th>irrelevant</th>\n",
       "      <td>28</td>\n",
       "      <td>472</td>\n",
       "    </tr>\n",
       "  </tbody>\n",
       "</table>\n",
       "</div>"
      ],
      "text/plain": [
       "            relevant  irrelevant\n",
       "relevant           3           2\n",
       "irrelevant        28         472"
      ]
     },
     "execution_count": 8,
     "metadata": {},
     "output_type": "execute_result"
    }
   ],
   "source": [
    "print('Table 6. Confusion Matrix from retrieved results')\n",
    "print('Shows the confusion matrix from retrieved results when k=5')\n",
    "conf_mat = get_confusion(1, nearest_k(target_vector, bow_matrix, 5, dcos),\n",
    "                         raw_labelled['mentor'])\n",
    "conf_mat"
   ]
  },
  {
   "cell_type": "markdown",
   "id": "212d8829-0370-4b0e-84ef-43b1b4848115",
   "metadata": {},
   "source": [
    "By using the equations 2 & 3 , we can calculate the precision and recall of the system respectively. With five artists retrieved, the calculated precision of the system is 0.6, while the recall is at 0.097\n",
    "\n",
    "To understand the capability of the information retrieval system further, the area under the Precision-Recall curve was calculated. The AUC-PR of the information retrieval system show in figure 2 had a value of 0.2179 while the F-measure for the result of k=5 is 0.4198."
   ]
  },
  {
   "cell_type": "code",
   "execution_count": 9,
   "id": "ab69fa6e-3f5e-405c-90d5-9e0b88510648",
   "metadata": {
    "execution": {
     "iopub.execute_input": "2023-11-24T11:12:55.348691Z",
     "iopub.status.busy": "2023-11-24T11:12:55.347992Z",
     "iopub.status.idle": "2023-11-24T11:12:56.279788Z",
     "shell.execute_reply": "2023-11-24T11:12:56.278727Z",
     "shell.execute_reply.started": "2023-11-24T11:12:55.348630Z"
    },
    "tags": []
   },
   "outputs": [
    {
     "name": "stdout",
     "output_type": "stream",
     "text": [
      "Figure 2. Precision-Recall Curve\n",
      "F-measure: 0.4198\n",
      "AUC-PR: 0.2179\n"
     ]
    },
    {
     "data": {
      "image/png": "[encoded data removed]",
      "text/plain": [
       "<Figure size 640x480 with 1 Axes>"
      ]
     },
     "metadata": {},
     "output_type": "display_data"
    }
   ],
   "source": [
    "print('Figure 2. Precision-Recall Curve')\n",
    "f_m = f_measure(precision(conf_mat), recall(conf_mat), beta=0.3)\n",
    "print(\n",
    "    f'F-measure: {f_m:.4f}'\n",
    ")\n",
    "auc = auc_pr(target_vector, bow_matrix, dcos, 1,\n",
    "             raw_labelled['mentor'].to_list())\n",
    "print(\n",
    "    f'AUC-PR: {auc:.4f}')\n",
    "pr_curve(target_vector, bow_matrix, dcos, 1, raw_labelled['mentor'].to_list());"
   ]
  },
  {
   "cell_type": "markdown",
   "id": "ce3b4ffc-ea47-4e21-8dee-272fab055719",
   "metadata": {},
   "source": [
    "The curve shown in figure 2 retains a high precision when k is low, and quickly dips afterwards. The curve shows that after getting the top 3 artists which were true positives, the next 28 mentors were spread out until k reaches the maximum."
   ]
  },
  {
   "cell_type": "markdown",
   "id": "b62ddb67-0063-4f55-9e00-d626276e5972",
   "metadata": {},
   "source": [
    "# Conclusion\n",
    "\n",
    "In this study an innovative approach was taken to facilitate mentorship in the music industry, leveraging Billboard’s Year End Top Artists data and Wikipedia. A mentorship model was devised, aimed at pairing emerging artists with established ones. Advanced data processing techniques including tokenization, TF-IDF vectorization, and cosine distance measurements, were employed to identify potential mentors for these new artists, with a focus on strategic navigation inside the music industry.\n",
    "\n",
    "The robustness of the model was ensured through manual labelling and inter-rater reliability checks, resulting in a list of potential mentors. The accuracy of this model was demonstrated by precision and recall metrics. A moderate agreement among raters in identifying suitable mentors was indicated by a Cohen’s Kappa score of 0.57. This validation process led to the identification of 31 appropriate mentors.\n",
    "\n",
    "Among the five results of the information retrieval system, three have been labelled as mentors by our raters. Steve Lacey and Lauv, the first two results, are in the same record label as Laufey which enables them to promote the record label further. Meanwhile, the top 3 artist, Norah Jones, has recently collaborated with Laufey in a mini-EP which also positions her as a possible choice for being a mentor given their relationship.\n",
    "\n",
    "The effectiveness of the information retrieval system was evaluated using a confusion matrix. The system exhibited a precision of 0.6 and a recall rate of 0.0097. The Precision-Recall curve showed high precision for top-ranked mentor-mentee matches, but a sharp decrease in precision was noted beyond the top three matches. The area under the PR curve calculated at 0.2179 and suggested significant room for improrvement in the model.\n",
    "\n",
    "Despite these promising findings, limitations were noted, such as potential biases stemming from reliance on publicly available data and the dynamic nature of the music industry Future research could enhance these findings by incorporating more diverse data sources, such as audio attributes from  Spotify, song lyrics from Genius, and a comprehensive analysis of Wikipedia content. The study lay the groundwork for further exploration into artist development and marketing strategies in the music industry."
   ]
  },
  {
   "cell_type": "markdown",
   "id": "a0374377-8aac-453d-8068-f1f69243042c",
   "metadata": {},
   "source": [
    "# References\n",
    "\n",
    "- Billboard. (2018). Hot 100 Songs - Year-End 2022. Retrieved November 24, 2023 from https://www.billboard.com/charts/year-end/2018/hot-100-songs/\n",
    "- Billboard. (2022, October 3). Steve Lacy's 'Bad Habit' Enters Hot 100. Retrieved November 24, 2023 from https://www.billboard.com/music/chart-beat/steve-lacy-bad-habit-hot-100-sam-smith-kim-petras-glorilla-cardi-b-1235149114/\n",
    "- Billboard. (2020). Hot 100 Songs - Year-End 2022. Retrieved November 24, 2023 from https://www.billboard.com/charts/year-end/2020/hot-100-songs/\n",
    "- Billboard. (2022, June). Em Beihold on 'Numb Little Bug' and Her Breakout Moment | Chartbreaker Interview. Retrieved November 24, 2023 from https://www.billboard.com/music/pop/em-beihold-numb-little-bug-billboard-june-2022-chartbreaker-interview-1235081333/\n",
    "- Billboard. (2022). Hot 100 Songs - Year-End 2022. Retrieved November 24, 2023 from \n",
    "https://www.billboard.com/charts/year-end/2022/hot-100-songs/\n",
    "- Billboard. (n.d.). Norah Jones - Artist. Retrieved November 24, 2023 from https://www.billboard.com/artist/norah-jones/\n",
    "Harris, A. (2023, April 23). The Story Behind \"Until I Found You\": How Stephen Sanchez and Em Beihold Created a Viral Country Pop Hit. Neon Music. Retrieved November 24, 2023 from https://neonmusic.co.uk/the-story-behind-until-i-found-you-how-stephen-sanchez-and-em-beihold-created-a-viral-country-pop-hit\n",
    "- Jones, N. (2023, November 8). Norah Jones & Laufey Collaborate on a Cozy Pair of New Holiday Songs: Christmas with You. Norah Jones Official Website. Retrieved November 24, 2023 from https://www.norahjones.com/news-1/2023/11/8/norah-jones-amp-laufey-collaborate-on-a-cozy-pair-of-new-holiday-songs-christmas-with-you\n",
    "- Restu prasetyo Adi. (2023, June 3). Until i found you - Stephen Sanchez (Live at Java Jazz Festival 2023, Jakarta) [Video]. Retrieved November 24, 2023 from https://www.youtube.com/watch?v=xQ5D4vd6_ik\n",
    "- Variety Staff. (2020, June 2). Pop Smoke Estate Signs Global Publishing Deal With Warner Chappell Publishing. Variety. Retrieved November 24, 2023 from https://variety.com/2020/music/news/pop-smoke-estate-warner-chappell-publishing-1234637739/\n",
    "\n",
    "- Wikimedia Foundation. (2022, October 5). Main page. Wikipedia. https://en.wikipedia.org/wiki/Main_Page \n",
    "\n",
    "- Cohen’s kappa free calculator – IDoStatistics. (n.d.). Idostatistics.Com. Retrieved November 24, 2023, from https://idostatistics.com/cohen-kappa-free-calculator/#risultati\n"
   ]
  },
  {
   "cell_type": "code",
   "execution_count": null,
   "id": "ccf29581-e8bf-48fb-9542-f3605d3c41c0",
   "metadata": {},
   "outputs": [],
   "source": []
  }
 ],
 "metadata": {
  "kernelspec": {
   "display_name": "Python 3 (ipykernel)",
   "language": "python",
   "name": "python3"
  },
  "language_info": {
   "codemirror_mode": {
    "name": "ipython",
    "version": 3
   },
   "file_extension": ".py",
   "mimetype": "text/x-python",
   "name": "python",
   "nbconvert_exporter": "python",
   "pygments_lexer": "ipython3",
   "version": "3.9.12"
  }
 },
 "nbformat": 4,
 "nbformat_minor": 5
}
