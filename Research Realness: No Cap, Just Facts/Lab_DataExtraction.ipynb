{
 "cells": [
  {
   "cell_type": "markdown",
   "id": "a5063fdb-20b5-4866-ada8-758648413508",
   "metadata": {},
   "source": [
    "# DATA EXTRACTION"
   ]
  },
  {
   "cell_type": "code",
   "execution_count": 1,
   "id": "3d85f8a8-ed18-4abf-bb87-d4a2eb95ff68",
   "metadata": {
    "execution": {
     "iopub.execute_input": "2024-05-14T02:35:13.871549Z",
     "iopub.status.busy": "2024-05-14T02:35:13.870880Z",
     "iopub.status.idle": "2024-05-14T02:35:14.222321Z",
     "shell.execute_reply": "2024-05-14T02:35:14.221825Z",
     "shell.execute_reply.started": "2024-05-14T02:35:13.871484Z"
    }
   },
   "outputs": [],
   "source": [
    "from pyspark.sql import SparkSession\n",
    "from pyspark.sql.types import (StructType, StructField, StringType,\n",
    "BooleanType, LongType, DoubleType, ArrayType, FloatType)\n",
    "from pyspark.sql import functions as F"
   ]
  },
  {
   "cell_type": "code",
   "execution_count": 2,
   "id": "c66c35c5-01c3-4093-86dc-6ca666651630",
   "metadata": {
    "execution": {
     "iopub.execute_input": "2024-05-14T02:35:14.223481Z",
     "iopub.status.busy": "2024-05-14T02:35:14.223197Z",
     "iopub.status.idle": "2024-05-14T02:35:17.465572Z",
     "shell.execute_reply": "2024-05-14T02:35:17.464027Z",
     "shell.execute_reply.started": "2024-05-14T02:35:14.223461Z"
    }
   },
   "outputs": [],
   "source": [
    "spark = (SparkSession\n",
    "     .builder\n",
    "     .master('local[*]')\n",
    "     .getOrCreate())"
   ]
  },
  {
   "cell_type": "markdown",
   "id": "5aec6fcd-beae-4e25-a0fa-23ecebbc3bb8",
   "metadata": {
    "execution": {
     "iopub.execute_input": "2024-05-09T09:35:34.460176Z",
     "iopub.status.busy": "2024-05-09T09:35:34.459537Z",
     "iopub.status.idle": "2024-05-09T09:35:34.480557Z",
     "shell.execute_reply": "2024-05-09T09:35:34.478705Z",
     "shell.execute_reply.started": "2024-05-09T09:35:34.460118Z"
    }
   },
   "source": [
    "This schema was acquired by loading a dataset and through https://docs.openalex.org/api-entities/works/work-object"
   ]
  },
  {
   "cell_type": "code",
   "execution_count": 3,
   "id": "1079d154-0491-44b2-857d-9892fcb6955c",
   "metadata": {
    "execution": {
     "iopub.execute_input": "2024-05-14T02:35:17.470020Z",
     "iopub.status.busy": "2024-05-14T02:35:17.469373Z",
     "iopub.status.idle": "2024-05-14T02:35:17.489586Z",
     "shell.execute_reply": "2024-05-14T02:35:17.488791Z",
     "shell.execute_reply.started": "2024-05-14T02:35:17.469954Z"
    }
   },
   "outputs": [],
   "source": [
    "schema = StructType([\n",
    "    StructField(\"authorships\", ArrayType(\n",
    "        StructType([\n",
    "            StructField(\"author\", StructType([\n",
    "                StructField(\"display_name\", StringType(), True),\n",
    "                StructField(\"id\", StringType(), True),\n",
    "                StructField(\"orcid\", StringType(), True)\n",
    "            ]), True),\n",
    "            StructField(\"author_position\", StringType(), True),\n",
    "            StructField(\"institutions\", ArrayType(\n",
    "                StructType([\n",
    "                    StructField(\"country_code\", StringType(), True),\n",
    "                    StructField(\"display_name\", StringType(), True),\n",
    "                    StructField(\"id\", StringType(), True),\n",
    "                    StructField(\"ror\", StringType(), True),\n",
    "                    StructField(\"type\", StringType(), True)\n",
    "                ])\n",
    "            ), True),\n",
    "            StructField(\"raw_affiliation_string\", StringType(), True)\n",
    "        ])\n",
    "    ), True),\n",
    "    StructField(\"cited_by_count\", LongType(), True),\n",
    "    StructField(\"concepts\", ArrayType(\n",
    "        StructType([\n",
    "            StructField(\"display_name\", StringType(), True),\n",
    "            StructField(\"id\", StringType(), True),\n",
    "            StructField(\"level\", LongType(), True),\n",
    "            StructField(\"score\", DoubleType(), True),\n",
    "            StructField(\"wikidata\", StringType(), True)\n",
    "        ])\n",
    "    ), True),\n",
    "    StructField(\"counts_by_year\", ArrayType(\n",
    "        StructType([\n",
    "            StructField(\"cited_by_count\", LongType(), True),\n",
    "            StructField(\"year\", LongType(), True)\n",
    "        ])\n",
    "    ), True),\n",
    "    StructField(\"created_date\", StringType(), True),\n",
    "    StructField(\"display_name\", StringType(), True),\n",
    "    StructField(\"doi\", StringType(), True),\n",
    "    StructField(\"host_venue\", StructType([\n",
    "        StructField(\"display_name\", StringType(), True),\n",
    "        StructField(\"id\", StringType(), True),\n",
    "        StructField(\"is_oa\", BooleanType(), True),\n",
    "        StructField(\"issn\", ArrayType(StringType()), True),\n",
    "        StructField(\"issn_l\", StringType(), True),\n",
    "        StructField(\"license\", StringType(), True),\n",
    "        StructField(\"publisher\", StringType(), True),\n",
    "        StructField(\"type\", StringType(), True),\n",
    "        StructField(\"url\", StringType(), True),\n",
    "        StructField(\"version\", StringType(), True)\n",
    "    ]), True),\n",
    "    StructField(\"id\", StringType(), True),\n",
    "    StructField(\"publication_date\", StringType(), True),\n",
    "    StructField(\"corresponding_institution_ids\", StringType(), True),\n",
    "    StructField(\"publication_year\", LongType(), True),\n",
    "    StructField(\"title\", StringType(), True),\n",
    "    StructField(\"type\", StringType(), True),\n",
    "    StructField(\"updated_date\", StringType(), True),\n",
    "    StructField(\"language\", StringType(), True)\n",
    "])\n"
   ]
  },
  {
   "cell_type": "code",
   "execution_count": 4,
   "id": "8afadbfc-24d1-4f78-91c7-4d344dc2a67a",
   "metadata": {
    "execution": {
     "iopub.execute_input": "2024-05-14T02:35:17.490981Z",
     "iopub.status.busy": "2024-05-14T02:35:17.490664Z",
     "iopub.status.idle": "2024-05-14T02:35:17.498800Z",
     "shell.execute_reply": "2024-05-14T02:35:17.498004Z",
     "shell.execute_reply.started": "2024-05-14T02:35:17.490950Z"
    }
   },
   "outputs": [],
   "source": [
    "subfield_schema = StructType([\n",
    "    StructField(\"id\", StringType(), True),\n",
    "    StructField(\"display_name\", StringType(), True)\n",
    "])\n",
    "\n",
    "# Define the primary topic schema which is a nested structure itself\n",
    "primary_topic_schema = StructType([\n",
    "    StructField(\"id\", StringType(), True),\n",
    "    StructField(\"display_name\", StringType(), True),\n",
    "    StructField(\"score\", FloatType(), True),\n",
    "    StructField(\"subfield\", subfield_schema, True),  # Nested structure for subfield\n",
    "    StructField(\"field\", subfield_schema, True),     # Reusing schema for field\n",
    "    StructField(\"domain\", subfield_schema, True)     # Reusing schema for domain\n",
    "])\n",
    "\n",
    "topic_schema = StructType([\n",
    "    StructField(\"id\", StringType(), True),\n",
    "    StructField(\"display_name\", StringType(), True),\n",
    "    StructField(\"score\", FloatType(), True),\n",
    "    StructField(\"subfield\", subfield_schema, True),\n",
    "    StructField(\"field\", subfield_schema, True),\n",
    "    StructField(\"domain\", subfield_schema, True)\n",
    "])\n",
    "\n",
    "sdg_schema = StructType([\n",
    "    StructField(\"id\", StringType(), True),\n",
    "    StructField(\"display_name\", StringType(), True),\n",
    "    StructField(\"score\", FloatType(), True)\n",
    "])\n",
    "\n",
    "key_schema = StructType([\n",
    "    StructField(\"id\", StringType(), True),\n",
    "    StructField(\"display_name\", StringType(), True),\n",
    "    StructField(\"score\", FloatType(), True)\n",
    "])\n"
   ]
  },
  {
   "cell_type": "code",
   "execution_count": 5,
   "id": "a58f96d5-50c3-41c1-9faf-952563a3f150",
   "metadata": {
    "execution": {
     "iopub.execute_input": "2024-05-14T02:35:17.502876Z",
     "iopub.status.busy": "2024-05-14T02:35:17.501942Z",
     "iopub.status.idle": "2024-05-14T02:35:17.509873Z",
     "shell.execute_reply": "2024-05-14T02:35:17.508746Z",
     "shell.execute_reply.started": "2024-05-14T02:35:17.502818Z"
    }
   },
   "outputs": [],
   "source": [
    "new_schema = StructType(schema.fields + [\n",
    "    StructField(\"primary_topic\", primary_topic_schema, True),\n",
    "    StructField(\"sustainable_development_goals\", ArrayType(sdg_schema), True),\n",
    "    StructField(\"topics\", ArrayType(topic_schema), True),\n",
    "    StructField(\"keywords\", ArrayType(key_schema), True)\n",
    "])"
   ]
  },
  {
   "cell_type": "markdown",
   "id": "b0c4704c-e23f-4fbf-9e00-299ea7a116d2",
   "metadata": {},
   "source": [
    "For the sake of fatser run time, we will be using all the updated works of march 27, 2024. Moreover we will be using one dataset as an representative for understanding and preprocessing the data later on."
   ]
  },
  {
   "cell_type": "code",
   "execution_count": 6,
   "id": "61096808-3acb-4c01-b5aa-cffc7e6e72eb",
   "metadata": {
    "execution": {
     "iopub.execute_input": "2024-05-14T02:35:17.512393Z",
     "iopub.status.busy": "2024-05-14T02:35:17.511592Z",
     "iopub.status.idle": "2024-05-14T02:35:19.796724Z",
     "shell.execute_reply": "2024-05-14T02:35:19.794757Z",
     "shell.execute_reply.started": "2024-05-14T02:35:17.512333Z"
    }
   },
   "outputs": [],
   "source": [
    "oa = spark.read.schema(new_schema).json('/mnt/data/public/openalex/data/'\n",
    "                                        'works/updated_date=2024-03-27/*')"
   ]
  },
  {
   "cell_type": "markdown",
   "id": "6df970b4-926a-43ab-b1a8-b41ea8784e3d",
   "metadata": {},
   "source": [
    "Base from our problem statement, we will only be using the follow columns:\n",
    "\n",
    "| Variable                                         | Description                                            |\n",
    "|--------------------------------------------------|--------------------------------------------------------|\n",
    "| title                                            | Title of the work                                      |\n",
    "| authorships.author.id                            | Identification of the authors                          |\n",
    "| authorships.author_position                      | Position of the author                                 |\n",
    "| publication_year                                 | Publication year of the work                           |\n",
    "| corresponding_institution_ids                    | Institution where it was published                     |\n",
    "| type                                             | Type of work                                           |\n",
    "| primary_topic.field.display_name                 | Field of the published work                            |\n",
    "| primary_topic.domain.display_name                | Domain of the published work                           |\n",
    "| primary_topic.score                              | Score of the published work                            |\n",
    "| sustainable_development_goals.display_name       | Corresponding Sustainable Development Goals            |\n",
    "| sustainable_development_goals.score              | Score of Sustainable Development Goals                 |\n",
    "| keywords.display_name                            | Keywords related to this study                         |\n",
    "| updated_date                                     | Date of the update of this work                        |"
   ]
  },
  {
   "cell_type": "code",
   "execution_count": 10,
   "id": "06bbc600-d20d-4569-96aa-c79e6c4130ad",
   "metadata": {
    "execution": {
     "iopub.execute_input": "2024-05-10T07:59:17.515922Z",
     "iopub.status.busy": "2024-05-10T07:59:17.515261Z",
     "iopub.status.idle": "2024-05-10T07:59:17.594827Z",
     "shell.execute_reply": "2024-05-10T07:59:17.593463Z",
     "shell.execute_reply.started": "2024-05-10T07:59:17.515866Z"
    }
   },
   "outputs": [],
   "source": [
    "df_oa = (oa.select(F.col('title'),\n",
    "                         F.col('authorships.author.id').alias('author_id'),\n",
    "                         F.col('authorships.author_position').alias(\n",
    "                             'author_pos'),\n",
    "                         F.col('publication_year'),\n",
    "                         F.col('corresponding_institution_ids').alias(\n",
    "                             'inst_id'),\n",
    "                         F.col('type'),\n",
    "                         F.col('primary_topic.field.display_name').alias(\n",
    "                             'field'),\n",
    "                         F.col('primary_topic.domain.display_name').alias(\n",
    "                             'domain'),\n",
    "                         F.col('primary_topic.score').alias('primary_score'),\n",
    "                         F.col('sustainable_development_goals.display_name')\n",
    "                         .alias('sgd_name'),\n",
    "                         F.col('sustainable_development_goals.score').alias(\n",
    "                             'sgd_score'),\n",
    "                         F.col('keywords.display_name').alias('keywords'),\n",
    "                         F.col('updated_date'),\n",
    "                     F.col('language'),\n",
    "                     F.col('cited_by_count')))"
   ]
  },
  {
   "cell_type": "markdown",
   "id": "89895fa9-cd41-4ecc-bbd1-06fa5bd30c9a",
   "metadata": {},
   "source": [
    "Save to parquent <br>\n",
    "note. the code was comment out because it is for writing a parquet file, if you want to create the parquet file, then uncomment it."
   ]
  },
  {
   "cell_type": "code",
   "execution_count": 20,
   "id": "315c5247-d668-4882-8b0e-869564c423f5",
   "metadata": {
    "execution": {
     "iopub.execute_input": "2024-05-09T17:20:47.345116Z",
     "iopub.status.busy": "2024-05-09T17:20:47.344218Z",
     "iopub.status.idle": "2024-05-09T17:20:47.351771Z",
     "shell.execute_reply": "2024-05-09T17:20:47.349776Z",
     "shell.execute_reply.started": "2024-05-09T17:20:47.345080Z"
    }
   },
   "outputs": [],
   "source": [
    "# (df_final.write.parquet('oa', mode='overwrite',\n",
    "#                      partitionBy=['publication_year', 'domain']))"
   ]
  },
  {
   "cell_type": "markdown",
   "id": "8dd1267c-9c8b-4583-98e3-383a7f50af15",
   "metadata": {},
   "source": [
    "### Data Understanding and Preprocessing"
   ]
  },
  {
   "cell_type": "code",
   "execution_count": 6,
   "id": "17aab21b-6c5b-416a-a149-dd854891fef4",
   "metadata": {
    "execution": {
     "iopub.execute_input": "2024-05-10T07:58:28.055448Z",
     "iopub.status.busy": "2024-05-10T07:58:28.054790Z",
     "iopub.status.idle": "2024-05-10T07:58:47.344744Z",
     "shell.execute_reply": "2024-05-10T07:58:47.343867Z",
     "shell.execute_reply.started": "2024-05-10T07:58:28.055389Z"
    }
   },
   "outputs": [],
   "source": [
    "df_oa = spark.read.parquet('oa')"
   ]
  },
  {
   "cell_type": "markdown",
   "id": "1c218111-5930-487b-860a-644e34fbc26c",
   "metadata": {
    "execution": {
     "iopub.execute_input": "2024-05-09T16:03:34.392666Z",
     "iopub.status.busy": "2024-05-09T16:03:34.391276Z",
     "iopub.status.idle": "2024-05-09T16:03:34.400519Z",
     "shell.execute_reply": "2024-05-09T16:03:34.398807Z",
     "shell.execute_reply.started": "2024-05-09T16:03:34.392598Z"
    }
   },
   "source": [
    "Let's look at the column `title`"
   ]
  },
  {
   "cell_type": "code",
   "execution_count": 4,
   "id": "a8da7a6d-7c78-4815-b10b-eb810298ebab",
   "metadata": {
    "execution": {
     "iopub.execute_input": "2024-05-09T17:21:49.438417Z",
     "iopub.status.busy": "2024-05-09T17:21:49.436413Z",
     "iopub.status.idle": "2024-05-09T17:23:20.758261Z",
     "shell.execute_reply": "2024-05-09T17:23:20.756801Z",
     "shell.execute_reply.started": "2024-05-09T17:21:49.438205Z"
    }
   },
   "outputs": [
    {
     "name": "stdout",
     "output_type": "stream",
     "text": [
      "+-----------------+------+\n",
      "|            title| count|\n",
      "+-----------------+------+\n",
      "|             NULL|116504|\n",
      "|     Introduction| 16957|\n",
      "|      Frontmatter| 13287|\n",
      "|  Editorial Board| 11702|\n",
      "|         Contents|  8593|\n",
      "|            Index|  8112|\n",
      "|        Editorial|  7275|\n",
      "|     Front Matter|  7083|\n",
      "|          Preface|  6311|\n",
      "|Table of Contents|  6137|\n",
      "| [Not Available].|  5720|\n",
      "|Issue Information|  4554|\n",
      "|         Masthead|  3612|\n",
      "|          Erratum|  3518|\n",
      "|  Acknowledgments|  3434|\n",
      "|     Book Reviews|  3409|\n",
      "|            Notes|  3307|\n",
      "|       Conclusion|  3156|\n",
      "|     Bibliography|  2995|\n",
      "|           Inhalt|  2840|\n",
      "+-----------------+------+\n",
      "only showing top 20 rows\n",
      "\n"
     ]
    }
   ],
   "source": [
    "df_oa.groupBy('title').count().orderBy(F.desc('count')).show()"
   ]
  },
  {
   "cell_type": "markdown",
   "id": "ea539b63-2f2b-4aaa-8f5f-2b94cfdea87a",
   "metadata": {},
   "source": [
    "Looking from the result above it turns out not all titles are work titles and since this is a title, it should be unique, hence we will all drop all duplicates. Moreover as per the answers from the forum in researchgate, a title should have at least 5 words, therefore we will drop all rows that has less than 5 words."
   ]
  },
  {
   "cell_type": "markdown",
   "id": "21dc5a8e-e179-4764-8ddd-21438106e21d",
   "metadata": {},
   "source": [
    "Lets look on the `publication_year`"
   ]
  },
  {
   "cell_type": "code",
   "execution_count": 5,
   "id": "ea076839-e303-4bf3-9ac3-fd1e2f879834",
   "metadata": {
    "execution": {
     "iopub.execute_input": "2024-05-09T17:23:25.117619Z",
     "iopub.status.busy": "2024-05-09T17:23:25.115807Z",
     "iopub.status.idle": "2024-05-09T17:24:17.717883Z",
     "shell.execute_reply": "2024-05-09T17:24:17.716934Z",
     "shell.execute_reply.started": "2024-05-09T17:23:25.117514Z"
    }
   },
   "outputs": [
    {
     "name": "stdout",
     "output_type": "stream",
     "text": [
      "+----------------+------+\n",
      "|publication_year| count|\n",
      "+----------------+------+\n",
      "|            2025|    49|\n",
      "|            2024| 59570|\n",
      "|            2023|384246|\n",
      "+----------------+------+\n",
      "only showing top 3 rows\n",
      "\n"
     ]
    }
   ],
   "source": [
    "df_oa.groupby('publication_year').count().orderBy(F.desc('publication_year')).show(3)"
   ]
  },
  {
   "cell_type": "code",
   "execution_count": 9,
   "id": "cbbbfe44-2f95-46aa-9376-9ba73e681d1d",
   "metadata": {
    "execution": {
     "iopub.execute_input": "2024-05-09T17:25:37.171764Z",
     "iopub.status.busy": "2024-05-09T17:25:37.170928Z",
     "iopub.status.idle": "2024-05-09T17:26:32.852594Z",
     "shell.execute_reply": "2024-05-09T17:26:32.851551Z",
     "shell.execute_reply.started": "2024-05-09T17:25:37.171547Z"
    }
   },
   "outputs": [
    {
     "name": "stdout",
     "output_type": "stream",
     "text": [
      "+----------------+-----+\n",
      "|publication_year|count|\n",
      "+----------------+-----+\n",
      "|              21|    1|\n",
      "|            1400|    2|\n",
      "|            1451|    1|\n",
      "|            1482|    1|\n",
      "|            1487|    1|\n",
      "+----------------+-----+\n",
      "only showing top 5 rows\n",
      "\n"
     ]
    }
   ],
   "source": [
    "df_oa.groupby('publication_year').count().orderBy(F.asc('publication_year')).show(5)"
   ]
  },
  {
   "cell_type": "markdown",
   "id": "fcd14ce2-e5be-45b4-a7f4-b5880933e75d",
   "metadata": {},
   "source": [
    "It seemms that we have some wide range of publication year, let us look into those earlier years"
   ]
  },
  {
   "cell_type": "code",
   "execution_count": 11,
   "id": "2489194f-9b85-482a-a4d3-2aaa440e94f8",
   "metadata": {
    "execution": {
     "iopub.execute_input": "2024-05-09T17:26:50.084884Z",
     "iopub.status.busy": "2024-05-09T17:26:50.084267Z",
     "iopub.status.idle": "2024-05-09T17:26:50.247412Z",
     "shell.execute_reply": "2024-05-09T17:26:50.245917Z",
     "shell.execute_reply.started": "2024-05-09T17:26:50.084829Z"
    }
   },
   "outputs": [
    {
     "name": "stdout",
     "output_type": "stream",
     "text": [
      "+------------------------------------------------------------------------------------------------------------------------------------+\n",
      "|title                                                                                                                               |\n",
      "+------------------------------------------------------------------------------------------------------------------------------------+\n",
      "|dummyReport of the ISC2006 Open Symposium “The Sumatra earthquake and tsunami in the Indian Ocean and tsunami-related sedimentology”|\n",
      "|dummyNovel purification of vitronectin from human plasma by heparin affinity chromatography.                                        |\n",
      "|dummyUpper Triassic and Lower Jurassic fluvial and eolian deposits, Zion National Park, Utah, U.S.A.                                |\n",
      "|dummyThe 17th International Sedimentological Congress (ISC2006) was held in Fukuoka Japan from August 27 to September 1, 2006       |\n",
      "|[رباعی حافظ] /                                                                                                                      |\n",
      "|[رباعی به مناسبت عید].                                                                                                              |\n",
      "|[نصیحت به یک پادشاه از \"بوستان\" سعدی] /                                                                                             |\n",
      "|dummyMemorial: Professor Percival Allen                                                                                             |\n",
      "|[رباعی در رحمت الهی] /                                                                                                              |\n",
      "|[اشعار دیوان نظامی] /                                                                                                               |\n",
      "|dummyA report on “International Conference on DELTAS (Borneo venue)”; Brunei Darussalam, January, 2006                              |\n",
      "|[دو بیتی تواضع].                                                                                                                    |\n",
      "|dummyReport of the ISC2006 FUKUOKA :                                                                                                |\n",
      "+------------------------------------------------------------------------------------------------------------------------------------+\n",
      "\n"
     ]
    }
   ],
   "source": [
    "df_oa.select(F.col('title')).filter(F.col('publication_year') == 1500).show(truncate=False)"
   ]
  },
  {
   "cell_type": "markdown",
   "id": "2cfb3cd9-1c97-4121-a12e-ab7cc7e18f79",
   "metadata": {},
   "source": [
    "it seems that earlier publication dates, make sense since there are some mixture or mistakes, in this case, we will only consider publication year from 20th century onwards. "
   ]
  },
  {
   "cell_type": "code",
   "execution_count": 15,
   "id": "8b422e90-1f4d-41da-8b42-48675090dc07",
   "metadata": {
    "execution": {
     "iopub.execute_input": "2024-05-09T17:28:43.790573Z",
     "iopub.status.busy": "2024-05-09T17:28:43.789947Z",
     "iopub.status.idle": "2024-05-09T17:28:43.798921Z",
     "shell.execute_reply": "2024-05-09T17:28:43.797299Z",
     "shell.execute_reply.started": "2024-05-09T17:28:43.790518Z"
    }
   },
   "outputs": [
    {
     "name": "stdout",
     "output_type": "stream",
     "text": [
      "root\n",
      " |-- title: string (nullable = true)\n",
      " |-- author_id: array (nullable = true)\n",
      " |    |-- element: string (containsNull = true)\n",
      " |-- author_pos: array (nullable = true)\n",
      " |    |-- element: string (containsNull = true)\n",
      " |-- inst_id: string (nullable = true)\n",
      " |-- type: string (nullable = true)\n",
      " |-- field: string (nullable = true)\n",
      " |-- primary_score: float (nullable = true)\n",
      " |-- sgd_name: array (nullable = true)\n",
      " |    |-- element: string (containsNull = true)\n",
      " |-- sgd_score: array (nullable = true)\n",
      " |    |-- element: float (containsNull = true)\n",
      " |-- keywords: array (nullable = true)\n",
      " |    |-- element: string (containsNull = true)\n",
      " |-- updated_date: string (nullable = true)\n",
      " |-- language: string (nullable = true)\n",
      " |-- publication_year: integer (nullable = true)\n",
      " |-- domain: string (nullable = true)\n",
      "\n"
     ]
    }
   ],
   "source": [
    "df_oa.printSchema()"
   ]
  },
  {
   "cell_type": "markdown",
   "id": "cf8346c5-814c-427c-b2e6-b360daaebb1a",
   "metadata": {},
   "source": [
    "Lets look at the columns `author_id` and `inst_id`"
   ]
  },
  {
   "cell_type": "code",
   "execution_count": 19,
   "id": "8021d044-579c-4ff2-a219-b4b2285426ca",
   "metadata": {
    "execution": {
     "iopub.execute_input": "2024-05-09T17:30:08.055824Z",
     "iopub.status.busy": "2024-05-09T17:30:08.055427Z",
     "iopub.status.idle": "2024-05-09T17:30:08.252458Z",
     "shell.execute_reply": "2024-05-09T17:30:08.251160Z",
     "shell.execute_reply.started": "2024-05-09T17:30:08.055789Z"
    }
   },
   "outputs": [
    {
     "name": "stdout",
     "output_type": "stream",
     "text": [
      "-RECORD 0-----------------------------------------------------------------------------------------------------------------------------------------------------------------------------------------------------------------------------------------------------------------------------------------------------------------------\n",
      " author_id | [https://openalex.org/A5028090784, https://openalex.org/A5031543940, https://openalex.org/A5031530665, https://openalex.org/A5059057970, https://openalex.org/A5044347263]                                                                                                                                         \n",
      " inst_id   | [\"https://openalex.org/I29457043\"]                                                                                                                                                                                                                                                                                 \n",
      "-RECORD 1-----------------------------------------------------------------------------------------------------------------------------------------------------------------------------------------------------------------------------------------------------------------------------------------------------------------------\n",
      " author_id | [https://openalex.org/A5000272528, https://openalex.org/A5013955099, https://openalex.org/A5047551537, https://openalex.org/A5030662677, https://openalex.org/A5034297355, https://openalex.org/A5028389636, https://openalex.org/A5054131940, https://openalex.org/A5000104012, https://openalex.org/A5010712874] \n",
      " inst_id   | []                                                                                                                                                                                                                                                                                                                 \n",
      "-RECORD 2-----------------------------------------------------------------------------------------------------------------------------------------------------------------------------------------------------------------------------------------------------------------------------------------------------------------------\n",
      " author_id | [https://openalex.org/A5010931290, https://openalex.org/A5003735095, https://openalex.org/A5049225958, https://openalex.org/A5074726938, https://openalex.org/A5019229785, https://openalex.org/A5084447268]                                                                                                       \n",
      " inst_id   | [\"https://openalex.org/I12097938\"]                                                                                                                                                                                                                                                                                 \n",
      "-RECORD 3-----------------------------------------------------------------------------------------------------------------------------------------------------------------------------------------------------------------------------------------------------------------------------------------------------------------------\n",
      " author_id | [https://openalex.org/A5066792431, https://openalex.org/A5025543820, https://openalex.org/A5015166186]                                                                                                                                                                                                             \n",
      " inst_id   | [\"https://openalex.org/I15062923\"]                                                                                                                                                                                                                                                                                 \n",
      "-RECORD 4-----------------------------------------------------------------------------------------------------------------------------------------------------------------------------------------------------------------------------------------------------------------------------------------------------------------------\n",
      " author_id | [https://openalex.org/A5065726352, https://openalex.org/A5088835852, https://openalex.org/A5089308754, https://openalex.org/A5013273035, https://openalex.org/A5054413023]                                                                                                                                         \n",
      " inst_id   | []                                                                                                                                                                                                                                                                                                                 \n",
      "only showing top 5 rows\n",
      "\n"
     ]
    }
   ],
   "source": [
    "df_oa.select('author_id', 'inst_id').show(5, False, True)"
   ]
  },
  {
   "cell_type": "markdown",
   "id": "4fa1251d-5a7d-4b3b-bf18-b93e8bac5041",
   "metadata": {},
   "source": [
    "From the schema, the `inst_id` has a string type, despite having an array values, and because of that, we will transform its type into Array. Moreover, from above the value shows the URL directing us to their profile. For simplicity purposes, we will only get the identifier which is the id after `.org/`"
   ]
  },
  {
   "cell_type": "code",
   "execution_count": 22,
   "id": "22eb8701-99cb-484b-b4d9-7c61d3e7a53a",
   "metadata": {
    "execution": {
     "iopub.execute_input": "2024-05-09T17:34:21.660689Z",
     "iopub.status.busy": "2024-05-09T17:34:21.659495Z",
     "iopub.status.idle": "2024-05-09T17:35:20.232334Z",
     "shell.execute_reply": "2024-05-09T17:35:20.231023Z",
     "shell.execute_reply.started": "2024-05-09T17:34:21.660625Z"
    },
    "jp-MarkdownHeadingCollapsed": true
   },
   "outputs": [
    {
     "name": "stdout",
     "output_type": "stream",
     "text": [
      "+--------+--------+\n",
      "|language|   count|\n",
      "+--------+--------+\n",
      "|      en|10128253|\n",
      "|      vi|   16416|\n",
      "|      ne|     118|\n",
      "|      ro|   22267|\n",
      "|      sl|    5129|\n",
      "|      ur|     129|\n",
      "|      lv|    1199|\n",
      "|      pl|   56484|\n",
      "|      sk|    2685|\n",
      "|      pt|  225402|\n",
      "+--------+--------+\n",
      "only showing top 10 rows\n",
      "\n"
     ]
    }
   ],
   "source": [
    "df_oa.select('language').groupby('language').count().show(10)"
   ]
  },
  {
   "cell_type": "markdown",
   "id": "f1ed343c-25a7-4c2b-a77e-3f60a30b0c1c",
   "metadata": {},
   "source": [
    "From above results, it seems that there are multiple published works in different language. Since we are not familiar with some of those, we will limit the publication works into english only."
   ]
  },
  {
   "cell_type": "code",
   "execution_count": 10,
   "id": "71bcd0fb-c022-4b78-a0d1-abd88bdea1b3",
   "metadata": {
    "execution": {
     "iopub.execute_input": "2024-05-10T05:53:09.991949Z",
     "iopub.status.busy": "2024-05-10T05:53:09.990491Z",
     "iopub.status.idle": "2024-05-10T05:53:09.999948Z",
     "shell.execute_reply": "2024-05-10T05:53:09.997984Z",
     "shell.execute_reply.started": "2024-05-10T05:53:09.991884Z"
    }
   },
   "outputs": [],
   "source": [
    "sch = ArrayType(StringType())"
   ]
  },
  {
   "cell_type": "code",
   "execution_count": 11,
   "id": "1a9ded32-820e-448e-b777-03b796dda0c7",
   "metadata": {
    "execution": {
     "iopub.execute_input": "2024-05-10T05:53:10.424038Z",
     "iopub.status.busy": "2024-05-10T05:53:10.423373Z",
     "iopub.status.idle": "2024-05-10T05:53:10.432037Z",
     "shell.execute_reply": "2024-05-10T05:53:10.430693Z",
     "shell.execute_reply.started": "2024-05-10T05:53:10.423982Z"
    }
   },
   "outputs": [],
   "source": [
    "def extract_id(url):\n",
    "    return (F.when(F.regexp_extract(url, \"org/(.*)\", 1) != \"\",\n",
    "                   F.regexp_extract(url, \"org/(.*)\", 1)).otherwise(url))"
   ]
  },
  {
   "cell_type": "code",
   "execution_count": 14,
   "id": "130eaf82-1609-4dc8-bb5b-bf1c75a2f4eb",
   "metadata": {
    "execution": {
     "iopub.execute_input": "2024-05-10T05:54:19.012123Z",
     "iopub.status.busy": "2024-05-10T05:54:19.011483Z",
     "iopub.status.idle": "2024-05-10T05:54:19.428645Z",
     "shell.execute_reply": "2024-05-10T05:54:19.426722Z",
     "shell.execute_reply.started": "2024-05-10T05:54:19.012068Z"
    }
   },
   "outputs": [],
   "source": [
    "df_final = (\n",
    "    df_oa.filter((F.col('publication_year') >= 1901)\n",
    "                 & (F.col('publication_year') <= 2024)\n",
    "                 & (F.col('language') == 'en')\n",
    "                 & (F.size(F.split(F.col('title'), ' ')) >= 5)\n",
    "                 & (F.col('title').isNotNull()))\n",
    "    .withColumn('inst_id', F.from_json(F.col('inst_id'), sch))\n",
    "    .withColumn(\"inst_id\", F.transform(F.col(\"inst_id\"), extract_id))\n",
    "    .withColumn('author_id', F.transform(F.col('author_id'), extract_id))\n",
    "    .dropDuplicates(['title'])\n",
    "    .drop('language')\n",
    "    )"
   ]
  },
  {
   "cell_type": "code",
   "execution_count": 15,
   "id": "52f0e453-5301-4568-917b-774fadc60f28",
   "metadata": {
    "execution": {
     "iopub.execute_input": "2024-05-10T05:54:20.373223Z",
     "iopub.status.busy": "2024-05-10T05:54:20.372071Z",
     "iopub.status.idle": "2024-05-10T06:13:13.030065Z",
     "shell.execute_reply": "2024-05-10T06:13:13.028287Z",
     "shell.execute_reply.started": "2024-05-10T05:54:20.373177Z"
    }
   },
   "outputs": [
    {
     "name": "stdout",
     "output_type": "stream",
     "text": [
      "-RECORD 0------------------------------------------------------------------------------------------------------------------------------\n",
      " title            |  A Closer Look at Non-Uniqueness During Dynamic Data Integration into Reservoir Characterization                   \n",
      " author_id        | [A5024941030, A5031014994, A5072724263]                                                                            \n",
      " author_pos       | [first, middle, last]                                                                                              \n",
      " publication_year | 1998                                                                                                               \n",
      " inst_id          | []                                                                                                                 \n",
      " type             | article                                                                                                            \n",
      " field            | Engineering                                                                                                        \n",
      " domain           | Physical Sciences                                                                                                  \n",
      " primary_score    | 0.9997                                                                                                             \n",
      " sgd_name         | []                                                                                                                 \n",
      " sgd_score        | []                                                                                                                 \n",
      " keywords         | [NULL, NULL]                                                                                                       \n",
      " updated_date     | 2024-03-27T03:41:03.854305                                                                                         \n",
      " cited_by_count   | 5                                                                                                                  \n",
      "-RECORD 1------------------------------------------------------------------------------------------------------------------------------\n",
      " title            |  A Simplified Method for Analyzing Naturally Fractured Reservoirs Based in Mathematical Properties of Type Curves  \n",
      " author_id        | [A5038754203, A5039494985]                                                                                         \n",
      " author_pos       | [first, last]                                                                                                      \n",
      " publication_year | 1994                                                                                                               \n",
      " inst_id          | []                                                                                                                 \n",
      " type             | article                                                                                                            \n",
      " field            | Engineering                                                                                                        \n",
      " domain           | Physical Sciences                                                                                                  \n",
      " primary_score    | 0.9995                                                                                                             \n",
      " sgd_name         | []                                                                                                                 \n",
      " sgd_score        | []                                                                                                                 \n",
      " keywords         | [NULL]                                                                                                             \n",
      " updated_date     | 2024-03-27T05:21:11.918956                                                                                         \n",
      " cited_by_count   | 0                                                                                                                  \n",
      "only showing top 2 rows\n",
      "\n"
     ]
    }
   ],
   "source": [
    "df_final.show(2, truncate=False, vertical=True)"
   ]
  },
  {
   "cell_type": "markdown",
   "id": "e37224ba-8f84-422e-ae50-86a77775d8ca",
   "metadata": {},
   "source": [
    "Finally we can drop the `language` since it has only 1 value"
   ]
  },
  {
   "cell_type": "markdown",
   "id": "9b5d4ce6-0407-4a4f-8be2-74634171c175",
   "metadata": {},
   "source": [
    "Save to parquet <br>\n",
    "note. the code was comment out because it is for writing a parquet file, if you want to create the parquet file, then uncomment it."
   ]
  },
  {
   "cell_type": "code",
   "execution_count": 4,
   "id": "2efca7a2-584b-493d-a060-3428afd2ce7e",
   "metadata": {
    "execution": {
     "iopub.execute_input": "2024-05-15T04:33:17.431708Z",
     "iopub.status.busy": "2024-05-15T04:33:17.431007Z",
     "iopub.status.idle": "2024-05-15T04:33:17.439545Z",
     "shell.execute_reply": "2024-05-15T04:33:17.437805Z",
     "shell.execute_reply.started": "2024-05-15T04:33:17.431635Z"
    },
    "scrolled": true
   },
   "outputs": [],
   "source": [
    "# (df_final.write.parquet('FINAL_OA_1', mode='overwrite',\n",
    "#                   partitionBy=['publication_year', 'domain']))"
   ]
  },
  {
   "cell_type": "code",
   "execution_count": null,
   "id": "4016b769-2fb0-4c69-96e6-7889f6cf36c6",
   "metadata": {},
   "outputs": [],
   "source": []
  }
 ],
 "metadata": {
  "kernelspec": {
   "display_name": "Python 3 (ipykernel)",
   "language": "python",
   "name": "python3"
  },
  "language_info": {
   "codemirror_mode": {
    "name": "ipython",
    "version": 3
   },
   "file_extension": ".py",
   "mimetype": "text/x-python",
   "name": "python",
   "nbconvert_exporter": "python",
   "pygments_lexer": "ipython3",
   "version": "3.11.8"
  }
 },
 "nbformat": 4,
 "nbformat_minor": 5
}
